{
 "cells": [
  {
   "cell_type": "markdown",
   "id": "312f0115-10af-4b90-a3ca-a1e68abe9479",
   "metadata": {},
   "source": [
    "# Import the GEE API and Authenticate "
   ]
  },
  {
   "cell_type": "code",
   "execution_count": 5,
   "id": "c64ec6f6-e5a2-4020-9b15-f5f48a0f78fc",
   "metadata": {},
   "outputs": [],
   "source": [
    "import ee, geemap\n",
    "# import geopandas as gpd\n",
    "# Authenticate the earthengine with credentials\n",
    "ee.Initialize()"
   ]
  },
  {
   "cell_type": "code",
   "execution_count": 3,
   "id": "5f2a0ed3-4d3b-4d6b-abd1-89cda6f6e65c",
   "metadata": {},
   "outputs": [],
   "source": [
    "# Import request package later used for Downloading data\n",
    "import requests"
   ]
  },
  {
   "cell_type": "markdown",
   "id": "b8dc3efb-5fca-4ac7-837e-f194e4ddf0b5",
   "metadata": {},
   "source": [
    "# Import data for declaration of area of interest (AOI)"
   ]
  },
  {
   "cell_type": "code",
   "execution_count": 6,
   "id": "36674453-929d-477f-a6f1-da4c963856ed",
   "metadata": {},
   "outputs": [],
   "source": [
    "# get our Nepal boundary\n",
    "# I have taken level 0 data for country data from FAO datasets\n",
    "\n",
    "# aoi = ee.FeatureCollection(\"FAO/GAUL/2015/level0\") \\\n",
    "#    .filter(ee.Filter.eq('ADM0_NAME','Nepal')).geometry() # adjust indentation here, May get error\n",
    "\n",
    "# i am taking shapefile for plain areas of Nepal\n",
    "study_area_shp = 'shapefile/terai.shp'\n",
    "aoi = geemap.shp_to_ee(study_area_shp).geometry()\n"
   ]
  },
  {
   "cell_type": "markdown",
   "id": "5cc76a3d-da14-41e3-816f-4ec43b7a61cb",
   "metadata": {},
   "source": [
    "# Define starting and ending year of study (Both year Inclusive)"
   ]
  },
  {
   "cell_type": "code",
   "execution_count": 7,
   "id": "b36876f3-27ad-40af-bdc4-7a359d185d91",
   "metadata": {},
   "outputs": [],
   "source": [
    "# Longer the duration, Longer it will take for Processing and downloading of Images\n",
    "StartDate = '2015-01-01'\n",
    "EndDate = '2021-12-31'"
   ]
  },
  {
   "cell_type": "markdown",
   "id": "d5f566f0-7318-4b58-b3ef-abd5d873847d",
   "metadata": {},
   "source": [
    "# Filter Image for desired time series\n",
    "## We are combining data from 2 sensors of MODIS (Terra ANd Aqua)"
   ]
  },
  {
   "cell_type": "code",
   "execution_count": 9,
   "id": "ee3bd11b-42cd-454d-a6e8-a66b01211c34",
   "metadata": {},
   "outputs": [],
   "source": [
    "# add satellite time series: MODIS EVI 250m 16 day -------------\n",
    "# terra sensor\n",
    "collectionModEvi_terra = ee.ImageCollection('MODIS/006/MOD13Q1').filterDate(StartDate,EndDate) \\\n",
    "    .filterBounds(aoi)\\\n",
    "    .select('EVI')\n",
    "\n",
    "# Aqua sensor\n",
    "collectionModEvi_aqua = ee.ImageCollection('MODIS/061/MYD13Q1').filterDate(StartDate,EndDate) \\\n",
    "    .filterBounds(aoi)\\\n",
    "    .select('EVI');\n",
    "\n",
    "collectionModEvi = collectionModEvi_terra.merge(collectionModEvi_aqua)\n",
    "# THis will provide us 250 m of EVI datasets from MODIS on 8 day interval"
   ]
  },
  {
   "cell_type": "markdown",
   "id": "8081fa64-00bd-4ad1-8d8e-962c2b1e65e3",
   "metadata": {},
   "source": [
    "# Loop Over Image in Image Collection and Download individual Image with desired name"
   ]
  },
  {
   "cell_type": "code",
   "execution_count": null,
   "id": "e74fcd20-9965-4583-bce9-ade66ab158d1",
   "metadata": {},
   "outputs": [],
   "source": [
    "# https://stackoverflow.com/questions/46943061/how-to-iterate-over-and-download-each-image-in-an-image-collection-from-the-goog\n",
    "# This is OK for small collections\n",
    "collectionList = collectionModEvi.toList(collectionModEvi.size())\n",
    "# print(collectionList)\n",
    "collectionSize = collectionList.size().getInfo()\n",
    "print(collectionSize)\n",
    "for i in range(collectionSize):\n",
    "    image = ee.Image(collectionList.get(i))\n",
    "    image_name = image.get('system:index').getInfo()\n",
    "    print(i)\n",
    "    print(image_name)\n",
    "    img_name = \"Modis_evi_\" + str(image_name)\n",
    "    url = image.getDownloadUrl({\n",
    "                    'name':img_name,\n",
    "                    'scale': 250,\n",
    "                    'crs': 'EPSG:4326',\n",
    "                    'region': aoi,\n",
    "                    'format':\"GEO_TIFF\"\n",
    "                })\n",
    "    print(url)\n",
    "    r = requests.get(url, stream=True)\n",
    "    filenameTif = 'modis_data/' + img_name + '.tif'\n",
    "    with open(filenameTif, \"wb\") as fd:\n",
    "            for chunk in r.iter_content(chunk_size=1024):\n",
    "                fd.write(chunk)\n",
    "    "
   ]
  },
  {
   "cell_type": "markdown",
   "id": "2bb55b47-e41a-475a-850f-9403080dd169",
   "metadata": {},
   "source": [
    "# Now will move on to Image Clipping and converison to Binary Files \n",
    "\n",
    "## Importing Rasterio and fiona module for masking rasters "
   ]
  },
  {
   "cell_type": "code",
   "execution_count": 10,
   "id": "b74a4ea5-39a1-4608-9516-89f4425653ba",
   "metadata": {},
   "outputs": [],
   "source": [
    "import fiona\n",
    "import rasterio\n",
    "import rasterio.mask"
   ]
  },
  {
   "cell_type": "markdown",
   "id": "3fca2fbf-fa05-46e4-bba3-439e3cc5fd14",
   "metadata": {},
   "source": [
    "# Defining the masking Geometry "
   ]
  },
  {
   "cell_type": "code",
   "execution_count": 11,
   "id": "740b39f4-25bc-426b-80fd-9e9614e3bcad",
   "metadata": {},
   "outputs": [],
   "source": [
    "with fiona.open(\"shapefile/terai.shp\", \"r\") as shapefile:\n",
    "    shapes = [feature[\"geometry\"] for feature in shapefile]"
   ]
  },
  {
   "cell_type": "markdown",
   "id": "3473ae46-a2e3-47ba-8ae2-5951c7c0baf7",
   "metadata": {},
   "source": [
    "# Clipping all rasters image with shapefile "
   ]
  },
  {
   "cell_type": "code",
   "execution_count": null,
   "id": "7a430037-698c-4988-b853-fd60010ae152",
   "metadata": {},
   "outputs": [],
   "source": [
    "import os\n",
    "\n",
    "path = \"modis_data\"\n",
    "file_type = '.tif'\n",
    "\n",
    "for filename in os.listdir(path=path):\n",
    "    if filename.endswith(file_type):\n",
    "#         print(filename)\n",
    "        print(f\"{path}/{filename}\")\n",
    "        filepath = f\"{path}/{filename}\"\n",
    "        \n",
    "        masked_name = filename.replace('.tif', '_masked.tif')\n",
    "        masked_file_path =  \"masked/\" + f\"{masked_name}\"\n",
    "        print(massked_file_path)\n",
    "        with rasterio.open(filepath) as src:\n",
    "            out_image, out_transform = rasterio.mask.mask(src, shapes, crop=True)\n",
    "            out_meta = src.meta\n",
    "\n",
    "        out_meta.update({\"driver\": \"GTiff\",\n",
    "                         \"height\": out_image.shape[1],\n",
    "                         \"width\": out_image.shape[2],\n",
    "                         \"transform\": out_transform})\n",
    "\n",
    "        with rasterio.open(masked_file_path, \"w\", **out_meta) as dest:\n",
    "            dest.write(out_image)"
   ]
  },
  {
   "cell_type": "markdown",
   "id": "105c2a86-644c-4f87-97bd-1558b10dc0f8",
   "metadata": {},
   "source": [
    "# Coversion of Tif image to binary image (Envi format, BIL image)"
   ]
  },
  {
   "cell_type": "code",
   "execution_count": null,
   "id": "25a91f97-b1d1-41e5-9bf6-a699cf432c54",
   "metadata": {},
   "outputs": [],
   "source": [
    "path = \"masked\"\n",
    "file_type = '.tif'\n",
    "\n",
    "for filename in os.listdir(path=path):\n",
    "    if filename.endswith(file_type):\n",
    "        input = f\"{path}/{filename}\"\n",
    "        new_filename = filename.replace('.tif', '.bil')\n",
    "        output = f\"binary/{new_filename}\"\n",
    "        print(input)\n",
    "        print(output)\n",
    "        os.system(\"gdal_translate -of ENVI \" + input + \" \" +  output)"
   ]
  },
  {
   "cell_type": "markdown",
   "id": "a9ceeb11-1d08-4c4f-8793-c3fde863ab01",
   "metadata": {},
   "source": [
    "# Making list of BIL images into Text files \n",
    "## This is required for Timesat image analysis software"
   ]
  },
  {
   "cell_type": "code",
   "execution_count": null,
   "id": "e4afebba-fccc-4f6e-ade2-af9b600c7a5c",
   "metadata": {},
   "outputs": [],
   "source": [
    "path = \"masked\"\n",
    "file_type = '.tif'\n",
    "\n",
    "absolute_path = r\"C:\\projects\\planting_date\"\n",
    "\n",
    "absolute_file_path_list = []\n",
    "for filename in os.listdir(path=path):\n",
    "    if filename.endswith(file_type):\n",
    "        new_filename = filename.replace('.tif', '.bil')\n",
    "        output = absolute_path + r\"\\binary\\{}\".format(new_filename)\n",
    "        absolute_file_path_list.append(output)\n"
   ]
  },
  {
   "cell_type": "markdown",
   "id": "08371621-1795-4d47-acfd-8092dc3fa391",
   "metadata": {},
   "source": [
    "# Writing all files path into text files "
   ]
  },
  {
   "cell_type": "code",
   "execution_count": null,
   "id": "506ce184-2fdd-4566-8169-44df5fa69464",
   "metadata": {},
   "outputs": [],
   "source": [
    "with open('filelist.txt', 'w') as f:\n",
    "    f.write(str(len(absolute_file_path_list)))\n",
    "    f.write('\\n')\n",
    "    for line in absolute_file_path_list:\n",
    "        f.write(line)\n",
    "        f.write('\\n')"
   ]
  }
 ],
 "metadata": {
  "kernelspec": {
   "display_name": "Python 3",
   "language": "python",
   "name": "python3"
  },
  "language_info": {
   "codemirror_mode": {
    "name": "ipython",
    "version": 3
   },
   "file_extension": ".py",
   "mimetype": "text/x-python",
   "name": "python",
   "nbconvert_exporter": "python",
   "pygments_lexer": "ipython3",
   "version": "3.8.7"
  }
 },
 "nbformat": 4,
 "nbformat_minor": 5
}
