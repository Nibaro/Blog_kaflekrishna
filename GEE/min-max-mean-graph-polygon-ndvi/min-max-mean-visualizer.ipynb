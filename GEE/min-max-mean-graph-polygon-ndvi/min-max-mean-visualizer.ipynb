{
 "cells": [
  {
   "cell_type": "markdown",
   "id": "a596ba1a-8cc3-4cfe-a518-31f0a71f0b52",
   "metadata": {},
   "source": [
    "## Import Google earth engine API and Authenticate"
   ]
  },
  {
   "cell_type": "code",
   "execution_count": 1,
   "id": "72151a25-a0ac-4a06-8811-ff9856cc194a",
   "metadata": {},
   "outputs": [],
   "source": [
    "# import Google earth engine module\n",
    "import ee\n",
    "\n",
    "#Authenticate the Google earth engine with google account\n",
    "# First firt setup only, no need to run this after first run\n",
    "\n",
    "\n",
    "# ee.Authenticate()\n",
    "\n",
    "# for normal/regular use for authorization\n",
    "# this is required regularly\n",
    "ee.Initialize()"
   ]
  },
  {
   "cell_type": "markdown",
   "id": "8071c3ee-befa-4ce2-b12b-df96ac5c4a4c",
   "metadata": {},
   "source": [
    "## Import other package pandas, plotly, and Savitzky-Golay filter"
   ]
  },
  {
   "cell_type": "code",
   "execution_count": 30,
   "id": "b2029acd-c0fd-4a61-b669-5246097e006e",
   "metadata": {},
   "outputs": [],
   "source": [
    "#Pandas modules to interact data\n",
    "import numpy as np\n",
    "import pandas as pd\n",
    "import geopandas as gpd"
   ]
  },
  {
   "cell_type": "code",
   "execution_count": 2,
   "id": "68dbd175-0d92-4f15-b68f-7c60d5e149fc",
   "metadata": {},
   "outputs": [],
   "source": [
    "import warnings\n",
    "warnings.filterwarnings('ignore')"
   ]
  },
  {
   "cell_type": "markdown",
   "id": "6fa576fa-1c29-4d9c-97a7-f78e7c18ed1d",
   "metadata": {},
   "source": [
    "## Define starting and ending year of study (Both year Inclusive)"
   ]
  },
  {
   "cell_type": "code",
   "execution_count": 44,
   "id": "969a8747-0f06-429f-a466-29e5cd501574",
   "metadata": {},
   "outputs": [],
   "source": [
    "# Longer the duration, Longer it will take for Processing and downloading of Images\n",
    "StartDate = '2020-05-01'\n",
    "EndDate = '2021-04-30'"
   ]
  },
  {
   "cell_type": "markdown",
   "id": "9a35a207-6267-41d1-8220-883dbca5178e",
   "metadata": {},
   "source": [
    "## Define area of interest (Polygon) as feature collection"
   ]
  },
  {
   "cell_type": "code",
   "execution_count": 45,
   "id": "e1d989a6-791d-4e77-b5c0-3fc30509c13c",
   "metadata": {},
   "outputs": [],
   "source": [
    "pol = ee.Geometry.Polygon(\n",
    "    [[[81.03752257234235,28.560898024907527],\n",
    "      [81.04466797715803,28.560898024907527],\n",
    "      [81.04466797715803,28.56510070523194],\n",
    "      [81.03752257234235,28.56510070523194],\n",
    "      [81.03752257234235,28.560898024907527]\n",
    "    ]])"
   ]
  },
  {
   "cell_type": "code",
   "execution_count": 46,
   "id": "db4227c9-422c-4703-87eb-a7f2c5711959",
   "metadata": {},
   "outputs": [
    {
     "name": "stdout",
     "output_type": "stream",
     "text": [
      "{'type': 'FeatureCollection', 'columns': {'id': 'Integer', 'name': 'String', 'system:index': 'String'}, 'features': [{'type': 'Feature', 'geometry': {'type': 'Polygon', 'coordinates': [[[81.03752257234235, 28.560898024907527], [81.04466797715803, 28.560898024907527], [81.04466797715803, 28.56510070523194], [81.03752257234235, 28.56510070523194], [81.03752257234235, 28.560898024907527]]]}, 'id': '0', 'properties': {'id': 1, 'name': 'nepal-crop-poly'}}]}\n"
     ]
    }
   ],
   "source": [
    "ens = [\n",
    "    ee.Feature(pol, {'name': 'nepal-crop-poly', 'id':1})\n",
    "]\n",
    "\n",
    "col =  ee.FeatureCollection(ens)\n",
    "print(col.getInfo())"
   ]
  },
  {
   "cell_type": "markdown",
   "id": "4fd86146-dc89-4d6d-8800-cfcf2478e678",
   "metadata": {},
   "source": [
    "## Add date for each image "
   ]
  },
  {
   "cell_type": "code",
   "execution_count": 47,
   "id": "1fae0aaa-1cd1-4d2c-b5cd-38e63f67e222",
   "metadata": {},
   "outputs": [],
   "source": [
    "def addDate(image):\n",
    "    img_date = ee.Date(image.date())\n",
    "    img_date = ee.Number.parse(img_date.format('YYYYMMdd'))\n",
    "    return image.addBands(ee.Image(img_date).rename('date').toInt())"
   ]
  },
  {
   "cell_type": "markdown",
   "id": "81cabad0-a2e0-4762-9e0d-48caabd5ec71",
   "metadata": {},
   "source": [
    "## We are combining data from 2 sensors of MODIS (Terra And Aqua)"
   ]
  },
  {
   "cell_type": "code",
   "execution_count": 76,
   "id": "e83f6974-8c9a-4ac6-b175-e97efab2295e",
   "metadata": {},
   "outputs": [],
   "source": [
    "# add satellite time series: MODIS EVI 250m 16 day -------------\n",
    "# terra sensor\n",
    "collectionModEvi_terra = ee.ImageCollection('MODIS/006/MOD13Q1').filterDate(StartDate,EndDate) \\\n",
    "    .filterBounds(pol)\\\n",
    "    .select('NDVI')\n",
    "\n",
    "# Aqua sensor\n",
    "collectionModEvi_aqua = ee.ImageCollection('MODIS/061/MYD13Q1').filterDate(StartDate,EndDate) \\\n",
    "    .filterBounds(pol)\\\n",
    "    .select('NDVI');\n",
    "\n",
    "collectionModEvi = collectionModEvi_terra.merge(collectionModEvi_aqua)\n",
    "# THis will provide us 250 m of EVI datasets from MODIS on 8 day interval"
   ]
  },
  {
   "cell_type": "markdown",
   "id": "8a2c3100-24c8-41ae-8077-72afe14558fb",
   "metadata": {},
   "source": [
    "## Extract Minimum, Mean & maximum NDVI values for each features based upon time series"
   ]
  },
  {
   "cell_type": "code",
   "execution_count": 77,
   "id": "32c241e1-ef44-45cd-bbe6-7b2fc5bf561f",
   "metadata": {},
   "outputs": [],
   "source": [
    "def extractMinMaxMean(image):\n",
    "    return image.reduceRegions(**{\n",
    "    'collection':col,\n",
    "    'reducer':ee.Reducer.minMax().combine(ee.Reducer.mean(), '', True), \n",
    "  })"
   ]
  },
  {
   "cell_type": "code",
   "execution_count": 79,
   "id": "c2547311-6c3a-4690-83f6-b77cbdf31bea",
   "metadata": {},
   "outputs": [],
   "source": [
    "ModNDVI = collectionModEvi.filterBounds(pol).map(addDate).map(extractMinMaxMean).flatten()"
   ]
  },
  {
   "cell_type": "code",
   "execution_count": 80,
   "id": "38f9d511-4d92-4a25-b393-a4c0f08d0f14",
   "metadata": {},
   "outputs": [
    {
     "data": {
      "text/plain": [
       "{'type': 'Feature',\n",
       " 'geometry': {'type': 'Polygon',\n",
       "  'coordinates': [[[81.03752257234235, 28.560898024907527],\n",
       "    [81.04466797715803, 28.560898024907527],\n",
       "    [81.04466797715803, 28.56510070523194],\n",
       "    [81.03752257234235, 28.56510070523194],\n",
       "    [81.03752257234235, 28.560898024907527]]]},\n",
       " 'id': '1_2020_05_08_0',\n",
       " 'properties': {'NDVI_max': 3737,\n",
       "  'NDVI_mean': 3129.6121251629725,\n",
       "  'NDVI_min': 2809,\n",
       "  'date_max': 20200508,\n",
       "  'date_mean': 20200508,\n",
       "  'date_min': 20200508,\n",
       "  'id': 1,\n",
       "  'name': 'nepal-crop-poly'}}"
      ]
     },
     "execution_count": 80,
     "metadata": {},
     "output_type": "execute_result"
    }
   ],
   "source": [
    "sample_result = ModNDVI.first().getInfo()\n",
    "sample_result"
   ]
  },
  {
   "cell_type": "code",
   "execution_count": 81,
   "id": "b702c5ee-0145-4d07-99ad-d35758972005",
   "metadata": {},
   "outputs": [],
   "source": [
    "# extract the properties column from feature collection\n",
    "# column order may not be as our sample data order\n",
    "column_df = ['NDVI_mean', 'NDVI_min', 'NDVI_max', 'date_min', 'id', 'name']"
   ]
  },
  {
   "cell_type": "markdown",
   "id": "37a79aa2-6e4e-44bc-b4d3-7c3410cb8645",
   "metadata": {},
   "source": [
    "## Feature collection (mapped) to data frame with reducer "
   ]
  },
  {
   "cell_type": "code",
   "execution_count": 83,
   "id": "5fab0764-871d-49e4-80d2-908d48f72269",
   "metadata": {
    "scrolled": true,
    "tags": []
   },
   "outputs": [
    {
     "data": {
      "text/plain": [
       "[[3129.6121251629725, 2809, 3737, 20200508, 1, 'nepal-crop-poly'],\n",
       " [2409.632985658409, 2227, 2808, 20200524, 1, 'nepal-crop-poly'],\n",
       " [2334.9915254237285, 2206, 3164, 20200609, 1, 'nepal-crop-poly'],\n",
       " [2166.88852672751, 834, 4272, 20200625, 1, 'nepal-crop-poly'],\n",
       " [8391.630378096479, 8253, 8544, 20200711, 1, 'nepal-crop-poly'],\n",
       " [6978.746414602348, 5374, 7964, 20200727, 1, 'nepal-crop-poly'],\n",
       " [8585.852672750978, 8531, 8743, 20200812, 1, 'nepal-crop-poly'],\n",
       " [8484.335071707954, 7906, 9217, 20200828, 1, 'nepal-crop-poly'],\n",
       " [7632.241199478487, 7466, 7949, 20200913, 1, 'nepal-crop-poly'],\n",
       " [4518.089960886571, 4333, 4735, 20200929, 1, 'nepal-crop-poly'],\n",
       " [3201.7359843546287, 3100, 3488, 20201015, 1, 'nepal-crop-poly'],\n",
       " [2950.6108213820085, 2797, 3365, 20201031, 1, 'nepal-crop-poly'],\n",
       " [2713.870925684485, 2138, 3618, 20201116, 1, 'nepal-crop-poly'],\n",
       " [4077.9582790091267, 3537, 5237, 20201202, 1, 'nepal-crop-poly'],\n",
       " [5710.940677966101, 5175, 6293, 20201218, 1, 'nepal-crop-poly'],\n",
       " [6339.582790091265, 5838, 6852, 20210101, 1, 'nepal-crop-poly'],\n",
       " [7451.037157757496, 7225, 7862, 20210117, 1, 'nepal-crop-poly'],\n",
       " [7487.163624511082, 7100, 8005, 20210202, 1, 'nepal-crop-poly'],\n",
       " [7122.241851368971, 6659, 7679, 20210218, 1, 'nepal-crop-poly'],\n",
       " [5375.530638852672, 5056, 5997, 20210306, 1, 'nepal-crop-poly'],\n",
       " [3701.5260756192965, 3457, 4113, 20210322, 1, 'nepal-crop-poly'],\n",
       " [2387.3259452411994, 2281, 2565, 20210407, 1, 'nepal-crop-poly'],\n",
       " [2316.926336375489, 2261, 2621, 20210423, 1, 'nepal-crop-poly'],\n",
       " [2635.853976531943, 2489, 3176, 20200516, 1, 'nepal-crop-poly'],\n",
       " [1866.8898305084745, 1123, 2861, 20200601, 1, 'nepal-crop-poly'],\n",
       " [3095.935462842243, 2875, 3431, 20200617, 1, 'nepal-crop-poly'],\n",
       " [6501.892438070403, 4611, 7113, 20200703, 1, 'nepal-crop-poly'],\n",
       " [6517.662320730117, 4991, 7426, 20200719, 1, 'nepal-crop-poly'],\n",
       " [7195.589960886571, 6658, 9000, 20200804, 1, 'nepal-crop-poly'],\n",
       " [8032.657105606258, 7948, 8179, 20200820, 1, 'nepal-crop-poly'],\n",
       " [7216.569752281617, 7128, 7318, 20200905, 1, 'nepal-crop-poly'],\n",
       " [6776.236636245112, 6580, 7135, 20200921, 1, 'nepal-crop-poly'],\n",
       " [3921.0971316818777, 3597, 4348, 20201007, 1, 'nepal-crop-poly'],\n",
       " [3041.035853976532, 2915, 3384, 20201023, 1, 'nepal-crop-poly'],\n",
       " [2492.971968709257, 1853, 3560, 20201108, 1, 'nepal-crop-poly'],\n",
       " [2842.428292046937, 2381, 3470, 20201124, 1, 'nepal-crop-poly'],\n",
       " [5229.440677966101, 4798, 5872, 20201210, 1, 'nepal-crop-poly'],\n",
       " [6946.603650586701, 6907, 6991, 20201226, 1, 'nepal-crop-poly'],\n",
       " [6975.964797913949, 6826, 7177, 20210109, 1, 'nepal-crop-poly'],\n",
       " [7201.705997392439, 7014, 7514, 20210125, 1, 'nepal-crop-poly'],\n",
       " [7396.2144719687085, 7307, 7691, 20210210, 1, 'nepal-crop-poly'],\n",
       " [6594.536505867014, 6378, 7147, 20210226, 1, 'nepal-crop-poly'],\n",
       " [3185.1753585397655, 3008, 3590, 20210314, 1, 'nepal-crop-poly'],\n",
       " [2530.0417209908737, 2436, 2772, 20210330, 1, 'nepal-crop-poly'],\n",
       " [2451.802477183833, 2343, 2635, 20210415, 1, 'nepal-crop-poly']]"
      ]
     },
     "execution_count": 83,
     "metadata": {},
     "output_type": "execute_result"
    }
   ],
   "source": [
    "nested_list = ModNDVI.reduceColumns(ee.Reducer.toList(len(column_df)), column_df).values().get(0)\n",
    "data = nested_list.getInfo()\n",
    "data"
   ]
  },
  {
   "cell_type": "code",
   "execution_count": 84,
   "id": "6745ebb6-6ca6-40f8-acba-e6c27ec49e16",
   "metadata": {},
   "outputs": [],
   "source": [
    "# dont forget we need to call the callback method \"getInfo\" to retrieve the data\n",
    "df = pd.DataFrame(data, columns=column_df)\n",
    "# we obtain the data frame as per our demand\n",
    "# df"
   ]
  },
  {
   "cell_type": "code",
   "execution_count": 85,
   "id": "ff6c4a27-3aa4-469c-ac99-edb718453692",
   "metadata": {
    "scrolled": true,
    "tags": []
   },
   "outputs": [
    {
     "data": {
      "text/html": [
       "<div>\n",
       "<style scoped>\n",
       "    .dataframe tbody tr th:only-of-type {\n",
       "        vertical-align: middle;\n",
       "    }\n",
       "\n",
       "    .dataframe tbody tr th {\n",
       "        vertical-align: top;\n",
       "    }\n",
       "\n",
       "    .dataframe thead th {\n",
       "        text-align: right;\n",
       "    }\n",
       "</style>\n",
       "<table border=\"1\" class=\"dataframe\">\n",
       "  <thead>\n",
       "    <tr style=\"text-align: right;\">\n",
       "      <th></th>\n",
       "      <th>NDVI_mean</th>\n",
       "      <th>NDVI_min</th>\n",
       "      <th>NDVI_max</th>\n",
       "      <th>date_min</th>\n",
       "      <th>id</th>\n",
       "      <th>name</th>\n",
       "      <th>date</th>\n",
       "    </tr>\n",
       "  </thead>\n",
       "  <tbody>\n",
       "    <tr>\n",
       "      <th>0</th>\n",
       "      <td>3129.612125</td>\n",
       "      <td>2809</td>\n",
       "      <td>3737</td>\n",
       "      <td>20200508</td>\n",
       "      <td>1</td>\n",
       "      <td>nepal-crop-poly</td>\n",
       "      <td>2020-05-08</td>\n",
       "    </tr>\n",
       "    <tr>\n",
       "      <th>23</th>\n",
       "      <td>2635.853977</td>\n",
       "      <td>2489</td>\n",
       "      <td>3176</td>\n",
       "      <td>20200516</td>\n",
       "      <td>1</td>\n",
       "      <td>nepal-crop-poly</td>\n",
       "      <td>2020-05-16</td>\n",
       "    </tr>\n",
       "    <tr>\n",
       "      <th>1</th>\n",
       "      <td>2409.632986</td>\n",
       "      <td>2227</td>\n",
       "      <td>2808</td>\n",
       "      <td>20200524</td>\n",
       "      <td>1</td>\n",
       "      <td>nepal-crop-poly</td>\n",
       "      <td>2020-05-24</td>\n",
       "    </tr>\n",
       "    <tr>\n",
       "      <th>24</th>\n",
       "      <td>1866.889831</td>\n",
       "      <td>1123</td>\n",
       "      <td>2861</td>\n",
       "      <td>20200601</td>\n",
       "      <td>1</td>\n",
       "      <td>nepal-crop-poly</td>\n",
       "      <td>2020-06-01</td>\n",
       "    </tr>\n",
       "    <tr>\n",
       "      <th>2</th>\n",
       "      <td>2334.991525</td>\n",
       "      <td>2206</td>\n",
       "      <td>3164</td>\n",
       "      <td>20200609</td>\n",
       "      <td>1</td>\n",
       "      <td>nepal-crop-poly</td>\n",
       "      <td>2020-06-09</td>\n",
       "    </tr>\n",
       "    <tr>\n",
       "      <th>25</th>\n",
       "      <td>3095.935463</td>\n",
       "      <td>2875</td>\n",
       "      <td>3431</td>\n",
       "      <td>20200617</td>\n",
       "      <td>1</td>\n",
       "      <td>nepal-crop-poly</td>\n",
       "      <td>2020-06-17</td>\n",
       "    </tr>\n",
       "    <tr>\n",
       "      <th>3</th>\n",
       "      <td>2166.888527</td>\n",
       "      <td>834</td>\n",
       "      <td>4272</td>\n",
       "      <td>20200625</td>\n",
       "      <td>1</td>\n",
       "      <td>nepal-crop-poly</td>\n",
       "      <td>2020-06-25</td>\n",
       "    </tr>\n",
       "    <tr>\n",
       "      <th>26</th>\n",
       "      <td>6501.892438</td>\n",
       "      <td>4611</td>\n",
       "      <td>7113</td>\n",
       "      <td>20200703</td>\n",
       "      <td>1</td>\n",
       "      <td>nepal-crop-poly</td>\n",
       "      <td>2020-07-03</td>\n",
       "    </tr>\n",
       "    <tr>\n",
       "      <th>4</th>\n",
       "      <td>8391.630378</td>\n",
       "      <td>8253</td>\n",
       "      <td>8544</td>\n",
       "      <td>20200711</td>\n",
       "      <td>1</td>\n",
       "      <td>nepal-crop-poly</td>\n",
       "      <td>2020-07-11</td>\n",
       "    </tr>\n",
       "    <tr>\n",
       "      <th>27</th>\n",
       "      <td>6517.662321</td>\n",
       "      <td>4991</td>\n",
       "      <td>7426</td>\n",
       "      <td>20200719</td>\n",
       "      <td>1</td>\n",
       "      <td>nepal-crop-poly</td>\n",
       "      <td>2020-07-19</td>\n",
       "    </tr>\n",
       "    <tr>\n",
       "      <th>5</th>\n",
       "      <td>6978.746415</td>\n",
       "      <td>5374</td>\n",
       "      <td>7964</td>\n",
       "      <td>20200727</td>\n",
       "      <td>1</td>\n",
       "      <td>nepal-crop-poly</td>\n",
       "      <td>2020-07-27</td>\n",
       "    </tr>\n",
       "    <tr>\n",
       "      <th>28</th>\n",
       "      <td>7195.589961</td>\n",
       "      <td>6658</td>\n",
       "      <td>9000</td>\n",
       "      <td>20200804</td>\n",
       "      <td>1</td>\n",
       "      <td>nepal-crop-poly</td>\n",
       "      <td>2020-08-04</td>\n",
       "    </tr>\n",
       "    <tr>\n",
       "      <th>6</th>\n",
       "      <td>8585.852673</td>\n",
       "      <td>8531</td>\n",
       "      <td>8743</td>\n",
       "      <td>20200812</td>\n",
       "      <td>1</td>\n",
       "      <td>nepal-crop-poly</td>\n",
       "      <td>2020-08-12</td>\n",
       "    </tr>\n",
       "    <tr>\n",
       "      <th>29</th>\n",
       "      <td>8032.657106</td>\n",
       "      <td>7948</td>\n",
       "      <td>8179</td>\n",
       "      <td>20200820</td>\n",
       "      <td>1</td>\n",
       "      <td>nepal-crop-poly</td>\n",
       "      <td>2020-08-20</td>\n",
       "    </tr>\n",
       "    <tr>\n",
       "      <th>7</th>\n",
       "      <td>8484.335072</td>\n",
       "      <td>7906</td>\n",
       "      <td>9217</td>\n",
       "      <td>20200828</td>\n",
       "      <td>1</td>\n",
       "      <td>nepal-crop-poly</td>\n",
       "      <td>2020-08-28</td>\n",
       "    </tr>\n",
       "    <tr>\n",
       "      <th>30</th>\n",
       "      <td>7216.569752</td>\n",
       "      <td>7128</td>\n",
       "      <td>7318</td>\n",
       "      <td>20200905</td>\n",
       "      <td>1</td>\n",
       "      <td>nepal-crop-poly</td>\n",
       "      <td>2020-09-05</td>\n",
       "    </tr>\n",
       "    <tr>\n",
       "      <th>8</th>\n",
       "      <td>7632.241199</td>\n",
       "      <td>7466</td>\n",
       "      <td>7949</td>\n",
       "      <td>20200913</td>\n",
       "      <td>1</td>\n",
       "      <td>nepal-crop-poly</td>\n",
       "      <td>2020-09-13</td>\n",
       "    </tr>\n",
       "    <tr>\n",
       "      <th>31</th>\n",
       "      <td>6776.236636</td>\n",
       "      <td>6580</td>\n",
       "      <td>7135</td>\n",
       "      <td>20200921</td>\n",
       "      <td>1</td>\n",
       "      <td>nepal-crop-poly</td>\n",
       "      <td>2020-09-21</td>\n",
       "    </tr>\n",
       "    <tr>\n",
       "      <th>9</th>\n",
       "      <td>4518.089961</td>\n",
       "      <td>4333</td>\n",
       "      <td>4735</td>\n",
       "      <td>20200929</td>\n",
       "      <td>1</td>\n",
       "      <td>nepal-crop-poly</td>\n",
       "      <td>2020-09-29</td>\n",
       "    </tr>\n",
       "    <tr>\n",
       "      <th>32</th>\n",
       "      <td>3921.097132</td>\n",
       "      <td>3597</td>\n",
       "      <td>4348</td>\n",
       "      <td>20201007</td>\n",
       "      <td>1</td>\n",
       "      <td>nepal-crop-poly</td>\n",
       "      <td>2020-10-07</td>\n",
       "    </tr>\n",
       "    <tr>\n",
       "      <th>10</th>\n",
       "      <td>3201.735984</td>\n",
       "      <td>3100</td>\n",
       "      <td>3488</td>\n",
       "      <td>20201015</td>\n",
       "      <td>1</td>\n",
       "      <td>nepal-crop-poly</td>\n",
       "      <td>2020-10-15</td>\n",
       "    </tr>\n",
       "    <tr>\n",
       "      <th>33</th>\n",
       "      <td>3041.035854</td>\n",
       "      <td>2915</td>\n",
       "      <td>3384</td>\n",
       "      <td>20201023</td>\n",
       "      <td>1</td>\n",
       "      <td>nepal-crop-poly</td>\n",
       "      <td>2020-10-23</td>\n",
       "    </tr>\n",
       "    <tr>\n",
       "      <th>11</th>\n",
       "      <td>2950.610821</td>\n",
       "      <td>2797</td>\n",
       "      <td>3365</td>\n",
       "      <td>20201031</td>\n",
       "      <td>1</td>\n",
       "      <td>nepal-crop-poly</td>\n",
       "      <td>2020-10-31</td>\n",
       "    </tr>\n",
       "    <tr>\n",
       "      <th>34</th>\n",
       "      <td>2492.971969</td>\n",
       "      <td>1853</td>\n",
       "      <td>3560</td>\n",
       "      <td>20201108</td>\n",
       "      <td>1</td>\n",
       "      <td>nepal-crop-poly</td>\n",
       "      <td>2020-11-08</td>\n",
       "    </tr>\n",
       "    <tr>\n",
       "      <th>12</th>\n",
       "      <td>2713.870926</td>\n",
       "      <td>2138</td>\n",
       "      <td>3618</td>\n",
       "      <td>20201116</td>\n",
       "      <td>1</td>\n",
       "      <td>nepal-crop-poly</td>\n",
       "      <td>2020-11-16</td>\n",
       "    </tr>\n",
       "    <tr>\n",
       "      <th>35</th>\n",
       "      <td>2842.428292</td>\n",
       "      <td>2381</td>\n",
       "      <td>3470</td>\n",
       "      <td>20201124</td>\n",
       "      <td>1</td>\n",
       "      <td>nepal-crop-poly</td>\n",
       "      <td>2020-11-24</td>\n",
       "    </tr>\n",
       "    <tr>\n",
       "      <th>13</th>\n",
       "      <td>4077.958279</td>\n",
       "      <td>3537</td>\n",
       "      <td>5237</td>\n",
       "      <td>20201202</td>\n",
       "      <td>1</td>\n",
       "      <td>nepal-crop-poly</td>\n",
       "      <td>2020-12-02</td>\n",
       "    </tr>\n",
       "    <tr>\n",
       "      <th>36</th>\n",
       "      <td>5229.440678</td>\n",
       "      <td>4798</td>\n",
       "      <td>5872</td>\n",
       "      <td>20201210</td>\n",
       "      <td>1</td>\n",
       "      <td>nepal-crop-poly</td>\n",
       "      <td>2020-12-10</td>\n",
       "    </tr>\n",
       "    <tr>\n",
       "      <th>14</th>\n",
       "      <td>5710.940678</td>\n",
       "      <td>5175</td>\n",
       "      <td>6293</td>\n",
       "      <td>20201218</td>\n",
       "      <td>1</td>\n",
       "      <td>nepal-crop-poly</td>\n",
       "      <td>2020-12-18</td>\n",
       "    </tr>\n",
       "    <tr>\n",
       "      <th>37</th>\n",
       "      <td>6946.603651</td>\n",
       "      <td>6907</td>\n",
       "      <td>6991</td>\n",
       "      <td>20201226</td>\n",
       "      <td>1</td>\n",
       "      <td>nepal-crop-poly</td>\n",
       "      <td>2020-12-26</td>\n",
       "    </tr>\n",
       "    <tr>\n",
       "      <th>15</th>\n",
       "      <td>6339.582790</td>\n",
       "      <td>5838</td>\n",
       "      <td>6852</td>\n",
       "      <td>20210101</td>\n",
       "      <td>1</td>\n",
       "      <td>nepal-crop-poly</td>\n",
       "      <td>2021-01-01</td>\n",
       "    </tr>\n",
       "    <tr>\n",
       "      <th>38</th>\n",
       "      <td>6975.964798</td>\n",
       "      <td>6826</td>\n",
       "      <td>7177</td>\n",
       "      <td>20210109</td>\n",
       "      <td>1</td>\n",
       "      <td>nepal-crop-poly</td>\n",
       "      <td>2021-01-09</td>\n",
       "    </tr>\n",
       "    <tr>\n",
       "      <th>16</th>\n",
       "      <td>7451.037158</td>\n",
       "      <td>7225</td>\n",
       "      <td>7862</td>\n",
       "      <td>20210117</td>\n",
       "      <td>1</td>\n",
       "      <td>nepal-crop-poly</td>\n",
       "      <td>2021-01-17</td>\n",
       "    </tr>\n",
       "    <tr>\n",
       "      <th>39</th>\n",
       "      <td>7201.705997</td>\n",
       "      <td>7014</td>\n",
       "      <td>7514</td>\n",
       "      <td>20210125</td>\n",
       "      <td>1</td>\n",
       "      <td>nepal-crop-poly</td>\n",
       "      <td>2021-01-25</td>\n",
       "    </tr>\n",
       "    <tr>\n",
       "      <th>17</th>\n",
       "      <td>7487.163625</td>\n",
       "      <td>7100</td>\n",
       "      <td>8005</td>\n",
       "      <td>20210202</td>\n",
       "      <td>1</td>\n",
       "      <td>nepal-crop-poly</td>\n",
       "      <td>2021-02-02</td>\n",
       "    </tr>\n",
       "    <tr>\n",
       "      <th>40</th>\n",
       "      <td>7396.214472</td>\n",
       "      <td>7307</td>\n",
       "      <td>7691</td>\n",
       "      <td>20210210</td>\n",
       "      <td>1</td>\n",
       "      <td>nepal-crop-poly</td>\n",
       "      <td>2021-02-10</td>\n",
       "    </tr>\n",
       "    <tr>\n",
       "      <th>18</th>\n",
       "      <td>7122.241851</td>\n",
       "      <td>6659</td>\n",
       "      <td>7679</td>\n",
       "      <td>20210218</td>\n",
       "      <td>1</td>\n",
       "      <td>nepal-crop-poly</td>\n",
       "      <td>2021-02-18</td>\n",
       "    </tr>\n",
       "    <tr>\n",
       "      <th>41</th>\n",
       "      <td>6594.536506</td>\n",
       "      <td>6378</td>\n",
       "      <td>7147</td>\n",
       "      <td>20210226</td>\n",
       "      <td>1</td>\n",
       "      <td>nepal-crop-poly</td>\n",
       "      <td>2021-02-26</td>\n",
       "    </tr>\n",
       "    <tr>\n",
       "      <th>19</th>\n",
       "      <td>5375.530639</td>\n",
       "      <td>5056</td>\n",
       "      <td>5997</td>\n",
       "      <td>20210306</td>\n",
       "      <td>1</td>\n",
       "      <td>nepal-crop-poly</td>\n",
       "      <td>2021-03-06</td>\n",
       "    </tr>\n",
       "    <tr>\n",
       "      <th>42</th>\n",
       "      <td>3185.175359</td>\n",
       "      <td>3008</td>\n",
       "      <td>3590</td>\n",
       "      <td>20210314</td>\n",
       "      <td>1</td>\n",
       "      <td>nepal-crop-poly</td>\n",
       "      <td>2021-03-14</td>\n",
       "    </tr>\n",
       "    <tr>\n",
       "      <th>20</th>\n",
       "      <td>3701.526076</td>\n",
       "      <td>3457</td>\n",
       "      <td>4113</td>\n",
       "      <td>20210322</td>\n",
       "      <td>1</td>\n",
       "      <td>nepal-crop-poly</td>\n",
       "      <td>2021-03-22</td>\n",
       "    </tr>\n",
       "    <tr>\n",
       "      <th>43</th>\n",
       "      <td>2530.041721</td>\n",
       "      <td>2436</td>\n",
       "      <td>2772</td>\n",
       "      <td>20210330</td>\n",
       "      <td>1</td>\n",
       "      <td>nepal-crop-poly</td>\n",
       "      <td>2021-03-30</td>\n",
       "    </tr>\n",
       "    <tr>\n",
       "      <th>21</th>\n",
       "      <td>2387.325945</td>\n",
       "      <td>2281</td>\n",
       "      <td>2565</td>\n",
       "      <td>20210407</td>\n",
       "      <td>1</td>\n",
       "      <td>nepal-crop-poly</td>\n",
       "      <td>2021-04-07</td>\n",
       "    </tr>\n",
       "    <tr>\n",
       "      <th>44</th>\n",
       "      <td>2451.802477</td>\n",
       "      <td>2343</td>\n",
       "      <td>2635</td>\n",
       "      <td>20210415</td>\n",
       "      <td>1</td>\n",
       "      <td>nepal-crop-poly</td>\n",
       "      <td>2021-04-15</td>\n",
       "    </tr>\n",
       "    <tr>\n",
       "      <th>22</th>\n",
       "      <td>2316.926336</td>\n",
       "      <td>2261</td>\n",
       "      <td>2621</td>\n",
       "      <td>20210423</td>\n",
       "      <td>1</td>\n",
       "      <td>nepal-crop-poly</td>\n",
       "      <td>2021-04-23</td>\n",
       "    </tr>\n",
       "  </tbody>\n",
       "</table>\n",
       "</div>"
      ],
      "text/plain": [
       "      NDVI_mean  NDVI_min  NDVI_max  date_min  id             name       date\n",
       "0   3129.612125      2809      3737  20200508   1  nepal-crop-poly 2020-05-08\n",
       "23  2635.853977      2489      3176  20200516   1  nepal-crop-poly 2020-05-16\n",
       "1   2409.632986      2227      2808  20200524   1  nepal-crop-poly 2020-05-24\n",
       "24  1866.889831      1123      2861  20200601   1  nepal-crop-poly 2020-06-01\n",
       "2   2334.991525      2206      3164  20200609   1  nepal-crop-poly 2020-06-09\n",
       "25  3095.935463      2875      3431  20200617   1  nepal-crop-poly 2020-06-17\n",
       "3   2166.888527       834      4272  20200625   1  nepal-crop-poly 2020-06-25\n",
       "26  6501.892438      4611      7113  20200703   1  nepal-crop-poly 2020-07-03\n",
       "4   8391.630378      8253      8544  20200711   1  nepal-crop-poly 2020-07-11\n",
       "27  6517.662321      4991      7426  20200719   1  nepal-crop-poly 2020-07-19\n",
       "5   6978.746415      5374      7964  20200727   1  nepal-crop-poly 2020-07-27\n",
       "28  7195.589961      6658      9000  20200804   1  nepal-crop-poly 2020-08-04\n",
       "6   8585.852673      8531      8743  20200812   1  nepal-crop-poly 2020-08-12\n",
       "29  8032.657106      7948      8179  20200820   1  nepal-crop-poly 2020-08-20\n",
       "7   8484.335072      7906      9217  20200828   1  nepal-crop-poly 2020-08-28\n",
       "30  7216.569752      7128      7318  20200905   1  nepal-crop-poly 2020-09-05\n",
       "8   7632.241199      7466      7949  20200913   1  nepal-crop-poly 2020-09-13\n",
       "31  6776.236636      6580      7135  20200921   1  nepal-crop-poly 2020-09-21\n",
       "9   4518.089961      4333      4735  20200929   1  nepal-crop-poly 2020-09-29\n",
       "32  3921.097132      3597      4348  20201007   1  nepal-crop-poly 2020-10-07\n",
       "10  3201.735984      3100      3488  20201015   1  nepal-crop-poly 2020-10-15\n",
       "33  3041.035854      2915      3384  20201023   1  nepal-crop-poly 2020-10-23\n",
       "11  2950.610821      2797      3365  20201031   1  nepal-crop-poly 2020-10-31\n",
       "34  2492.971969      1853      3560  20201108   1  nepal-crop-poly 2020-11-08\n",
       "12  2713.870926      2138      3618  20201116   1  nepal-crop-poly 2020-11-16\n",
       "35  2842.428292      2381      3470  20201124   1  nepal-crop-poly 2020-11-24\n",
       "13  4077.958279      3537      5237  20201202   1  nepal-crop-poly 2020-12-02\n",
       "36  5229.440678      4798      5872  20201210   1  nepal-crop-poly 2020-12-10\n",
       "14  5710.940678      5175      6293  20201218   1  nepal-crop-poly 2020-12-18\n",
       "37  6946.603651      6907      6991  20201226   1  nepal-crop-poly 2020-12-26\n",
       "15  6339.582790      5838      6852  20210101   1  nepal-crop-poly 2021-01-01\n",
       "38  6975.964798      6826      7177  20210109   1  nepal-crop-poly 2021-01-09\n",
       "16  7451.037158      7225      7862  20210117   1  nepal-crop-poly 2021-01-17\n",
       "39  7201.705997      7014      7514  20210125   1  nepal-crop-poly 2021-01-25\n",
       "17  7487.163625      7100      8005  20210202   1  nepal-crop-poly 2021-02-02\n",
       "40  7396.214472      7307      7691  20210210   1  nepal-crop-poly 2021-02-10\n",
       "18  7122.241851      6659      7679  20210218   1  nepal-crop-poly 2021-02-18\n",
       "41  6594.536506      6378      7147  20210226   1  nepal-crop-poly 2021-02-26\n",
       "19  5375.530639      5056      5997  20210306   1  nepal-crop-poly 2021-03-06\n",
       "42  3185.175359      3008      3590  20210314   1  nepal-crop-poly 2021-03-14\n",
       "20  3701.526076      3457      4113  20210322   1  nepal-crop-poly 2021-03-22\n",
       "43  2530.041721      2436      2772  20210330   1  nepal-crop-poly 2021-03-30\n",
       "21  2387.325945      2281      2565  20210407   1  nepal-crop-poly 2021-04-07\n",
       "44  2451.802477      2343      2635  20210415   1  nepal-crop-poly 2021-04-15\n",
       "22  2316.926336      2261      2621  20210423   1  nepal-crop-poly 2021-04-23"
      ]
     },
     "execution_count": 85,
     "metadata": {},
     "output_type": "execute_result"
    }
   ],
   "source": [
    "df['date']= pd.to_datetime(df['date_min'], format='%Y%m%d')\n",
    "df_new = df.sort_values(by=['date'])\n",
    "df_new\n"
   ]
  },
  {
   "cell_type": "markdown",
   "id": "9c87d207-9111-4f26-a828-9cd37e540c3e",
   "metadata": {},
   "source": [
    "## Dataframe to charts visualizing the Minimum, Mean and Maximum values of NDVI values (timeseries Modis)"
   ]
  },
  {
   "cell_type": "code",
   "execution_count": 86,
   "id": "884dd1ea-d579-431c-a311-f02bb48300f9",
   "metadata": {},
   "outputs": [],
   "source": [
    "from scipy.signal import savgol_filter"
   ]
  },
  {
   "cell_type": "code",
   "execution_count": 87,
   "id": "a92686ed-965f-4027-9b58-7501a8886709",
   "metadata": {},
   "outputs": [],
   "source": [
    "import plotly.graph_objects as go\n",
    "import matplotlib\n",
    "import random"
   ]
  },
  {
   "cell_type": "markdown",
   "id": "a75d3577-f96c-4b22-a2ae-d458f078b289",
   "metadata": {},
   "source": [
    "### Savitzky-Golay filter for regularization of NDVI values\n",
    "Please adjust the values as per the datasets of you requirements"
   ]
  },
  {
   "cell_type": "code",
   "execution_count": 89,
   "id": "79df9b2f-3ea4-400b-a005-1bd833ae325c",
   "metadata": {},
   "outputs": [],
   "source": [
    "date = df_new['date'].tolist()\n",
    "min = savgol_filter(df_new['NDVI_min'].tolist(), 9,2)\n",
    "mean = savgol_filter(df_new['NDVI_mean'].tolist(), 9,2)\n",
    "max = savgol_filter(df_new['NDVI_max'].tolist(),9,2)"
   ]
  },
  {
   "cell_type": "code",
   "execution_count": 91,
   "id": "9491e21b-4641-420f-99e5-183a8679d628",
   "metadata": {},
   "outputs": [
    {
     "name": "stdout",
     "output_type": "stream",
     "text": [
      "#EE82EE\n"
     ]
    },
    {
     "data": {
      "application/vnd.plotly.v1+json": {
       "config": {
        "plotlyServerURL": "https://plot.ly"
       },
       "data": [
        {
         "line": {
          "color": "#EE82EE",
          "width": 0.1
         },
         "name": "Minimum NDVI",
         "type": "scatter",
         "x": [
          "2020-05-08T00:00:00",
          "2020-05-16T00:00:00",
          "2020-05-24T00:00:00",
          "2020-06-01T00:00:00",
          "2020-06-09T00:00:00",
          "2020-06-17T00:00:00",
          "2020-06-25T00:00:00",
          "2020-07-03T00:00:00",
          "2020-07-11T00:00:00",
          "2020-07-19T00:00:00",
          "2020-07-27T00:00:00",
          "2020-08-04T00:00:00",
          "2020-08-12T00:00:00",
          "2020-08-20T00:00:00",
          "2020-08-28T00:00:00",
          "2020-09-05T00:00:00",
          "2020-09-13T00:00:00",
          "2020-09-21T00:00:00",
          "2020-09-29T00:00:00",
          "2020-10-07T00:00:00",
          "2020-10-15T00:00:00",
          "2020-10-23T00:00:00",
          "2020-10-31T00:00:00",
          "2020-11-08T00:00:00",
          "2020-11-16T00:00:00",
          "2020-11-24T00:00:00",
          "2020-12-02T00:00:00",
          "2020-12-10T00:00:00",
          "2020-12-18T00:00:00",
          "2020-12-26T00:00:00",
          "2021-01-01T00:00:00",
          "2021-01-09T00:00:00",
          "2021-01-17T00:00:00",
          "2021-01-25T00:00:00",
          "2021-02-02T00:00:00",
          "2021-02-10T00:00:00",
          "2021-02-18T00:00:00",
          "2021-02-26T00:00:00",
          "2021-03-06T00:00:00",
          "2021-03-14T00:00:00",
          "2021-03-22T00:00:00",
          "2021-03-30T00:00:00",
          "2021-04-07T00:00:00",
          "2021-04-15T00:00:00",
          "2021-04-23T00:00:00"
         ],
         "y": [
          3491.3757575757586,
          2254.827272727273,
          1500.6640692640685,
          1228.886147186146,
          1439.4935064935044,
          2368.186147186144,
          3408.337662337657,
          4381.9913419913355,
          5002.303030303023,
          5946.515151515143,
          6895.991341991332,
          7047.705627705618,
          7140.865800865791,
          7926.203463203452,
          8164.181818181807,
          7714.16883116882,
          6820.025974025964,
          5929.012987012979,
          4905.272727272721,
          4064.8961038960983,
          3155.8268398268356,
          2620.718614718611,
          2360.1688311688276,
          2160.103896103893,
          2320.393939393936,
          2647.8961038961,
          3562.168831168826,
          4524.532467532461,
          5347.597402597396,
          6099.238095238086,
          6543.787878787869,
          6790.909090909081,
          7050.645021645012,
          7075.91341991341,
          7315.1168831168725,
          7193.969696969687,
          6588.489177489168,
          5889.805194805186,
          4931.0519480519415,
          3910.9523809523753,
          3111.9307359307318,
          2612.8077922077955,
          2309.4056277056306,
          2201.724242424244,
          2289.7636363636357
         ]
        },
        {
         "fill": "tonexty",
         "line": {
          "color": "#EE82EE"
         },
         "name": "Mean NDVI",
         "type": "scatter",
         "x": [
          "2020-05-08T00:00:00",
          "2020-05-16T00:00:00",
          "2020-05-24T00:00:00",
          "2020-06-01T00:00:00",
          "2020-06-09T00:00:00",
          "2020-06-17T00:00:00",
          "2020-06-25T00:00:00",
          "2020-07-03T00:00:00",
          "2020-07-11T00:00:00",
          "2020-07-19T00:00:00",
          "2020-07-27T00:00:00",
          "2020-08-04T00:00:00",
          "2020-08-12T00:00:00",
          "2020-08-20T00:00:00",
          "2020-08-28T00:00:00",
          "2020-09-05T00:00:00",
          "2020-09-13T00:00:00",
          "2020-09-21T00:00:00",
          "2020-09-29T00:00:00",
          "2020-10-07T00:00:00",
          "2020-10-15T00:00:00",
          "2020-10-23T00:00:00",
          "2020-10-31T00:00:00",
          "2020-11-08T00:00:00",
          "2020-11-16T00:00:00",
          "2020-11-24T00:00:00",
          "2020-12-02T00:00:00",
          "2020-12-10T00:00:00",
          "2020-12-18T00:00:00",
          "2020-12-26T00:00:00",
          "2021-01-01T00:00:00",
          "2021-01-09T00:00:00",
          "2021-01-17T00:00:00",
          "2021-01-25T00:00:00",
          "2021-02-02T00:00:00",
          "2021-02-10T00:00:00",
          "2021-02-18T00:00:00",
          "2021-02-26T00:00:00",
          "2021-03-06T00:00:00",
          "2021-03-14T00:00:00",
          "2021-03-22T00:00:00",
          "2021-03-30T00:00:00",
          "2021-04-07T00:00:00",
          "2021-04-15T00:00:00",
          "2021-04-23T00:00:00"
         ],
         "y": [
          3599.7299435028267,
          2498.0515862668417,
          1870.1372601974304,
          1715.9869652945927,
          2035.6007015583255,
          3078.5197768333314,
          4262.749552707173,
          5492.563826004496,
          6361.8421634862225,
          7210.312424863262,
          7767.062764918686,
          7708.512668122828,
          7739.085598017791,
          8152.264436128831,
          8271.479173368993,
          7894.47773977434,
          7068.491556466123,
          6152.996949378297,
          5065.892017586926,
          4222.287926762498,
          3327.435067757097,
          2861.697085400471,
          2674.473910270517,
          2563.536311146477,
          2818.0288101728743,
          3234.447752812155,
          4078.3900788477,
          4964.547486411886,
          5734.763761662059,
          6437.522996777225,
          6798.007402202307,
          7046.295145532424,
          7254.333965469548,
          7342.770949389584,
          7542.674791310374,
          7487.125597566264,
          6876.9281791654585,
          6185.742534301848,
          5190.437243547406,
          4157.01538010012,
          3282.20511409494,
          2746.276009301433,
          2414.5222672807413,
          2286.94388803287,
          2363.5408715578187
         ]
        },
        {
         "fill": "tonexty",
         "line": {
          "color": "#EE82EE",
          "width": 0.1
         },
         "name": "Max NDVI",
         "type": "scatter",
         "x": [
          "2020-05-08T00:00:00",
          "2020-05-16T00:00:00",
          "2020-05-24T00:00:00",
          "2020-06-01T00:00:00",
          "2020-06-09T00:00:00",
          "2020-06-17T00:00:00",
          "2020-06-25T00:00:00",
          "2020-07-03T00:00:00",
          "2020-07-11T00:00:00",
          "2020-07-19T00:00:00",
          "2020-07-27T00:00:00",
          "2020-08-04T00:00:00",
          "2020-08-12T00:00:00",
          "2020-08-20T00:00:00",
          "2020-08-28T00:00:00",
          "2020-09-05T00:00:00",
          "2020-09-13T00:00:00",
          "2020-09-21T00:00:00",
          "2020-09-29T00:00:00",
          "2020-10-07T00:00:00",
          "2020-10-15T00:00:00",
          "2020-10-23T00:00:00",
          "2020-10-31T00:00:00",
          "2020-11-08T00:00:00",
          "2020-11-16T00:00:00",
          "2020-11-24T00:00:00",
          "2020-12-02T00:00:00",
          "2020-12-10T00:00:00",
          "2020-12-18T00:00:00",
          "2020-12-26T00:00:00",
          "2021-01-01T00:00:00",
          "2021-01-09T00:00:00",
          "2021-01-17T00:00:00",
          "2021-01-25T00:00:00",
          "2021-02-02T00:00:00",
          "2021-02-10T00:00:00",
          "2021-02-18T00:00:00",
          "2021-02-26T00:00:00",
          "2021-03-06T00:00:00",
          "2021-03-14T00:00:00",
          "2021-03-22T00:00:00",
          "2021-03-30T00:00:00",
          "2021-04-07T00:00:00",
          "2021-04-15T00:00:00",
          "2021-04-23T00:00:00"
         ],
         "y": [
          3951.8060606060603,
          3095.551515151515,
          2648.4030303030304,
          2610.3606060606053,
          2981.424242424238,
          4022.7056277056217,
          5176.805194805187,
          6241.839826839818,
          7317.718614718605,
          8209.406926406915,
          8493.03896103895,
          8603.359307359295,
          8543.831168831155,
          8683.134199134187,
          8618.354978354966,
          8070.805194805183,
          7411.722943722933,
          6475.852813852805,
          5329.419913419906,
          4505.510822510816,
          3662.5238095238046,
          3343.580086580082,
          3249.7186147186103,
          3298.5194805194756,
          3691.5281385281332,
          4190.84415584415,
          4905.3549783549715,
          5619.696969696963,
          6256.87445887445,
          6856.848484848475,
          7059.337662337652,
          7355.164502164492,
          7570.264069264059,
          7733.904761904751,
          7922.818181818171,
          7967.112554112544,
          7378.233766233756,
          6726.329004328995,
          5705.718614718607,
          4637.0606060606,
          3639.744588744584,
          3054.9329004328993,
          2682.1645021645,
          2521.4393939393904,
          2572.7575757575714
         ]
        }
       ],
       "layout": {
        "autosize": true,
        "template": {
         "data": {
          "bar": [
           {
            "error_x": {
             "color": "#2a3f5f"
            },
            "error_y": {
             "color": "#2a3f5f"
            },
            "marker": {
             "line": {
              "color": "#E5ECF6",
              "width": 0.5
             },
             "pattern": {
              "fillmode": "overlay",
              "size": 10,
              "solidity": 0.2
             }
            },
            "type": "bar"
           }
          ],
          "barpolar": [
           {
            "marker": {
             "line": {
              "color": "#E5ECF6",
              "width": 0.5
             },
             "pattern": {
              "fillmode": "overlay",
              "size": 10,
              "solidity": 0.2
             }
            },
            "type": "barpolar"
           }
          ],
          "carpet": [
           {
            "aaxis": {
             "endlinecolor": "#2a3f5f",
             "gridcolor": "white",
             "linecolor": "white",
             "minorgridcolor": "white",
             "startlinecolor": "#2a3f5f"
            },
            "baxis": {
             "endlinecolor": "#2a3f5f",
             "gridcolor": "white",
             "linecolor": "white",
             "minorgridcolor": "white",
             "startlinecolor": "#2a3f5f"
            },
            "type": "carpet"
           }
          ],
          "choropleth": [
           {
            "colorbar": {
             "outlinewidth": 0,
             "ticks": ""
            },
            "type": "choropleth"
           }
          ],
          "contour": [
           {
            "colorbar": {
             "outlinewidth": 0,
             "ticks": ""
            },
            "colorscale": [
             [
              0,
              "#0d0887"
             ],
             [
              0.1111111111111111,
              "#46039f"
             ],
             [
              0.2222222222222222,
              "#7201a8"
             ],
             [
              0.3333333333333333,
              "#9c179e"
             ],
             [
              0.4444444444444444,
              "#bd3786"
             ],
             [
              0.5555555555555556,
              "#d8576b"
             ],
             [
              0.6666666666666666,
              "#ed7953"
             ],
             [
              0.7777777777777778,
              "#fb9f3a"
             ],
             [
              0.8888888888888888,
              "#fdca26"
             ],
             [
              1,
              "#f0f921"
             ]
            ],
            "type": "contour"
           }
          ],
          "contourcarpet": [
           {
            "colorbar": {
             "outlinewidth": 0,
             "ticks": ""
            },
            "type": "contourcarpet"
           }
          ],
          "heatmap": [
           {
            "colorbar": {
             "outlinewidth": 0,
             "ticks": ""
            },
            "colorscale": [
             [
              0,
              "#0d0887"
             ],
             [
              0.1111111111111111,
              "#46039f"
             ],
             [
              0.2222222222222222,
              "#7201a8"
             ],
             [
              0.3333333333333333,
              "#9c179e"
             ],
             [
              0.4444444444444444,
              "#bd3786"
             ],
             [
              0.5555555555555556,
              "#d8576b"
             ],
             [
              0.6666666666666666,
              "#ed7953"
             ],
             [
              0.7777777777777778,
              "#fb9f3a"
             ],
             [
              0.8888888888888888,
              "#fdca26"
             ],
             [
              1,
              "#f0f921"
             ]
            ],
            "type": "heatmap"
           }
          ],
          "heatmapgl": [
           {
            "colorbar": {
             "outlinewidth": 0,
             "ticks": ""
            },
            "colorscale": [
             [
              0,
              "#0d0887"
             ],
             [
              0.1111111111111111,
              "#46039f"
             ],
             [
              0.2222222222222222,
              "#7201a8"
             ],
             [
              0.3333333333333333,
              "#9c179e"
             ],
             [
              0.4444444444444444,
              "#bd3786"
             ],
             [
              0.5555555555555556,
              "#d8576b"
             ],
             [
              0.6666666666666666,
              "#ed7953"
             ],
             [
              0.7777777777777778,
              "#fb9f3a"
             ],
             [
              0.8888888888888888,
              "#fdca26"
             ],
             [
              1,
              "#f0f921"
             ]
            ],
            "type": "heatmapgl"
           }
          ],
          "histogram": [
           {
            "marker": {
             "pattern": {
              "fillmode": "overlay",
              "size": 10,
              "solidity": 0.2
             }
            },
            "type": "histogram"
           }
          ],
          "histogram2d": [
           {
            "colorbar": {
             "outlinewidth": 0,
             "ticks": ""
            },
            "colorscale": [
             [
              0,
              "#0d0887"
             ],
             [
              0.1111111111111111,
              "#46039f"
             ],
             [
              0.2222222222222222,
              "#7201a8"
             ],
             [
              0.3333333333333333,
              "#9c179e"
             ],
             [
              0.4444444444444444,
              "#bd3786"
             ],
             [
              0.5555555555555556,
              "#d8576b"
             ],
             [
              0.6666666666666666,
              "#ed7953"
             ],
             [
              0.7777777777777778,
              "#fb9f3a"
             ],
             [
              0.8888888888888888,
              "#fdca26"
             ],
             [
              1,
              "#f0f921"
             ]
            ],
            "type": "histogram2d"
           }
          ],
          "histogram2dcontour": [
           {
            "colorbar": {
             "outlinewidth": 0,
             "ticks": ""
            },
            "colorscale": [
             [
              0,
              "#0d0887"
             ],
             [
              0.1111111111111111,
              "#46039f"
             ],
             [
              0.2222222222222222,
              "#7201a8"
             ],
             [
              0.3333333333333333,
              "#9c179e"
             ],
             [
              0.4444444444444444,
              "#bd3786"
             ],
             [
              0.5555555555555556,
              "#d8576b"
             ],
             [
              0.6666666666666666,
              "#ed7953"
             ],
             [
              0.7777777777777778,
              "#fb9f3a"
             ],
             [
              0.8888888888888888,
              "#fdca26"
             ],
             [
              1,
              "#f0f921"
             ]
            ],
            "type": "histogram2dcontour"
           }
          ],
          "mesh3d": [
           {
            "colorbar": {
             "outlinewidth": 0,
             "ticks": ""
            },
            "type": "mesh3d"
           }
          ],
          "parcoords": [
           {
            "line": {
             "colorbar": {
              "outlinewidth": 0,
              "ticks": ""
             }
            },
            "type": "parcoords"
           }
          ],
          "pie": [
           {
            "automargin": true,
            "type": "pie"
           }
          ],
          "scatter": [
           {
            "marker": {
             "colorbar": {
              "outlinewidth": 0,
              "ticks": ""
             }
            },
            "type": "scatter"
           }
          ],
          "scatter3d": [
           {
            "line": {
             "colorbar": {
              "outlinewidth": 0,
              "ticks": ""
             }
            },
            "marker": {
             "colorbar": {
              "outlinewidth": 0,
              "ticks": ""
             }
            },
            "type": "scatter3d"
           }
          ],
          "scattercarpet": [
           {
            "marker": {
             "colorbar": {
              "outlinewidth": 0,
              "ticks": ""
             }
            },
            "type": "scattercarpet"
           }
          ],
          "scattergeo": [
           {
            "marker": {
             "colorbar": {
              "outlinewidth": 0,
              "ticks": ""
             }
            },
            "type": "scattergeo"
           }
          ],
          "scattergl": [
           {
            "marker": {
             "colorbar": {
              "outlinewidth": 0,
              "ticks": ""
             }
            },
            "type": "scattergl"
           }
          ],
          "scattermapbox": [
           {
            "marker": {
             "colorbar": {
              "outlinewidth": 0,
              "ticks": ""
             }
            },
            "type": "scattermapbox"
           }
          ],
          "scatterpolar": [
           {
            "marker": {
             "colorbar": {
              "outlinewidth": 0,
              "ticks": ""
             }
            },
            "type": "scatterpolar"
           }
          ],
          "scatterpolargl": [
           {
            "marker": {
             "colorbar": {
              "outlinewidth": 0,
              "ticks": ""
             }
            },
            "type": "scatterpolargl"
           }
          ],
          "scatterternary": [
           {
            "marker": {
             "colorbar": {
              "outlinewidth": 0,
              "ticks": ""
             }
            },
            "type": "scatterternary"
           }
          ],
          "surface": [
           {
            "colorbar": {
             "outlinewidth": 0,
             "ticks": ""
            },
            "colorscale": [
             [
              0,
              "#0d0887"
             ],
             [
              0.1111111111111111,
              "#46039f"
             ],
             [
              0.2222222222222222,
              "#7201a8"
             ],
             [
              0.3333333333333333,
              "#9c179e"
             ],
             [
              0.4444444444444444,
              "#bd3786"
             ],
             [
              0.5555555555555556,
              "#d8576b"
             ],
             [
              0.6666666666666666,
              "#ed7953"
             ],
             [
              0.7777777777777778,
              "#fb9f3a"
             ],
             [
              0.8888888888888888,
              "#fdca26"
             ],
             [
              1,
              "#f0f921"
             ]
            ],
            "type": "surface"
           }
          ],
          "table": [
           {
            "cells": {
             "fill": {
              "color": "#EBF0F8"
             },
             "line": {
              "color": "white"
             }
            },
            "header": {
             "fill": {
              "color": "#C8D4E3"
             },
             "line": {
              "color": "white"
             }
            },
            "type": "table"
           }
          ]
         },
         "layout": {
          "annotationdefaults": {
           "arrowcolor": "#2a3f5f",
           "arrowhead": 0,
           "arrowwidth": 1
          },
          "autotypenumbers": "strict",
          "coloraxis": {
           "colorbar": {
            "outlinewidth": 0,
            "ticks": ""
           }
          },
          "colorscale": {
           "diverging": [
            [
             0,
             "#8e0152"
            ],
            [
             0.1,
             "#c51b7d"
            ],
            [
             0.2,
             "#de77ae"
            ],
            [
             0.3,
             "#f1b6da"
            ],
            [
             0.4,
             "#fde0ef"
            ],
            [
             0.5,
             "#f7f7f7"
            ],
            [
             0.6,
             "#e6f5d0"
            ],
            [
             0.7,
             "#b8e186"
            ],
            [
             0.8,
             "#7fbc41"
            ],
            [
             0.9,
             "#4d9221"
            ],
            [
             1,
             "#276419"
            ]
           ],
           "sequential": [
            [
             0,
             "#0d0887"
            ],
            [
             0.1111111111111111,
             "#46039f"
            ],
            [
             0.2222222222222222,
             "#7201a8"
            ],
            [
             0.3333333333333333,
             "#9c179e"
            ],
            [
             0.4444444444444444,
             "#bd3786"
            ],
            [
             0.5555555555555556,
             "#d8576b"
            ],
            [
             0.6666666666666666,
             "#ed7953"
            ],
            [
             0.7777777777777778,
             "#fb9f3a"
            ],
            [
             0.8888888888888888,
             "#fdca26"
            ],
            [
             1,
             "#f0f921"
            ]
           ],
           "sequentialminus": [
            [
             0,
             "#0d0887"
            ],
            [
             0.1111111111111111,
             "#46039f"
            ],
            [
             0.2222222222222222,
             "#7201a8"
            ],
            [
             0.3333333333333333,
             "#9c179e"
            ],
            [
             0.4444444444444444,
             "#bd3786"
            ],
            [
             0.5555555555555556,
             "#d8576b"
            ],
            [
             0.6666666666666666,
             "#ed7953"
            ],
            [
             0.7777777777777778,
             "#fb9f3a"
            ],
            [
             0.8888888888888888,
             "#fdca26"
            ],
            [
             1,
             "#f0f921"
            ]
           ]
          },
          "colorway": [
           "#636efa",
           "#EF553B",
           "#00cc96",
           "#ab63fa",
           "#FFA15A",
           "#19d3f3",
           "#FF6692",
           "#B6E880",
           "#FF97FF",
           "#FECB52"
          ],
          "font": {
           "color": "#2a3f5f"
          },
          "geo": {
           "bgcolor": "white",
           "lakecolor": "white",
           "landcolor": "#E5ECF6",
           "showlakes": true,
           "showland": true,
           "subunitcolor": "white"
          },
          "hoverlabel": {
           "align": "left"
          },
          "hovermode": "closest",
          "mapbox": {
           "style": "light"
          },
          "paper_bgcolor": "white",
          "plot_bgcolor": "#E5ECF6",
          "polar": {
           "angularaxis": {
            "gridcolor": "white",
            "linecolor": "white",
            "ticks": ""
           },
           "bgcolor": "#E5ECF6",
           "radialaxis": {
            "gridcolor": "white",
            "linecolor": "white",
            "ticks": ""
           }
          },
          "scene": {
           "xaxis": {
            "backgroundcolor": "#E5ECF6",
            "gridcolor": "white",
            "gridwidth": 2,
            "linecolor": "white",
            "showbackground": true,
            "ticks": "",
            "zerolinecolor": "white"
           },
           "yaxis": {
            "backgroundcolor": "#E5ECF6",
            "gridcolor": "white",
            "gridwidth": 2,
            "linecolor": "white",
            "showbackground": true,
            "ticks": "",
            "zerolinecolor": "white"
           },
           "zaxis": {
            "backgroundcolor": "#E5ECF6",
            "gridcolor": "white",
            "gridwidth": 2,
            "linecolor": "white",
            "showbackground": true,
            "ticks": "",
            "zerolinecolor": "white"
           }
          },
          "shapedefaults": {
           "line": {
            "color": "#2a3f5f"
           }
          },
          "ternary": {
           "aaxis": {
            "gridcolor": "white",
            "linecolor": "white",
            "ticks": ""
           },
           "baxis": {
            "gridcolor": "white",
            "linecolor": "white",
            "ticks": ""
           },
           "bgcolor": "#E5ECF6",
           "caxis": {
            "gridcolor": "white",
            "linecolor": "white",
            "ticks": ""
           }
          },
          "title": {
           "x": 0.05
          },
          "xaxis": {
           "automargin": true,
           "gridcolor": "white",
           "linecolor": "white",
           "ticks": "",
           "title": {
            "standoff": 15
           },
           "zerolinecolor": "white",
           "zerolinewidth": 2
          },
          "yaxis": {
           "automargin": true,
           "gridcolor": "white",
           "linecolor": "white",
           "ticks": "",
           "title": {
            "standoff": 15
           },
           "zerolinecolor": "white",
           "zerolinewidth": 2
          }
         }
        },
        "title": {
         "text": "NDVI graphs showing minimum, Mean and maximum value for polygon"
        },
        "xaxis": {
         "autorange": true,
         "range": [
          "2020-05-08",
          "2021-04-23"
         ],
         "title": {
          "text": "Date"
         },
         "type": "date"
        },
        "yaxis": {
         "autorange": true,
         "range": [
          814.7612554112548,
          9097.259090909078
         ],
         "title": {
          "text": "NDVI value scale = 0.0001"
         },
         "type": "linear"
        }
       }
      },
      "image/png": "[encoded data removed]",
      "text/html": [
       "<div>                            <div id=\"e88d0331-7d0f-4675-ac63-6e2c0a58e73c\" class=\"plotly-graph-div\" style=\"height:525px; width:100%;\"></div>            <script type=\"text/javascript\">                require([\"plotly\"], function(Plotly) {                    window.PLOTLYENV=window.PLOTLYENV || {};                                    if (document.getElementById(\"e88d0331-7d0f-4675-ac63-6e2c0a58e73c\")) {                    Plotly.newPlot(                        \"e88d0331-7d0f-4675-ac63-6e2c0a58e73c\",                        [{\"line\":{\"color\":\"#EE82EE\",\"width\":0.1},\"name\":\"Minimum NDVI\",\"type\":\"scatter\",\"x\":[\"2020-05-08T00:00:00\",\"2020-05-16T00:00:00\",\"2020-05-24T00:00:00\",\"2020-06-01T00:00:00\",\"2020-06-09T00:00:00\",\"2020-06-17T00:00:00\",\"2020-06-25T00:00:00\",\"2020-07-03T00:00:00\",\"2020-07-11T00:00:00\",\"2020-07-19T00:00:00\",\"2020-07-27T00:00:00\",\"2020-08-04T00:00:00\",\"2020-08-12T00:00:00\",\"2020-08-20T00:00:00\",\"2020-08-28T00:00:00\",\"2020-09-05T00:00:00\",\"2020-09-13T00:00:00\",\"2020-09-21T00:00:00\",\"2020-09-29T00:00:00\",\"2020-10-07T00:00:00\",\"2020-10-15T00:00:00\",\"2020-10-23T00:00:00\",\"2020-10-31T00:00:00\",\"2020-11-08T00:00:00\",\"2020-11-16T00:00:00\",\"2020-11-24T00:00:00\",\"2020-12-02T00:00:00\",\"2020-12-10T00:00:00\",\"2020-12-18T00:00:00\",\"2020-12-26T00:00:00\",\"2021-01-01T00:00:00\",\"2021-01-09T00:00:00\",\"2021-01-17T00:00:00\",\"2021-01-25T00:00:00\",\"2021-02-02T00:00:00\",\"2021-02-10T00:00:00\",\"2021-02-18T00:00:00\",\"2021-02-26T00:00:00\",\"2021-03-06T00:00:00\",\"2021-03-14T00:00:00\",\"2021-03-22T00:00:00\",\"2021-03-30T00:00:00\",\"2021-04-07T00:00:00\",\"2021-04-15T00:00:00\",\"2021-04-23T00:00:00\"],\"y\":[3491.3757575757586,2254.827272727273,1500.6640692640685,1228.886147186146,1439.4935064935044,2368.186147186144,3408.337662337657,4381.9913419913355,5002.303030303023,5946.515151515143,6895.991341991332,7047.705627705618,7140.865800865791,7926.203463203452,8164.181818181807,7714.16883116882,6820.025974025964,5929.012987012979,4905.272727272721,4064.8961038960983,3155.8268398268356,2620.718614718611,2360.1688311688276,2160.103896103893,2320.393939393936,2647.8961038961,3562.168831168826,4524.532467532461,5347.597402597396,6099.238095238086,6543.787878787869,6790.909090909081,7050.645021645012,7075.91341991341,7315.1168831168725,7193.969696969687,6588.489177489168,5889.805194805186,4931.0519480519415,3910.9523809523753,3111.9307359307318,2612.8077922077955,2309.4056277056306,2201.724242424244,2289.7636363636357]},{\"fill\":\"tonexty\",\"line\":{\"color\":\"#EE82EE\"},\"name\":\"Mean NDVI\",\"type\":\"scatter\",\"x\":[\"2020-05-08T00:00:00\",\"2020-05-16T00:00:00\",\"2020-05-24T00:00:00\",\"2020-06-01T00:00:00\",\"2020-06-09T00:00:00\",\"2020-06-17T00:00:00\",\"2020-06-25T00:00:00\",\"2020-07-03T00:00:00\",\"2020-07-11T00:00:00\",\"2020-07-19T00:00:00\",\"2020-07-27T00:00:00\",\"2020-08-04T00:00:00\",\"2020-08-12T00:00:00\",\"2020-08-20T00:00:00\",\"2020-08-28T00:00:00\",\"2020-09-05T00:00:00\",\"2020-09-13T00:00:00\",\"2020-09-21T00:00:00\",\"2020-09-29T00:00:00\",\"2020-10-07T00:00:00\",\"2020-10-15T00:00:00\",\"2020-10-23T00:00:00\",\"2020-10-31T00:00:00\",\"2020-11-08T00:00:00\",\"2020-11-16T00:00:00\",\"2020-11-24T00:00:00\",\"2020-12-02T00:00:00\",\"2020-12-10T00:00:00\",\"2020-12-18T00:00:00\",\"2020-12-26T00:00:00\",\"2021-01-01T00:00:00\",\"2021-01-09T00:00:00\",\"2021-01-17T00:00:00\",\"2021-01-25T00:00:00\",\"2021-02-02T00:00:00\",\"2021-02-10T00:00:00\",\"2021-02-18T00:00:00\",\"2021-02-26T00:00:00\",\"2021-03-06T00:00:00\",\"2021-03-14T00:00:00\",\"2021-03-22T00:00:00\",\"2021-03-30T00:00:00\",\"2021-04-07T00:00:00\",\"2021-04-15T00:00:00\",\"2021-04-23T00:00:00\"],\"y\":[3599.7299435028267,2498.0515862668417,1870.1372601974304,1715.9869652945927,2035.6007015583255,3078.5197768333314,4262.749552707173,5492.563826004496,6361.8421634862225,7210.312424863262,7767.062764918686,7708.512668122828,7739.085598017791,8152.264436128831,8271.479173368993,7894.47773977434,7068.491556466123,6152.996949378297,5065.892017586926,4222.287926762498,3327.435067757097,2861.697085400471,2674.473910270517,2563.536311146477,2818.0288101728743,3234.447752812155,4078.3900788477,4964.547486411886,5734.763761662059,6437.522996777225,6798.007402202307,7046.295145532424,7254.333965469548,7342.770949389584,7542.674791310374,7487.125597566264,6876.9281791654585,6185.742534301848,5190.437243547406,4157.01538010012,3282.20511409494,2746.276009301433,2414.5222672807413,2286.94388803287,2363.5408715578187]},{\"fill\":\"tonexty\",\"line\":{\"color\":\"#EE82EE\",\"width\":0.1},\"name\":\"Max NDVI\",\"type\":\"scatter\",\"x\":[\"2020-05-08T00:00:00\",\"2020-05-16T00:00:00\",\"2020-05-24T00:00:00\",\"2020-06-01T00:00:00\",\"2020-06-09T00:00:00\",\"2020-06-17T00:00:00\",\"2020-06-25T00:00:00\",\"2020-07-03T00:00:00\",\"2020-07-11T00:00:00\",\"2020-07-19T00:00:00\",\"2020-07-27T00:00:00\",\"2020-08-04T00:00:00\",\"2020-08-12T00:00:00\",\"2020-08-20T00:00:00\",\"2020-08-28T00:00:00\",\"2020-09-05T00:00:00\",\"2020-09-13T00:00:00\",\"2020-09-21T00:00:00\",\"2020-09-29T00:00:00\",\"2020-10-07T00:00:00\",\"2020-10-15T00:00:00\",\"2020-10-23T00:00:00\",\"2020-10-31T00:00:00\",\"2020-11-08T00:00:00\",\"2020-11-16T00:00:00\",\"2020-11-24T00:00:00\",\"2020-12-02T00:00:00\",\"2020-12-10T00:00:00\",\"2020-12-18T00:00:00\",\"2020-12-26T00:00:00\",\"2021-01-01T00:00:00\",\"2021-01-09T00:00:00\",\"2021-01-17T00:00:00\",\"2021-01-25T00:00:00\",\"2021-02-02T00:00:00\",\"2021-02-10T00:00:00\",\"2021-02-18T00:00:00\",\"2021-02-26T00:00:00\",\"2021-03-06T00:00:00\",\"2021-03-14T00:00:00\",\"2021-03-22T00:00:00\",\"2021-03-30T00:00:00\",\"2021-04-07T00:00:00\",\"2021-04-15T00:00:00\",\"2021-04-23T00:00:00\"],\"y\":[3951.8060606060603,3095.551515151515,2648.4030303030304,2610.3606060606053,2981.424242424238,4022.7056277056217,5176.805194805187,6241.839826839818,7317.718614718605,8209.406926406915,8493.03896103895,8603.359307359295,8543.831168831155,8683.134199134187,8618.354978354966,8070.805194805183,7411.722943722933,6475.852813852805,5329.419913419906,4505.510822510816,3662.5238095238046,3343.580086580082,3249.7186147186103,3298.5194805194756,3691.5281385281332,4190.84415584415,4905.3549783549715,5619.696969696963,6256.87445887445,6856.848484848475,7059.337662337652,7355.164502164492,7570.264069264059,7733.904761904751,7922.818181818171,7967.112554112544,7378.233766233756,6726.329004328995,5705.718614718607,4637.0606060606,3639.744588744584,3054.9329004328993,2682.1645021645,2521.4393939393904,2572.7575757575714]}],                        {\"template\":{\"data\":{\"bar\":[{\"error_x\":{\"color\":\"#2a3f5f\"},\"error_y\":{\"color\":\"#2a3f5f\"},\"marker\":{\"line\":{\"color\":\"#E5ECF6\",\"width\":0.5},\"pattern\":{\"fillmode\":\"overlay\",\"size\":10,\"solidity\":0.2}},\"type\":\"bar\"}],\"barpolar\":[{\"marker\":{\"line\":{\"color\":\"#E5ECF6\",\"width\":0.5},\"pattern\":{\"fillmode\":\"overlay\",\"size\":10,\"solidity\":0.2}},\"type\":\"barpolar\"}],\"carpet\":[{\"aaxis\":{\"endlinecolor\":\"#2a3f5f\",\"gridcolor\":\"white\",\"linecolor\":\"white\",\"minorgridcolor\":\"white\",\"startlinecolor\":\"#2a3f5f\"},\"baxis\":{\"endlinecolor\":\"#2a3f5f\",\"gridcolor\":\"white\",\"linecolor\":\"white\",\"minorgridcolor\":\"white\",\"startlinecolor\":\"#2a3f5f\"},\"type\":\"carpet\"}],\"choropleth\":[{\"colorbar\":{\"outlinewidth\":0,\"ticks\":\"\"},\"type\":\"choropleth\"}],\"contour\":[{\"colorbar\":{\"outlinewidth\":0,\"ticks\":\"\"},\"colorscale\":[[0.0,\"#0d0887\"],[0.1111111111111111,\"#46039f\"],[0.2222222222222222,\"#7201a8\"],[0.3333333333333333,\"#9c179e\"],[0.4444444444444444,\"#bd3786\"],[0.5555555555555556,\"#d8576b\"],[0.6666666666666666,\"#ed7953\"],[0.7777777777777778,\"#fb9f3a\"],[0.8888888888888888,\"#fdca26\"],[1.0,\"#f0f921\"]],\"type\":\"contour\"}],\"contourcarpet\":[{\"colorbar\":{\"outlinewidth\":0,\"ticks\":\"\"},\"type\":\"contourcarpet\"}],\"heatmap\":[{\"colorbar\":{\"outlinewidth\":0,\"ticks\":\"\"},\"colorscale\":[[0.0,\"#0d0887\"],[0.1111111111111111,\"#46039f\"],[0.2222222222222222,\"#7201a8\"],[0.3333333333333333,\"#9c179e\"],[0.4444444444444444,\"#bd3786\"],[0.5555555555555556,\"#d8576b\"],[0.6666666666666666,\"#ed7953\"],[0.7777777777777778,\"#fb9f3a\"],[0.8888888888888888,\"#fdca26\"],[1.0,\"#f0f921\"]],\"type\":\"heatmap\"}],\"heatmapgl\":[{\"colorbar\":{\"outlinewidth\":0,\"ticks\":\"\"},\"colorscale\":[[0.0,\"#0d0887\"],[0.1111111111111111,\"#46039f\"],[0.2222222222222222,\"#7201a8\"],[0.3333333333333333,\"#9c179e\"],[0.4444444444444444,\"#bd3786\"],[0.5555555555555556,\"#d8576b\"],[0.6666666666666666,\"#ed7953\"],[0.7777777777777778,\"#fb9f3a\"],[0.8888888888888888,\"#fdca26\"],[1.0,\"#f0f921\"]],\"type\":\"heatmapgl\"}],\"histogram\":[{\"marker\":{\"pattern\":{\"fillmode\":\"overlay\",\"size\":10,\"solidity\":0.2}},\"type\":\"histogram\"}],\"histogram2d\":[{\"colorbar\":{\"outlinewidth\":0,\"ticks\":\"\"},\"colorscale\":[[0.0,\"#0d0887\"],[0.1111111111111111,\"#46039f\"],[0.2222222222222222,\"#7201a8\"],[0.3333333333333333,\"#9c179e\"],[0.4444444444444444,\"#bd3786\"],[0.5555555555555556,\"#d8576b\"],[0.6666666666666666,\"#ed7953\"],[0.7777777777777778,\"#fb9f3a\"],[0.8888888888888888,\"#fdca26\"],[1.0,\"#f0f921\"]],\"type\":\"histogram2d\"}],\"histogram2dcontour\":[{\"colorbar\":{\"outlinewidth\":0,\"ticks\":\"\"},\"colorscale\":[[0.0,\"#0d0887\"],[0.1111111111111111,\"#46039f\"],[0.2222222222222222,\"#7201a8\"],[0.3333333333333333,\"#9c179e\"],[0.4444444444444444,\"#bd3786\"],[0.5555555555555556,\"#d8576b\"],[0.6666666666666666,\"#ed7953\"],[0.7777777777777778,\"#fb9f3a\"],[0.8888888888888888,\"#fdca26\"],[1.0,\"#f0f921\"]],\"type\":\"histogram2dcontour\"}],\"mesh3d\":[{\"colorbar\":{\"outlinewidth\":0,\"ticks\":\"\"},\"type\":\"mesh3d\"}],\"parcoords\":[{\"line\":{\"colorbar\":{\"outlinewidth\":0,\"ticks\":\"\"}},\"type\":\"parcoords\"}],\"pie\":[{\"automargin\":true,\"type\":\"pie\"}],\"scatter\":[{\"marker\":{\"colorbar\":{\"outlinewidth\":0,\"ticks\":\"\"}},\"type\":\"scatter\"}],\"scatter3d\":[{\"line\":{\"colorbar\":{\"outlinewidth\":0,\"ticks\":\"\"}},\"marker\":{\"colorbar\":{\"outlinewidth\":0,\"ticks\":\"\"}},\"type\":\"scatter3d\"}],\"scattercarpet\":[{\"marker\":{\"colorbar\":{\"outlinewidth\":0,\"ticks\":\"\"}},\"type\":\"scattercarpet\"}],\"scattergeo\":[{\"marker\":{\"colorbar\":{\"outlinewidth\":0,\"ticks\":\"\"}},\"type\":\"scattergeo\"}],\"scattergl\":[{\"marker\":{\"colorbar\":{\"outlinewidth\":0,\"ticks\":\"\"}},\"type\":\"scattergl\"}],\"scattermapbox\":[{\"marker\":{\"colorbar\":{\"outlinewidth\":0,\"ticks\":\"\"}},\"type\":\"scattermapbox\"}],\"scatterpolar\":[{\"marker\":{\"colorbar\":{\"outlinewidth\":0,\"ticks\":\"\"}},\"type\":\"scatterpolar\"}],\"scatterpolargl\":[{\"marker\":{\"colorbar\":{\"outlinewidth\":0,\"ticks\":\"\"}},\"type\":\"scatterpolargl\"}],\"scatterternary\":[{\"marker\":{\"colorbar\":{\"outlinewidth\":0,\"ticks\":\"\"}},\"type\":\"scatterternary\"}],\"surface\":[{\"colorbar\":{\"outlinewidth\":0,\"ticks\":\"\"},\"colorscale\":[[0.0,\"#0d0887\"],[0.1111111111111111,\"#46039f\"],[0.2222222222222222,\"#7201a8\"],[0.3333333333333333,\"#9c179e\"],[0.4444444444444444,\"#bd3786\"],[0.5555555555555556,\"#d8576b\"],[0.6666666666666666,\"#ed7953\"],[0.7777777777777778,\"#fb9f3a\"],[0.8888888888888888,\"#fdca26\"],[1.0,\"#f0f921\"]],\"type\":\"surface\"}],\"table\":[{\"cells\":{\"fill\":{\"color\":\"#EBF0F8\"},\"line\":{\"color\":\"white\"}},\"header\":{\"fill\":{\"color\":\"#C8D4E3\"},\"line\":{\"color\":\"white\"}},\"type\":\"table\"}]},\"layout\":{\"annotationdefaults\":{\"arrowcolor\":\"#2a3f5f\",\"arrowhead\":0,\"arrowwidth\":1},\"autotypenumbers\":\"strict\",\"coloraxis\":{\"colorbar\":{\"outlinewidth\":0,\"ticks\":\"\"}},\"colorscale\":{\"diverging\":[[0,\"#8e0152\"],[0.1,\"#c51b7d\"],[0.2,\"#de77ae\"],[0.3,\"#f1b6da\"],[0.4,\"#fde0ef\"],[0.5,\"#f7f7f7\"],[0.6,\"#e6f5d0\"],[0.7,\"#b8e186\"],[0.8,\"#7fbc41\"],[0.9,\"#4d9221\"],[1,\"#276419\"]],\"sequential\":[[0.0,\"#0d0887\"],[0.1111111111111111,\"#46039f\"],[0.2222222222222222,\"#7201a8\"],[0.3333333333333333,\"#9c179e\"],[0.4444444444444444,\"#bd3786\"],[0.5555555555555556,\"#d8576b\"],[0.6666666666666666,\"#ed7953\"],[0.7777777777777778,\"#fb9f3a\"],[0.8888888888888888,\"#fdca26\"],[1.0,\"#f0f921\"]],\"sequentialminus\":[[0.0,\"#0d0887\"],[0.1111111111111111,\"#46039f\"],[0.2222222222222222,\"#7201a8\"],[0.3333333333333333,\"#9c179e\"],[0.4444444444444444,\"#bd3786\"],[0.5555555555555556,\"#d8576b\"],[0.6666666666666666,\"#ed7953\"],[0.7777777777777778,\"#fb9f3a\"],[0.8888888888888888,\"#fdca26\"],[1.0,\"#f0f921\"]]},\"colorway\":[\"#636efa\",\"#EF553B\",\"#00cc96\",\"#ab63fa\",\"#FFA15A\",\"#19d3f3\",\"#FF6692\",\"#B6E880\",\"#FF97FF\",\"#FECB52\"],\"font\":{\"color\":\"#2a3f5f\"},\"geo\":{\"bgcolor\":\"white\",\"lakecolor\":\"white\",\"landcolor\":\"#E5ECF6\",\"showlakes\":true,\"showland\":true,\"subunitcolor\":\"white\"},\"hoverlabel\":{\"align\":\"left\"},\"hovermode\":\"closest\",\"mapbox\":{\"style\":\"light\"},\"paper_bgcolor\":\"white\",\"plot_bgcolor\":\"#E5ECF6\",\"polar\":{\"angularaxis\":{\"gridcolor\":\"white\",\"linecolor\":\"white\",\"ticks\":\"\"},\"bgcolor\":\"#E5ECF6\",\"radialaxis\":{\"gridcolor\":\"white\",\"linecolor\":\"white\",\"ticks\":\"\"}},\"scene\":{\"xaxis\":{\"backgroundcolor\":\"#E5ECF6\",\"gridcolor\":\"white\",\"gridwidth\":2,\"linecolor\":\"white\",\"showbackground\":true,\"ticks\":\"\",\"zerolinecolor\":\"white\"},\"yaxis\":{\"backgroundcolor\":\"#E5ECF6\",\"gridcolor\":\"white\",\"gridwidth\":2,\"linecolor\":\"white\",\"showbackground\":true,\"ticks\":\"\",\"zerolinecolor\":\"white\"},\"zaxis\":{\"backgroundcolor\":\"#E5ECF6\",\"gridcolor\":\"white\",\"gridwidth\":2,\"linecolor\":\"white\",\"showbackground\":true,\"ticks\":\"\",\"zerolinecolor\":\"white\"}},\"shapedefaults\":{\"line\":{\"color\":\"#2a3f5f\"}},\"ternary\":{\"aaxis\":{\"gridcolor\":\"white\",\"linecolor\":\"white\",\"ticks\":\"\"},\"baxis\":{\"gridcolor\":\"white\",\"linecolor\":\"white\",\"ticks\":\"\"},\"bgcolor\":\"#E5ECF6\",\"caxis\":{\"gridcolor\":\"white\",\"linecolor\":\"white\",\"ticks\":\"\"}},\"title\":{\"x\":0.05},\"xaxis\":{\"automargin\":true,\"gridcolor\":\"white\",\"linecolor\":\"white\",\"ticks\":\"\",\"title\":{\"standoff\":15},\"zerolinecolor\":\"white\",\"zerolinewidth\":2},\"yaxis\":{\"automargin\":true,\"gridcolor\":\"white\",\"linecolor\":\"white\",\"ticks\":\"\",\"title\":{\"standoff\":15},\"zerolinecolor\":\"white\",\"zerolinewidth\":2}}},\"title\":{\"text\":\"NDVI graphs showing minimum, Mean and maximum value for polygon\"},\"xaxis\":{\"title\":{\"text\":\"Date\"}},\"yaxis\":{\"title\":{\"text\":\"NDVI value scale = 0.0001\"}}},                        {\"responsive\": true}                    ).then(function(){\n",
       "                            \n",
       "var gd = document.getElementById('e88d0331-7d0f-4675-ac63-6e2c0a58e73c');\n",
       "var x = new MutationObserver(function (mutations, observer) {{\n",
       "        var display = window.getComputedStyle(gd).display;\n",
       "        if (!display || display === 'none') {{\n",
       "            console.log([gd, 'removed!']);\n",
       "            Plotly.purge(gd);\n",
       "            observer.disconnect();\n",
       "        }}\n",
       "}});\n",
       "\n",
       "// Listen for the removal of the full notebook cells\n",
       "var notebookContainer = gd.closest('#notebook-container');\n",
       "if (notebookContainer) {{\n",
       "    x.observe(notebookContainer, {childList: true});\n",
       "}}\n",
       "\n",
       "// Listen for the clearing of the current output cell\n",
       "var outputEl = gd.closest('.output');\n",
       "if (outputEl) {{\n",
       "    x.observe(outputEl, {childList: true});\n",
       "}}\n",
       "\n",
       "                        })                };                });            </script>        </div>"
      ]
     },
     "metadata": {},
     "output_type": "display_data"
    }
   ],
   "source": [
    "# reference taken from following link\n",
    "# https://stackoverflow.com/a/61494764\n",
    "\n",
    "#random color generation in plotly\n",
    "hex_colors_dic = {}\n",
    "rgb_colors_dic = {}\n",
    "hex_colors_only = []\n",
    "for name, hex in matplotlib.colors.cnames.items():\n",
    "    hex_colors_only.append(hex)\n",
    "    hex_colors_dic[name] = hex\n",
    "    rgb_colors_dic[name] = matplotlib.colors.to_rgb(hex)\n",
    "\n",
    "\n",
    "fig = go.Figure()\n",
    "# c = random.choice(hex_colors_only)\n",
    "c = '#EE82EE'\n",
    "print(c)\n",
    "\n",
    "# Create and style traces\n",
    "fig.add_trace(go.Scatter(x=date, y=min, name='Minimum NDVI',\n",
    "                         line=dict(color=c, width=0.1)))\n",
    "fig.add_trace(go.Scatter(x=date, y=mean, name = 'Mean NDVI',\n",
    "                         line=dict(color=c), fill='tonexty'))\n",
    "fig.add_trace(go.Scatter(x=date, y=max, name='Max NDVI',\n",
    "                         line=dict(color=c, width=0.1), fill='tonexty' # dash options include 'dash', 'dot', and 'dashdot'\n",
    "))\n",
    "# Edit the layout\n",
    "fig.update_layout(title='NDVI graphs showing minimum, Mean and maximum value for polygon',\n",
    "                   xaxis_title='Date',\n",
    "                   yaxis_title='NDVI value scale = 0.0001')\n",
    "\n",
    "\n",
    "fig.show()"
   ]
  },
  {
   "cell_type": "code",
   "execution_count": null,
   "id": "51feb32f-8b4c-4e34-a8b5-2b267efb4f71",
   "metadata": {},
   "outputs": [],
   "source": []
  },
  {
   "cell_type": "code",
   "execution_count": null,
   "id": "bc017d9c-9e24-44cb-b1aa-3fa61ef31d50",
   "metadata": {},
   "outputs": [],
   "source": []
  }
 ],
 "metadata": {
  "kernelspec": {
   "display_name": "Python 3",
   "language": "python",
   "name": "python3"
  },
  "language_info": {
   "codemirror_mode": {
    "name": "ipython",
    "version": 3
   },
   "file_extension": ".py",
   "mimetype": "text/x-python",
   "name": "python",
   "nbconvert_exporter": "python",
   "pygments_lexer": "ipython3",
   "version": "3.8.7"
  }
 },
 "nbformat": 4,
 "nbformat_minor": 5
}
