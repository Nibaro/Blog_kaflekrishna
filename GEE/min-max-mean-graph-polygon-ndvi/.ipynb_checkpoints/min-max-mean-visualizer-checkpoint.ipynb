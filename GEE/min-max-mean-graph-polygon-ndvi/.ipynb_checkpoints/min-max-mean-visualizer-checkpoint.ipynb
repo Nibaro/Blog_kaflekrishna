{
 "cells": [
  {
   "cell_type": "markdown",
   "id": "a596ba1a-8cc3-4cfe-a518-31f0a71f0b52",
   "metadata": {},
   "source": [
    "## Import Google earth engine API and Authenticate"
   ]
  },
  {
   "cell_type": "code",
   "execution_count": 1,
   "id": "72151a25-a0ac-4a06-8811-ff9856cc194a",
   "metadata": {},
   "outputs": [],
   "source": [
    "# import Google earth engine module\n",
    "import ee\n",
    "\n",
    "#Authenticate the Google earth engine with google account\n",
    "# First firt setup only, no need to run this after first run\n",
    "\n",
    "\n",
    "# ee.Authenticate()\n",
    "\n",
    "# for normal/regular use for authorization\n",
    "# this is required regularly\n",
    "ee.Initialize()"
   ]
  },
  {
   "cell_type": "code",
   "execution_count": 30,
   "id": "b2029acd-c0fd-4a61-b669-5246097e006e",
   "metadata": {},
   "outputs": [],
   "source": [
    "#Pandas modules to interact data\n",
    "import numpy as np\n",
    "import pandas as pd\n",
    "import geopandas as gpd"
   ]
  },
  {
   "cell_type": "code",
   "execution_count": 2,
   "id": "68dbd175-0d92-4f15-b68f-7c60d5e149fc",
   "metadata": {},
   "outputs": [],
   "source": [
    "import warnings\n",
    "warnings.filterwarnings('ignore')"
   ]
  },
  {
   "cell_type": "markdown",
   "id": "6fa576fa-1c29-4d9c-97a7-f78e7c18ed1d",
   "metadata": {},
   "source": [
    "## Define starting and ending year of study (Both year Inclusive)"
   ]
  },
  {
   "cell_type": "code",
   "execution_count": 44,
   "id": "969a8747-0f06-429f-a466-29e5cd501574",
   "metadata": {},
   "outputs": [],
   "source": [
    "# Longer the duration, Longer it will take for Processing and downloading of Images\n",
    "StartDate = '2020-05-01'\n",
    "EndDate = '2021-04-30'"
   ]
  },
  {
   "cell_type": "markdown",
   "id": "9a35a207-6267-41d1-8220-883dbca5178e",
   "metadata": {},
   "source": [
    "## Define area of interest"
   ]
  },
  {
   "cell_type": "code",
   "execution_count": 45,
   "id": "e1d989a6-791d-4e77-b5c0-3fc30509c13c",
   "metadata": {},
   "outputs": [],
   "source": [
    "pol = ee.Geometry.Polygon(\n",
    "    [[[81.03752257234235,28.560898024907527],\n",
    "      [81.04466797715803,28.560898024907527],\n",
    "      [81.04466797715803,28.56510070523194],\n",
    "      [81.03752257234235,28.56510070523194],\n",
    "      [81.03752257234235,28.560898024907527]\n",
    "    ]])"
   ]
  },
  {
   "cell_type": "code",
   "execution_count": 46,
   "id": "db4227c9-422c-4703-87eb-a7f2c5711959",
   "metadata": {},
   "outputs": [
    {
     "name": "stdout",
     "output_type": "stream",
     "text": [
      "{'type': 'FeatureCollection', 'columns': {'id': 'Integer', 'name': 'String', 'system:index': 'String'}, 'features': [{'type': 'Feature', 'geometry': {'type': 'Polygon', 'coordinates': [[[81.03752257234235, 28.560898024907527], [81.04466797715803, 28.560898024907527], [81.04466797715803, 28.56510070523194], [81.03752257234235, 28.56510070523194], [81.03752257234235, 28.560898024907527]]]}, 'id': '0', 'properties': {'id': 1, 'name': 'nepal-crop-poly'}}]}\n"
     ]
    }
   ],
   "source": [
    "ens = [\n",
    "    ee.Feature(pol, {'name': 'nepal-crop-poly', 'id':1})\n",
    "]\n",
    "\n",
    "col =  ee.FeatureCollection(ens)\n",
    "print(col.getInfo())"
   ]
  },
  {
   "cell_type": "code",
   "execution_count": null,
   "id": "d5484290-cf24-4ad3-a194-6b25b75d5632",
   "metadata": {},
   "outputs": [],
   "source": []
  },
  {
   "cell_type": "code",
   "execution_count": 47,
   "id": "1fae0aaa-1cd1-4d2c-b5cd-38e63f67e222",
   "metadata": {},
   "outputs": [],
   "source": [
    "def addDate(image):\n",
    "    img_date = ee.Date(image.date())\n",
    "    img_date = ee.Number.parse(img_date.format('YYYYMMdd'))\n",
    "    return image.addBands(ee.Image(img_date).rename('date').toInt())"
   ]
  },
  {
   "cell_type": "code",
   "execution_count": 48,
   "id": "e83f6974-8c9a-4ac6-b175-e97efab2295e",
   "metadata": {},
   "outputs": [],
   "source": [
    "# add satellite time series: MODIS EVI 250m 16 day -------------\n",
    "# terra sensor\n",
    "collectionModEvi_terra = ee.ImageCollection('MODIS/006/MOD13Q1').filterDate(StartDate,EndDate) \\\n",
    "    .filterBounds(pol)\\\n",
    "    .select('EVI')\n",
    "\n",
    "# Aqua sensor\n",
    "collectionModEvi_aqua = ee.ImageCollection('MODIS/061/MYD13Q1').filterDate(StartDate,EndDate) \\\n",
    "    .filterBounds(pol)\\\n",
    "    .select('EVI');\n",
    "\n",
    "collectionModEvi = collectionModEvi_terra.merge(collectionModEvi_aqua)\n",
    "# THis will provide us 250 m of EVI datasets from MODIS on 8 day interval"
   ]
  },
  {
   "cell_type": "code",
   "execution_count": 49,
   "id": "32c241e1-ef44-45cd-bbe6-7b2fc5bf561f",
   "metadata": {},
   "outputs": [],
   "source": [
    "def extractMinMaxMean(image):\n",
    "    return image.reduceRegions(**{\n",
    "    'collection':col,\n",
    "    'reducer':ee.Reducer.minMax().combine(ee.Reducer.mean(), '', True), \n",
    "  })"
   ]
  },
  {
   "cell_type": "code",
   "execution_count": 50,
   "id": "c2547311-6c3a-4690-83f6-b77cbdf31bea",
   "metadata": {},
   "outputs": [],
   "source": [
    "ModEVI = collectionModEvi.filterBounds(pol).map(addDate).map(extractMinMaxMean).flatten()"
   ]
  },
  {
   "cell_type": "code",
   "execution_count": 51,
   "id": "38f9d511-4d92-4a25-b393-a4c0f08d0f14",
   "metadata": {},
   "outputs": [
    {
     "data": {
      "text/plain": [
       "{'type': 'Feature',\n",
       " 'geometry': {'type': 'Polygon',\n",
       "  'coordinates': [[[81.03752257234235, 28.560898024907527],\n",
       "    [81.04466797715803, 28.560898024907527],\n",
       "    [81.04466797715803, 28.56510070523194],\n",
       "    [81.03752257234235, 28.56510070523194],\n",
       "    [81.03752257234235, 28.560898024907527]]]},\n",
       " 'id': '1_2020_05_08_0',\n",
       " 'properties': {'EVI_max': 2157,\n",
       "  'EVI_mean': 1685.8409387222948,\n",
       "  'EVI_min': 1502,\n",
       "  'date_max': 20200508,\n",
       "  'date_mean': 20200508,\n",
       "  'date_min': 20200508,\n",
       "  'id': 1,\n",
       "  'name': 'nepal-crop-poly'}}"
      ]
     },
     "execution_count": 51,
     "metadata": {},
     "output_type": "execute_result"
    }
   ],
   "source": [
    "sample_result = ModEVI.first().getInfo()\n",
    "sample_result"
   ]
  },
  {
   "cell_type": "code",
   "execution_count": 52,
   "id": "b702c5ee-0145-4d07-99ad-d35758972005",
   "metadata": {},
   "outputs": [],
   "source": [
    "# extract the properties column from feature collection\n",
    "# column order may not be as our sample data order\n",
    "column_df = ['EVI_mean', 'EVI_min', 'EVI_max', 'date_min', 'id', 'name']"
   ]
  },
  {
   "cell_type": "code",
   "execution_count": 53,
   "id": "5fab0764-871d-49e4-80d2-908d48f72269",
   "metadata": {
    "scrolled": true,
    "tags": []
   },
   "outputs": [
    {
     "data": {
      "text/plain": [
       "[[1685.8409387222948, 1502, 2157, 20200508, 1, 'nepal-crop-poly'],\n",
       " [1302.8194263363755, 1215, 1511, 20200524, 1, 'nepal-crop-poly'],\n",
       " [1407.929595827901, 1305, 1911, 20200609, 1, 'nepal-crop-poly'],\n",
       " [1335.658409387223, 490, 2353, 20200625, 1, 'nepal-crop-poly'],\n",
       " [6226.6923076923085, 6076, 6484, 20200711, 1, 'nepal-crop-poly'],\n",
       " [4895.9367666232065, 4413, 5562, 20200727, 1, 'nepal-crop-poly'],\n",
       " [7795.807692307692, 7696, 8157, 20200812, 1, 'nepal-crop-poly'],\n",
       " [6233.191003911343, 5439, 6914, 20200828, 1, 'nepal-crop-poly'],\n",
       " [5524.9185136897, 5386, 5706, 20200913, 1, 'nepal-crop-poly'],\n",
       " [2904.248370273794, 2789, 3040, 20200929, 1, 'nepal-crop-poly'],\n",
       " [1922.4080834419817, 1833, 2158, 20201015, 1, 'nepal-crop-poly'],\n",
       " [1660.8520208604955, 1602, 1976, 20201031, 1, 'nepal-crop-poly'],\n",
       " [1668.2913950456323, 1297, 2387, 20201116, 1, 'nepal-crop-poly'],\n",
       " [2335.3702737940025, 1964, 3188, 20201202, 1, 'nepal-crop-poly'],\n",
       " [3404.239895697523, 2935, 3885, 20201218, 1, 'nepal-crop-poly'],\n",
       " [3812.575619295958, 3314, 4390, 20210101, 1, 'nepal-crop-poly'],\n",
       " [5836.833767926988, 5505, 6435, 20210117, 1, 'nepal-crop-poly'],\n",
       " [4785.78813559322, 4397, 5391, 20210202, 1, 'nepal-crop-poly'],\n",
       " [4337.74185136897, 3843, 5130, 20210218, 1, 'nepal-crop-poly'],\n",
       " [3509.294002607562, 3173, 4122, 20210306, 1, 'nepal-crop-poly'],\n",
       " [1977.9608865710559, 1806, 2270, 20210322, 1, 'nepal-crop-poly'],\n",
       " [1669.4843546284224, 1556, 1824, 20210407, 1, 'nepal-crop-poly'],\n",
       " [1484.7979139504566, 1386, 1696, 20210423, 1, 'nepal-crop-poly'],\n",
       " [1833.1479791395047, 1705, 2283, 20200516, 1, 'nepal-crop-poly'],\n",
       " [1188.5475880052152, 686, 1909, 20200601, 1, 'nepal-crop-poly'],\n",
       " [1727.9758800521515, 1597, 1941, 20200617, 1, 'nepal-crop-poly'],\n",
       " [4279.960234680574, 2553, 4790, 20200703, 1, 'nepal-crop-poly'],\n",
       " [4394.986310299871, 3987, 4952, 20200719, 1, 'nepal-crop-poly'],\n",
       " [4729.89374185137, 4074, 7090, 20200804, 1, 'nepal-crop-poly'],\n",
       " [7053.679921773142, 6639, 7307, 20200820, 1, 'nepal-crop-poly'],\n",
       " [5774.007170795307, 5663, 5905, 20200905, 1, 'nepal-crop-poly'],\n",
       " [4897.944589308996, 4661, 5361, 20200921, 1, 'nepal-crop-poly'],\n",
       " [2597.834419817471, 2349, 2990, 20201007, 1, 'nepal-crop-poly'],\n",
       " [1881.2679269882656, 1811, 2146, 20201023, 1, 'nepal-crop-poly'],\n",
       " [1501.7809647979138, 1119, 2315, 20201108, 1, 'nepal-crop-poly'],\n",
       " [1700.4667535853976, 1384, 2172, 20201124, 1, 'nepal-crop-poly'],\n",
       " [3407.1603650586703, 3010, 4059, 20201210, 1, 'nepal-crop-poly'],\n",
       " [5577.992829204694, 5494, 5720, 20201226, 1, 'nepal-crop-poly'],\n",
       " [4983.222294654499, 4788, 5296, 20210109, 1, 'nepal-crop-poly'],\n",
       " [5111.3044328552805, 4898, 5522, 20210125, 1, 'nepal-crop-poly'],\n",
       " [5371.142112125163, 5219, 5770, 20210210, 1, 'nepal-crop-poly'],\n",
       " [4465.398956975228, 4195, 5240, 20210226, 1, 'nepal-crop-poly'],\n",
       " [1775.279009126467, 1661, 2064, 20210314, 1, 'nepal-crop-poly'],\n",
       " [1499.2359843546283, 1416, 1692, 20210330, 1, 'nepal-crop-poly'],\n",
       " [1553.0338983050847, 1467, 1745, 20210415, 1, 'nepal-crop-poly']]"
      ]
     },
     "execution_count": 53,
     "metadata": {},
     "output_type": "execute_result"
    }
   ],
   "source": [
    "nested_list = ModEVI.reduceColumns(ee.Reducer.toList(len(column_df)), column_df).values().get(0)\n",
    "data = nested_list.getInfo()\n",
    "data"
   ]
  },
  {
   "cell_type": "code",
   "execution_count": 54,
   "id": "6745ebb6-6ca6-40f8-acba-e6c27ec49e16",
   "metadata": {},
   "outputs": [],
   "source": [
    "# dont forget we need to call the callback method \"getInfo\" to retrieve the data\n",
    "df = pd.DataFrame(data, columns=column_df)\n",
    "# we obtain the data frame as per our demand\n",
    "# df"
   ]
  },
  {
   "cell_type": "code",
   "execution_count": 55,
   "id": "ff6c4a27-3aa4-469c-ac99-edb718453692",
   "metadata": {},
   "outputs": [
    {
     "data": {
      "text/html": [
       "<div>\n",
       "<style scoped>\n",
       "    .dataframe tbody tr th:only-of-type {\n",
       "        vertical-align: middle;\n",
       "    }\n",
       "\n",
       "    .dataframe tbody tr th {\n",
       "        vertical-align: top;\n",
       "    }\n",
       "\n",
       "    .dataframe thead th {\n",
       "        text-align: right;\n",
       "    }\n",
       "</style>\n",
       "<table border=\"1\" class=\"dataframe\">\n",
       "  <thead>\n",
       "    <tr style=\"text-align: right;\">\n",
       "      <th></th>\n",
       "      <th>EVI_mean</th>\n",
       "      <th>EVI_min</th>\n",
       "      <th>EVI_max</th>\n",
       "      <th>date_min</th>\n",
       "      <th>id</th>\n",
       "      <th>name</th>\n",
       "      <th>date</th>\n",
       "    </tr>\n",
       "  </thead>\n",
       "  <tbody>\n",
       "    <tr>\n",
       "      <th>0</th>\n",
       "      <td>1685.840939</td>\n",
       "      <td>1502</td>\n",
       "      <td>2157</td>\n",
       "      <td>20200508</td>\n",
       "      <td>1</td>\n",
       "      <td>nepal-crop-poly</td>\n",
       "      <td>2020-05-08</td>\n",
       "    </tr>\n",
       "    <tr>\n",
       "      <th>23</th>\n",
       "      <td>1833.147979</td>\n",
       "      <td>1705</td>\n",
       "      <td>2283</td>\n",
       "      <td>20200516</td>\n",
       "      <td>1</td>\n",
       "      <td>nepal-crop-poly</td>\n",
       "      <td>2020-05-16</td>\n",
       "    </tr>\n",
       "    <tr>\n",
       "      <th>1</th>\n",
       "      <td>1302.819426</td>\n",
       "      <td>1215</td>\n",
       "      <td>1511</td>\n",
       "      <td>20200524</td>\n",
       "      <td>1</td>\n",
       "      <td>nepal-crop-poly</td>\n",
       "      <td>2020-05-24</td>\n",
       "    </tr>\n",
       "    <tr>\n",
       "      <th>24</th>\n",
       "      <td>1188.547588</td>\n",
       "      <td>686</td>\n",
       "      <td>1909</td>\n",
       "      <td>20200601</td>\n",
       "      <td>1</td>\n",
       "      <td>nepal-crop-poly</td>\n",
       "      <td>2020-06-01</td>\n",
       "    </tr>\n",
       "    <tr>\n",
       "      <th>2</th>\n",
       "      <td>1407.929596</td>\n",
       "      <td>1305</td>\n",
       "      <td>1911</td>\n",
       "      <td>20200609</td>\n",
       "      <td>1</td>\n",
       "      <td>nepal-crop-poly</td>\n",
       "      <td>2020-06-09</td>\n",
       "    </tr>\n",
       "    <tr>\n",
       "      <th>25</th>\n",
       "      <td>1727.975880</td>\n",
       "      <td>1597</td>\n",
       "      <td>1941</td>\n",
       "      <td>20200617</td>\n",
       "      <td>1</td>\n",
       "      <td>nepal-crop-poly</td>\n",
       "      <td>2020-06-17</td>\n",
       "    </tr>\n",
       "    <tr>\n",
       "      <th>3</th>\n",
       "      <td>1335.658409</td>\n",
       "      <td>490</td>\n",
       "      <td>2353</td>\n",
       "      <td>20200625</td>\n",
       "      <td>1</td>\n",
       "      <td>nepal-crop-poly</td>\n",
       "      <td>2020-06-25</td>\n",
       "    </tr>\n",
       "    <tr>\n",
       "      <th>26</th>\n",
       "      <td>4279.960235</td>\n",
       "      <td>2553</td>\n",
       "      <td>4790</td>\n",
       "      <td>20200703</td>\n",
       "      <td>1</td>\n",
       "      <td>nepal-crop-poly</td>\n",
       "      <td>2020-07-03</td>\n",
       "    </tr>\n",
       "    <tr>\n",
       "      <th>4</th>\n",
       "      <td>6226.692308</td>\n",
       "      <td>6076</td>\n",
       "      <td>6484</td>\n",
       "      <td>20200711</td>\n",
       "      <td>1</td>\n",
       "      <td>nepal-crop-poly</td>\n",
       "      <td>2020-07-11</td>\n",
       "    </tr>\n",
       "    <tr>\n",
       "      <th>27</th>\n",
       "      <td>4394.986310</td>\n",
       "      <td>3987</td>\n",
       "      <td>4952</td>\n",
       "      <td>20200719</td>\n",
       "      <td>1</td>\n",
       "      <td>nepal-crop-poly</td>\n",
       "      <td>2020-07-19</td>\n",
       "    </tr>\n",
       "    <tr>\n",
       "      <th>5</th>\n",
       "      <td>4895.936767</td>\n",
       "      <td>4413</td>\n",
       "      <td>5562</td>\n",
       "      <td>20200727</td>\n",
       "      <td>1</td>\n",
       "      <td>nepal-crop-poly</td>\n",
       "      <td>2020-07-27</td>\n",
       "    </tr>\n",
       "    <tr>\n",
       "      <th>28</th>\n",
       "      <td>4729.893742</td>\n",
       "      <td>4074</td>\n",
       "      <td>7090</td>\n",
       "      <td>20200804</td>\n",
       "      <td>1</td>\n",
       "      <td>nepal-crop-poly</td>\n",
       "      <td>2020-08-04</td>\n",
       "    </tr>\n",
       "    <tr>\n",
       "      <th>6</th>\n",
       "      <td>7795.807692</td>\n",
       "      <td>7696</td>\n",
       "      <td>8157</td>\n",
       "      <td>20200812</td>\n",
       "      <td>1</td>\n",
       "      <td>nepal-crop-poly</td>\n",
       "      <td>2020-08-12</td>\n",
       "    </tr>\n",
       "    <tr>\n",
       "      <th>29</th>\n",
       "      <td>7053.679922</td>\n",
       "      <td>6639</td>\n",
       "      <td>7307</td>\n",
       "      <td>20200820</td>\n",
       "      <td>1</td>\n",
       "      <td>nepal-crop-poly</td>\n",
       "      <td>2020-08-20</td>\n",
       "    </tr>\n",
       "    <tr>\n",
       "      <th>7</th>\n",
       "      <td>6233.191004</td>\n",
       "      <td>5439</td>\n",
       "      <td>6914</td>\n",
       "      <td>20200828</td>\n",
       "      <td>1</td>\n",
       "      <td>nepal-crop-poly</td>\n",
       "      <td>2020-08-28</td>\n",
       "    </tr>\n",
       "    <tr>\n",
       "      <th>30</th>\n",
       "      <td>5774.007171</td>\n",
       "      <td>5663</td>\n",
       "      <td>5905</td>\n",
       "      <td>20200905</td>\n",
       "      <td>1</td>\n",
       "      <td>nepal-crop-poly</td>\n",
       "      <td>2020-09-05</td>\n",
       "    </tr>\n",
       "    <tr>\n",
       "      <th>8</th>\n",
       "      <td>5524.918514</td>\n",
       "      <td>5386</td>\n",
       "      <td>5706</td>\n",
       "      <td>20200913</td>\n",
       "      <td>1</td>\n",
       "      <td>nepal-crop-poly</td>\n",
       "      <td>2020-09-13</td>\n",
       "    </tr>\n",
       "    <tr>\n",
       "      <th>31</th>\n",
       "      <td>4897.944589</td>\n",
       "      <td>4661</td>\n",
       "      <td>5361</td>\n",
       "      <td>20200921</td>\n",
       "      <td>1</td>\n",
       "      <td>nepal-crop-poly</td>\n",
       "      <td>2020-09-21</td>\n",
       "    </tr>\n",
       "    <tr>\n",
       "      <th>9</th>\n",
       "      <td>2904.248370</td>\n",
       "      <td>2789</td>\n",
       "      <td>3040</td>\n",
       "      <td>20200929</td>\n",
       "      <td>1</td>\n",
       "      <td>nepal-crop-poly</td>\n",
       "      <td>2020-09-29</td>\n",
       "    </tr>\n",
       "    <tr>\n",
       "      <th>32</th>\n",
       "      <td>2597.834420</td>\n",
       "      <td>2349</td>\n",
       "      <td>2990</td>\n",
       "      <td>20201007</td>\n",
       "      <td>1</td>\n",
       "      <td>nepal-crop-poly</td>\n",
       "      <td>2020-10-07</td>\n",
       "    </tr>\n",
       "    <tr>\n",
       "      <th>10</th>\n",
       "      <td>1922.408083</td>\n",
       "      <td>1833</td>\n",
       "      <td>2158</td>\n",
       "      <td>20201015</td>\n",
       "      <td>1</td>\n",
       "      <td>nepal-crop-poly</td>\n",
       "      <td>2020-10-15</td>\n",
       "    </tr>\n",
       "    <tr>\n",
       "      <th>33</th>\n",
       "      <td>1881.267927</td>\n",
       "      <td>1811</td>\n",
       "      <td>2146</td>\n",
       "      <td>20201023</td>\n",
       "      <td>1</td>\n",
       "      <td>nepal-crop-poly</td>\n",
       "      <td>2020-10-23</td>\n",
       "    </tr>\n",
       "    <tr>\n",
       "      <th>11</th>\n",
       "      <td>1660.852021</td>\n",
       "      <td>1602</td>\n",
       "      <td>1976</td>\n",
       "      <td>20201031</td>\n",
       "      <td>1</td>\n",
       "      <td>nepal-crop-poly</td>\n",
       "      <td>2020-10-31</td>\n",
       "    </tr>\n",
       "    <tr>\n",
       "      <th>34</th>\n",
       "      <td>1501.780965</td>\n",
       "      <td>1119</td>\n",
       "      <td>2315</td>\n",
       "      <td>20201108</td>\n",
       "      <td>1</td>\n",
       "      <td>nepal-crop-poly</td>\n",
       "      <td>2020-11-08</td>\n",
       "    </tr>\n",
       "    <tr>\n",
       "      <th>12</th>\n",
       "      <td>1668.291395</td>\n",
       "      <td>1297</td>\n",
       "      <td>2387</td>\n",
       "      <td>20201116</td>\n",
       "      <td>1</td>\n",
       "      <td>nepal-crop-poly</td>\n",
       "      <td>2020-11-16</td>\n",
       "    </tr>\n",
       "    <tr>\n",
       "      <th>35</th>\n",
       "      <td>1700.466754</td>\n",
       "      <td>1384</td>\n",
       "      <td>2172</td>\n",
       "      <td>20201124</td>\n",
       "      <td>1</td>\n",
       "      <td>nepal-crop-poly</td>\n",
       "      <td>2020-11-24</td>\n",
       "    </tr>\n",
       "    <tr>\n",
       "      <th>13</th>\n",
       "      <td>2335.370274</td>\n",
       "      <td>1964</td>\n",
       "      <td>3188</td>\n",
       "      <td>20201202</td>\n",
       "      <td>1</td>\n",
       "      <td>nepal-crop-poly</td>\n",
       "      <td>2020-12-02</td>\n",
       "    </tr>\n",
       "    <tr>\n",
       "      <th>36</th>\n",
       "      <td>3407.160365</td>\n",
       "      <td>3010</td>\n",
       "      <td>4059</td>\n",
       "      <td>20201210</td>\n",
       "      <td>1</td>\n",
       "      <td>nepal-crop-poly</td>\n",
       "      <td>2020-12-10</td>\n",
       "    </tr>\n",
       "    <tr>\n",
       "      <th>14</th>\n",
       "      <td>3404.239896</td>\n",
       "      <td>2935</td>\n",
       "      <td>3885</td>\n",
       "      <td>20201218</td>\n",
       "      <td>1</td>\n",
       "      <td>nepal-crop-poly</td>\n",
       "      <td>2020-12-18</td>\n",
       "    </tr>\n",
       "    <tr>\n",
       "      <th>37</th>\n",
       "      <td>5577.992829</td>\n",
       "      <td>5494</td>\n",
       "      <td>5720</td>\n",
       "      <td>20201226</td>\n",
       "      <td>1</td>\n",
       "      <td>nepal-crop-poly</td>\n",
       "      <td>2020-12-26</td>\n",
       "    </tr>\n",
       "    <tr>\n",
       "      <th>15</th>\n",
       "      <td>3812.575619</td>\n",
       "      <td>3314</td>\n",
       "      <td>4390</td>\n",
       "      <td>20210101</td>\n",
       "      <td>1</td>\n",
       "      <td>nepal-crop-poly</td>\n",
       "      <td>2021-01-01</td>\n",
       "    </tr>\n",
       "    <tr>\n",
       "      <th>38</th>\n",
       "      <td>4983.222295</td>\n",
       "      <td>4788</td>\n",
       "      <td>5296</td>\n",
       "      <td>20210109</td>\n",
       "      <td>1</td>\n",
       "      <td>nepal-crop-poly</td>\n",
       "      <td>2021-01-09</td>\n",
       "    </tr>\n",
       "    <tr>\n",
       "      <th>16</th>\n",
       "      <td>5836.833768</td>\n",
       "      <td>5505</td>\n",
       "      <td>6435</td>\n",
       "      <td>20210117</td>\n",
       "      <td>1</td>\n",
       "      <td>nepal-crop-poly</td>\n",
       "      <td>2021-01-17</td>\n",
       "    </tr>\n",
       "    <tr>\n",
       "      <th>39</th>\n",
       "      <td>5111.304433</td>\n",
       "      <td>4898</td>\n",
       "      <td>5522</td>\n",
       "      <td>20210125</td>\n",
       "      <td>1</td>\n",
       "      <td>nepal-crop-poly</td>\n",
       "      <td>2021-01-25</td>\n",
       "    </tr>\n",
       "    <tr>\n",
       "      <th>17</th>\n",
       "      <td>4785.788136</td>\n",
       "      <td>4397</td>\n",
       "      <td>5391</td>\n",
       "      <td>20210202</td>\n",
       "      <td>1</td>\n",
       "      <td>nepal-crop-poly</td>\n",
       "      <td>2021-02-02</td>\n",
       "    </tr>\n",
       "    <tr>\n",
       "      <th>40</th>\n",
       "      <td>5371.142112</td>\n",
       "      <td>5219</td>\n",
       "      <td>5770</td>\n",
       "      <td>20210210</td>\n",
       "      <td>1</td>\n",
       "      <td>nepal-crop-poly</td>\n",
       "      <td>2021-02-10</td>\n",
       "    </tr>\n",
       "    <tr>\n",
       "      <th>18</th>\n",
       "      <td>4337.741851</td>\n",
       "      <td>3843</td>\n",
       "      <td>5130</td>\n",
       "      <td>20210218</td>\n",
       "      <td>1</td>\n",
       "      <td>nepal-crop-poly</td>\n",
       "      <td>2021-02-18</td>\n",
       "    </tr>\n",
       "    <tr>\n",
       "      <th>41</th>\n",
       "      <td>4465.398957</td>\n",
       "      <td>4195</td>\n",
       "      <td>5240</td>\n",
       "      <td>20210226</td>\n",
       "      <td>1</td>\n",
       "      <td>nepal-crop-poly</td>\n",
       "      <td>2021-02-26</td>\n",
       "    </tr>\n",
       "    <tr>\n",
       "      <th>19</th>\n",
       "      <td>3509.294003</td>\n",
       "      <td>3173</td>\n",
       "      <td>4122</td>\n",
       "      <td>20210306</td>\n",
       "      <td>1</td>\n",
       "      <td>nepal-crop-poly</td>\n",
       "      <td>2021-03-06</td>\n",
       "    </tr>\n",
       "    <tr>\n",
       "      <th>42</th>\n",
       "      <td>1775.279009</td>\n",
       "      <td>1661</td>\n",
       "      <td>2064</td>\n",
       "      <td>20210314</td>\n",
       "      <td>1</td>\n",
       "      <td>nepal-crop-poly</td>\n",
       "      <td>2021-03-14</td>\n",
       "    </tr>\n",
       "    <tr>\n",
       "      <th>20</th>\n",
       "      <td>1977.960887</td>\n",
       "      <td>1806</td>\n",
       "      <td>2270</td>\n",
       "      <td>20210322</td>\n",
       "      <td>1</td>\n",
       "      <td>nepal-crop-poly</td>\n",
       "      <td>2021-03-22</td>\n",
       "    </tr>\n",
       "    <tr>\n",
       "      <th>43</th>\n",
       "      <td>1499.235984</td>\n",
       "      <td>1416</td>\n",
       "      <td>1692</td>\n",
       "      <td>20210330</td>\n",
       "      <td>1</td>\n",
       "      <td>nepal-crop-poly</td>\n",
       "      <td>2021-03-30</td>\n",
       "    </tr>\n",
       "    <tr>\n",
       "      <th>21</th>\n",
       "      <td>1669.484355</td>\n",
       "      <td>1556</td>\n",
       "      <td>1824</td>\n",
       "      <td>20210407</td>\n",
       "      <td>1</td>\n",
       "      <td>nepal-crop-poly</td>\n",
       "      <td>2021-04-07</td>\n",
       "    </tr>\n",
       "    <tr>\n",
       "      <th>44</th>\n",
       "      <td>1553.033898</td>\n",
       "      <td>1467</td>\n",
       "      <td>1745</td>\n",
       "      <td>20210415</td>\n",
       "      <td>1</td>\n",
       "      <td>nepal-crop-poly</td>\n",
       "      <td>2021-04-15</td>\n",
       "    </tr>\n",
       "    <tr>\n",
       "      <th>22</th>\n",
       "      <td>1484.797914</td>\n",
       "      <td>1386</td>\n",
       "      <td>1696</td>\n",
       "      <td>20210423</td>\n",
       "      <td>1</td>\n",
       "      <td>nepal-crop-poly</td>\n",
       "      <td>2021-04-23</td>\n",
       "    </tr>\n",
       "  </tbody>\n",
       "</table>\n",
       "</div>"
      ],
      "text/plain": [
       "       EVI_mean  EVI_min  EVI_max  date_min  id             name       date\n",
       "0   1685.840939     1502     2157  20200508   1  nepal-crop-poly 2020-05-08\n",
       "23  1833.147979     1705     2283  20200516   1  nepal-crop-poly 2020-05-16\n",
       "1   1302.819426     1215     1511  20200524   1  nepal-crop-poly 2020-05-24\n",
       "24  1188.547588      686     1909  20200601   1  nepal-crop-poly 2020-06-01\n",
       "2   1407.929596     1305     1911  20200609   1  nepal-crop-poly 2020-06-09\n",
       "25  1727.975880     1597     1941  20200617   1  nepal-crop-poly 2020-06-17\n",
       "3   1335.658409      490     2353  20200625   1  nepal-crop-poly 2020-06-25\n",
       "26  4279.960235     2553     4790  20200703   1  nepal-crop-poly 2020-07-03\n",
       "4   6226.692308     6076     6484  20200711   1  nepal-crop-poly 2020-07-11\n",
       "27  4394.986310     3987     4952  20200719   1  nepal-crop-poly 2020-07-19\n",
       "5   4895.936767     4413     5562  20200727   1  nepal-crop-poly 2020-07-27\n",
       "28  4729.893742     4074     7090  20200804   1  nepal-crop-poly 2020-08-04\n",
       "6   7795.807692     7696     8157  20200812   1  nepal-crop-poly 2020-08-12\n",
       "29  7053.679922     6639     7307  20200820   1  nepal-crop-poly 2020-08-20\n",
       "7   6233.191004     5439     6914  20200828   1  nepal-crop-poly 2020-08-28\n",
       "30  5774.007171     5663     5905  20200905   1  nepal-crop-poly 2020-09-05\n",
       "8   5524.918514     5386     5706  20200913   1  nepal-crop-poly 2020-09-13\n",
       "31  4897.944589     4661     5361  20200921   1  nepal-crop-poly 2020-09-21\n",
       "9   2904.248370     2789     3040  20200929   1  nepal-crop-poly 2020-09-29\n",
       "32  2597.834420     2349     2990  20201007   1  nepal-crop-poly 2020-10-07\n",
       "10  1922.408083     1833     2158  20201015   1  nepal-crop-poly 2020-10-15\n",
       "33  1881.267927     1811     2146  20201023   1  nepal-crop-poly 2020-10-23\n",
       "11  1660.852021     1602     1976  20201031   1  nepal-crop-poly 2020-10-31\n",
       "34  1501.780965     1119     2315  20201108   1  nepal-crop-poly 2020-11-08\n",
       "12  1668.291395     1297     2387  20201116   1  nepal-crop-poly 2020-11-16\n",
       "35  1700.466754     1384     2172  20201124   1  nepal-crop-poly 2020-11-24\n",
       "13  2335.370274     1964     3188  20201202   1  nepal-crop-poly 2020-12-02\n",
       "36  3407.160365     3010     4059  20201210   1  nepal-crop-poly 2020-12-10\n",
       "14  3404.239896     2935     3885  20201218   1  nepal-crop-poly 2020-12-18\n",
       "37  5577.992829     5494     5720  20201226   1  nepal-crop-poly 2020-12-26\n",
       "15  3812.575619     3314     4390  20210101   1  nepal-crop-poly 2021-01-01\n",
       "38  4983.222295     4788     5296  20210109   1  nepal-crop-poly 2021-01-09\n",
       "16  5836.833768     5505     6435  20210117   1  nepal-crop-poly 2021-01-17\n",
       "39  5111.304433     4898     5522  20210125   1  nepal-crop-poly 2021-01-25\n",
       "17  4785.788136     4397     5391  20210202   1  nepal-crop-poly 2021-02-02\n",
       "40  5371.142112     5219     5770  20210210   1  nepal-crop-poly 2021-02-10\n",
       "18  4337.741851     3843     5130  20210218   1  nepal-crop-poly 2021-02-18\n",
       "41  4465.398957     4195     5240  20210226   1  nepal-crop-poly 2021-02-26\n",
       "19  3509.294003     3173     4122  20210306   1  nepal-crop-poly 2021-03-06\n",
       "42  1775.279009     1661     2064  20210314   1  nepal-crop-poly 2021-03-14\n",
       "20  1977.960887     1806     2270  20210322   1  nepal-crop-poly 2021-03-22\n",
       "43  1499.235984     1416     1692  20210330   1  nepal-crop-poly 2021-03-30\n",
       "21  1669.484355     1556     1824  20210407   1  nepal-crop-poly 2021-04-07\n",
       "44  1553.033898     1467     1745  20210415   1  nepal-crop-poly 2021-04-15\n",
       "22  1484.797914     1386     1696  20210423   1  nepal-crop-poly 2021-04-23"
      ]
     },
     "execution_count": 55,
     "metadata": {},
     "output_type": "execute_result"
    }
   ],
   "source": [
    "df['date']= pd.to_datetime(df['date_min'], format='%Y%m%d')\n",
    "df\n",
    "df_new = df.sort_values(by=['date'])\n",
    "df_new\n"
   ]
  },
  {
   "cell_type": "code",
   "execution_count": 60,
   "id": "884dd1ea-d579-431c-a311-f02bb48300f9",
   "metadata": {},
   "outputs": [],
   "source": [
    "from scipy.signal import savgol_filter"
   ]
  },
  {
   "cell_type": "code",
   "execution_count": 56,
   "id": "a92686ed-965f-4027-9b58-7501a8886709",
   "metadata": {},
   "outputs": [],
   "source": [
    "import plotly.graph_objects as go"
   ]
  },
  {
   "cell_type": "code",
   "execution_count": 61,
   "id": "79df9b2f-3ea4-400b-a005-1bd833ae325c",
   "metadata": {},
   "outputs": [],
   "source": [
    "date = df_new['date'].tolist()\n",
    "min = savgol_filter(df_new['EVI_min'].tolist(), 9,2)\n",
    "mean = savgol_filter(df_new['EVI_mean'].tolist(), 9,2)\n",
    "max = savgol_filter(df_new['EVI_max'].tolist(),9,2)"
   ]
  },
  {
   "cell_type": "code",
   "execution_count": 63,
   "id": "9491e21b-4641-420f-99e5-183a8679d628",
   "metadata": {},
   "outputs": [
    {
     "data": {
      "application/vnd.plotly.v1+json": {
       "config": {
        "plotlyServerURL": "https://plot.ly"
       },
       "data": [
        {
         "line": {
          "color": "firebrick",
          "width": 4
         },
         "name": "Minimum EVI",
         "type": "scatter",
         "x": [
          "2020-05-08T00:00:00",
          "2020-05-16T00:00:00",
          "2020-05-24T00:00:00",
          "2020-06-01T00:00:00",
          "2020-06-09T00:00:00",
          "2020-06-17T00:00:00",
          "2020-06-25T00:00:00",
          "2020-07-03T00:00:00",
          "2020-07-11T00:00:00",
          "2020-07-19T00:00:00",
          "2020-07-27T00:00:00",
          "2020-08-04T00:00:00",
          "2020-08-12T00:00:00",
          "2020-08-20T00:00:00",
          "2020-08-28T00:00:00",
          "2020-09-05T00:00:00",
          "2020-09-13T00:00:00",
          "2020-09-21T00:00:00",
          "2020-09-29T00:00:00",
          "2020-10-07T00:00:00",
          "2020-10-15T00:00:00",
          "2020-10-23T00:00:00",
          "2020-10-31T00:00:00",
          "2020-11-08T00:00:00",
          "2020-11-16T00:00:00",
          "2020-11-24T00:00:00",
          "2020-12-02T00:00:00",
          "2020-12-10T00:00:00",
          "2020-12-18T00:00:00",
          "2020-12-26T00:00:00",
          "2021-01-01T00:00:00",
          "2021-01-09T00:00:00",
          "2021-01-17T00:00:00",
          "2021-01-25T00:00:00",
          "2021-02-02T00:00:00",
          "2021-02-10T00:00:00",
          "2021-02-18T00:00:00",
          "2021-02-26T00:00:00",
          "2021-03-06T00:00:00",
          "2021-03-14T00:00:00",
          "2021-03-22T00:00:00",
          "2021-03-30T00:00:00",
          "2021-04-07T00:00:00",
          "2021-04-15T00:00:00",
          "2021-04-23T00:00:00"
         ],
         "y": [
          2200.7212121212165,
          1300.8969696969725,
          754.8367965367981,
          562.5406926406934,
          724.0086580086568,
          1298.770562770561,
          2112.999999999997,
          3043.5454545454504,
          3433.913419913415,
          4336.5367965367905,
          5354.753246753239,
          5616.190476190468,
          5676.155844155836,
          6217.800865800857,
          6348.290043290035,
          5936.251082251074,
          4856.645021645014,
          4126.731601731596,
          3382.714285714281,
          2580.073593073589,
          1924.7316017315989,
          1549.134199134197,
          1416.6969696969677,
          1245.8484848484832,
          1377.1645021645004,
          1423.7835497835476,
          2197.168831168828,
          2817.6839826839787,
          3384.3679653679606,
          4062.1558441558386,
          4575.952380952374,
          4735.259740259733,
          5005.246753246745,
          4808.19047619047,
          5020.987012987006,
          4734.073593073586,
          4193.15151515151,
          3675.051948051943,
          2994.021645021641,
          2254.8658008657976,
          1846.7619047619023,
          1553.280952380951,
          1389.2047619047607,
          1354.5333333333324,
          1449.2666666666655
         ]
        },
        {
         "line": {
          "color": "royalblue",
          "width": 4
         },
         "name": "Mean EVI",
         "type": "scatter",
         "x": [
          "2020-05-08T00:00:00",
          "2020-05-16T00:00:00",
          "2020-05-24T00:00:00",
          "2020-06-01T00:00:00",
          "2020-06-09T00:00:00",
          "2020-06-17T00:00:00",
          "2020-06-25T00:00:00",
          "2020-07-03T00:00:00",
          "2020-07-11T00:00:00",
          "2020-07-19T00:00:00",
          "2020-07-27T00:00:00",
          "2020-08-04T00:00:00",
          "2020-08-12T00:00:00",
          "2020-08-20T00:00:00",
          "2020-08-28T00:00:00",
          "2020-09-05T00:00:00",
          "2020-09-13T00:00:00",
          "2020-09-21T00:00:00",
          "2020-09-29T00:00:00",
          "2020-10-07T00:00:00",
          "2020-10-15T00:00:00",
          "2020-10-23T00:00:00",
          "2020-10-31T00:00:00",
          "2020-11-08T00:00:00",
          "2020-11-16T00:00:00",
          "2020-11-24T00:00:00",
          "2020-12-02T00:00:00",
          "2020-12-10T00:00:00",
          "2020-12-18T00:00:00",
          "2020-12-26T00:00:00",
          "2021-01-01T00:00:00",
          "2021-01-09T00:00:00",
          "2021-01-17T00:00:00",
          "2021-01-25T00:00:00",
          "2021-02-02T00:00:00",
          "2021-02-10T00:00:00",
          "2021-02-18T00:00:00",
          "2021-02-26T00:00:00",
          "2021-03-06T00:00:00",
          "2021-03-14T00:00:00",
          "2021-03-22T00:00:00",
          "2021-03-30T00:00:00",
          "2021-04-07T00:00:00",
          "2021-04-15T00:00:00",
          "2021-04-23T00:00:00"
         ],
         "y": [
          2263.137481727315,
          1444.5337837303953,
          984.1451827833184,
          881.9716788860846,
          1138.013272038694,
          1896.097309470188,
          2809.4296325143746,
          3738.731511426422,
          4225.047026419902,
          4998.858099527584,
          5749.81132709098,
          5949.008508440704,
          6172.656693588889,
          6641.23638790587,
          6714.058627812856,
          6223.533274634961,
          5150.019014883415,
          4316.883320069755,
          3497.694395999476,
          2710.43378373039,
          2042.7327644107277,
          1687.553124841258,
          1605.4390214305445,
          1478.6600884990694,
          1685.634749431357,
          1827.8822138313637,
          2578.364863949606,
          3183.4130050740177,
          3730.659456362841,
          4404.321212685613,
          4871.704033254875,
          5031.501540832043,
          5261.991751186659,
          5117.757460054063,
          5297.590900624791,
          5073.492197068461,
          4514.760479633355,
          3990.389765601625,
          3251.0040439786158,
          2477.7812074930685,
          1980.4354233337253,
          1652.8316700248897,
          1473.5048516455286,
          1442.4549681956437,
          1559.682019675237
         ]
        },
        {
         "line": {
          "color": "firebrick",
          "width": 4
         },
         "name": "Max EVI",
         "type": "scatter",
         "x": [
          "2020-05-08T00:00:00",
          "2020-05-16T00:00:00",
          "2020-05-24T00:00:00",
          "2020-06-01T00:00:00",
          "2020-06-09T00:00:00",
          "2020-06-17T00:00:00",
          "2020-06-25T00:00:00",
          "2020-07-03T00:00:00",
          "2020-07-11T00:00:00",
          "2020-07-19T00:00:00",
          "2020-07-27T00:00:00",
          "2020-08-04T00:00:00",
          "2020-08-12T00:00:00",
          "2020-08-20T00:00:00",
          "2020-08-28T00:00:00",
          "2020-09-05T00:00:00",
          "2020-09-13T00:00:00",
          "2020-09-21T00:00:00",
          "2020-09-29T00:00:00",
          "2020-10-07T00:00:00",
          "2020-10-15T00:00:00",
          "2020-10-23T00:00:00",
          "2020-10-31T00:00:00",
          "2020-11-08T00:00:00",
          "2020-11-16T00:00:00",
          "2020-11-24T00:00:00",
          "2020-12-02T00:00:00",
          "2020-12-10T00:00:00",
          "2020-12-18T00:00:00",
          "2020-12-26T00:00:00",
          "2021-01-01T00:00:00",
          "2021-01-09T00:00:00",
          "2021-01-17T00:00:00",
          "2021-01-25T00:00:00",
          "2021-02-02T00:00:00",
          "2021-02-10T00:00:00",
          "2021-02-18T00:00:00",
          "2021-02-26T00:00:00",
          "2021-03-06T00:00:00",
          "2021-03-14T00:00:00",
          "2021-03-22T00:00:00",
          "2021-03-30T00:00:00",
          "2021-04-07T00:00:00",
          "2021-04-15T00:00:00",
          "2021-04-23T00:00:00"
         ],
         "y": [
          2630.3939393939386,
          1884.348484848484,
          1477.8636363636356,
          1410.9393939393926,
          1683.5757575757548,
          2450.3506493506457,
          3364.619047619043,
          4087.783549783544,
          4901.79653679653,
          5882.70129870129,
          6598.164502164493,
          6927.333333333323,
          7105.077922077911,
          7328.705627705618,
          7167.545454545445,
          6359.329004328994,
          5457.865800865793,
          4605.987012987007,
          3736.077922077917,
          2964.5151515151474,
          2328.1428571428537,
          2054.2424242424213,
          2061.5281385281355,
          2023.3939393939363,
          2357.1168831168798,
          2574.2510822510785,
          3237.9999999999955,
          3741.376623376618,
          4208.28138528138,
          4858.541125541119,
          5239.519480519473,
          5449.813852813845,
          5700.610389610381,
          5623.7922077922,
          5833.870129870122,
          5720.865800865793,
          5158.510822510816,
          4632.268398268392,
          3805.9177489177437,
          2930.012987012983,
          2264.467532467529,
          1868.0307359307344,
          1651.6870129870103,
          1615.4363636363591,
          1759.2787878787813
         ]
        }
       ],
       "layout": {
        "autosize": true,
        "template": {
         "data": {
          "bar": [
           {
            "error_x": {
             "color": "#2a3f5f"
            },
            "error_y": {
             "color": "#2a3f5f"
            },
            "marker": {
             "line": {
              "color": "#E5ECF6",
              "width": 0.5
             },
             "pattern": {
              "fillmode": "overlay",
              "size": 10,
              "solidity": 0.2
             }
            },
            "type": "bar"
           }
          ],
          "barpolar": [
           {
            "marker": {
             "line": {
              "color": "#E5ECF6",
              "width": 0.5
             },
             "pattern": {
              "fillmode": "overlay",
              "size": 10,
              "solidity": 0.2
             }
            },
            "type": "barpolar"
           }
          ],
          "carpet": [
           {
            "aaxis": {
             "endlinecolor": "#2a3f5f",
             "gridcolor": "white",
             "linecolor": "white",
             "minorgridcolor": "white",
             "startlinecolor": "#2a3f5f"
            },
            "baxis": {
             "endlinecolor": "#2a3f5f",
             "gridcolor": "white",
             "linecolor": "white",
             "minorgridcolor": "white",
             "startlinecolor": "#2a3f5f"
            },
            "type": "carpet"
           }
          ],
          "choropleth": [
           {
            "colorbar": {
             "outlinewidth": 0,
             "ticks": ""
            },
            "type": "choropleth"
           }
          ],
          "contour": [
           {
            "colorbar": {
             "outlinewidth": 0,
             "ticks": ""
            },
            "colorscale": [
             [
              0,
              "#0d0887"
             ],
             [
              0.1111111111111111,
              "#46039f"
             ],
             [
              0.2222222222222222,
              "#7201a8"
             ],
             [
              0.3333333333333333,
              "#9c179e"
             ],
             [
              0.4444444444444444,
              "#bd3786"
             ],
             [
              0.5555555555555556,
              "#d8576b"
             ],
             [
              0.6666666666666666,
              "#ed7953"
             ],
             [
              0.7777777777777778,
              "#fb9f3a"
             ],
             [
              0.8888888888888888,
              "#fdca26"
             ],
             [
              1,
              "#f0f921"
             ]
            ],
            "type": "contour"
           }
          ],
          "contourcarpet": [
           {
            "colorbar": {
             "outlinewidth": 0,
             "ticks": ""
            },
            "type": "contourcarpet"
           }
          ],
          "heatmap": [
           {
            "colorbar": {
             "outlinewidth": 0,
             "ticks": ""
            },
            "colorscale": [
             [
              0,
              "#0d0887"
             ],
             [
              0.1111111111111111,
              "#46039f"
             ],
             [
              0.2222222222222222,
              "#7201a8"
             ],
             [
              0.3333333333333333,
              "#9c179e"
             ],
             [
              0.4444444444444444,
              "#bd3786"
             ],
             [
              0.5555555555555556,
              "#d8576b"
             ],
             [
              0.6666666666666666,
              "#ed7953"
             ],
             [
              0.7777777777777778,
              "#fb9f3a"
             ],
             [
              0.8888888888888888,
              "#fdca26"
             ],
             [
              1,
              "#f0f921"
             ]
            ],
            "type": "heatmap"
           }
          ],
          "heatmapgl": [
           {
            "colorbar": {
             "outlinewidth": 0,
             "ticks": ""
            },
            "colorscale": [
             [
              0,
              "#0d0887"
             ],
             [
              0.1111111111111111,
              "#46039f"
             ],
             [
              0.2222222222222222,
              "#7201a8"
             ],
             [
              0.3333333333333333,
              "#9c179e"
             ],
             [
              0.4444444444444444,
              "#bd3786"
             ],
             [
              0.5555555555555556,
              "#d8576b"
             ],
             [
              0.6666666666666666,
              "#ed7953"
             ],
             [
              0.7777777777777778,
              "#fb9f3a"
             ],
             [
              0.8888888888888888,
              "#fdca26"
             ],
             [
              1,
              "#f0f921"
             ]
            ],
            "type": "heatmapgl"
           }
          ],
          "histogram": [
           {
            "marker": {
             "pattern": {
              "fillmode": "overlay",
              "size": 10,
              "solidity": 0.2
             }
            },
            "type": "histogram"
           }
          ],
          "histogram2d": [
           {
            "colorbar": {
             "outlinewidth": 0,
             "ticks": ""
            },
            "colorscale": [
             [
              0,
              "#0d0887"
             ],
             [
              0.1111111111111111,
              "#46039f"
             ],
             [
              0.2222222222222222,
              "#7201a8"
             ],
             [
              0.3333333333333333,
              "#9c179e"
             ],
             [
              0.4444444444444444,
              "#bd3786"
             ],
             [
              0.5555555555555556,
              "#d8576b"
             ],
             [
              0.6666666666666666,
              "#ed7953"
             ],
             [
              0.7777777777777778,
              "#fb9f3a"
             ],
             [
              0.8888888888888888,
              "#fdca26"
             ],
             [
              1,
              "#f0f921"
             ]
            ],
            "type": "histogram2d"
           }
          ],
          "histogram2dcontour": [
           {
            "colorbar": {
             "outlinewidth": 0,
             "ticks": ""
            },
            "colorscale": [
             [
              0,
              "#0d0887"
             ],
             [
              0.1111111111111111,
              "#46039f"
             ],
             [
              0.2222222222222222,
              "#7201a8"
             ],
             [
              0.3333333333333333,
              "#9c179e"
             ],
             [
              0.4444444444444444,
              "#bd3786"
             ],
             [
              0.5555555555555556,
              "#d8576b"
             ],
             [
              0.6666666666666666,
              "#ed7953"
             ],
             [
              0.7777777777777778,
              "#fb9f3a"
             ],
             [
              0.8888888888888888,
              "#fdca26"
             ],
             [
              1,
              "#f0f921"
             ]
            ],
            "type": "histogram2dcontour"
           }
          ],
          "mesh3d": [
           {
            "colorbar": {
             "outlinewidth": 0,
             "ticks": ""
            },
            "type": "mesh3d"
           }
          ],
          "parcoords": [
           {
            "line": {
             "colorbar": {
              "outlinewidth": 0,
              "ticks": ""
             }
            },
            "type": "parcoords"
           }
          ],
          "pie": [
           {
            "automargin": true,
            "type": "pie"
           }
          ],
          "scatter": [
           {
            "marker": {
             "colorbar": {
              "outlinewidth": 0,
              "ticks": ""
             }
            },
            "type": "scatter"
           }
          ],
          "scatter3d": [
           {
            "line": {
             "colorbar": {
              "outlinewidth": 0,
              "ticks": ""
             }
            },
            "marker": {
             "colorbar": {
              "outlinewidth": 0,
              "ticks": ""
             }
            },
            "type": "scatter3d"
           }
          ],
          "scattercarpet": [
           {
            "marker": {
             "colorbar": {
              "outlinewidth": 0,
              "ticks": ""
             }
            },
            "type": "scattercarpet"
           }
          ],
          "scattergeo": [
           {
            "marker": {
             "colorbar": {
              "outlinewidth": 0,
              "ticks": ""
             }
            },
            "type": "scattergeo"
           }
          ],
          "scattergl": [
           {
            "marker": {
             "colorbar": {
              "outlinewidth": 0,
              "ticks": ""
             }
            },
            "type": "scattergl"
           }
          ],
          "scattermapbox": [
           {
            "marker": {
             "colorbar": {
              "outlinewidth": 0,
              "ticks": ""
             }
            },
            "type": "scattermapbox"
           }
          ],
          "scatterpolar": [
           {
            "marker": {
             "colorbar": {
              "outlinewidth": 0,
              "ticks": ""
             }
            },
            "type": "scatterpolar"
           }
          ],
          "scatterpolargl": [
           {
            "marker": {
             "colorbar": {
              "outlinewidth": 0,
              "ticks": ""
             }
            },
            "type": "scatterpolargl"
           }
          ],
          "scatterternary": [
           {
            "marker": {
             "colorbar": {
              "outlinewidth": 0,
              "ticks": ""
             }
            },
            "type": "scatterternary"
           }
          ],
          "surface": [
           {
            "colorbar": {
             "outlinewidth": 0,
             "ticks": ""
            },
            "colorscale": [
             [
              0,
              "#0d0887"
             ],
             [
              0.1111111111111111,
              "#46039f"
             ],
             [
              0.2222222222222222,
              "#7201a8"
             ],
             [
              0.3333333333333333,
              "#9c179e"
             ],
             [
              0.4444444444444444,
              "#bd3786"
             ],
             [
              0.5555555555555556,
              "#d8576b"
             ],
             [
              0.6666666666666666,
              "#ed7953"
             ],
             [
              0.7777777777777778,
              "#fb9f3a"
             ],
             [
              0.8888888888888888,
              "#fdca26"
             ],
             [
              1,
              "#f0f921"
             ]
            ],
            "type": "surface"
           }
          ],
          "table": [
           {
            "cells": {
             "fill": {
              "color": "#EBF0F8"
             },
             "line": {
              "color": "white"
             }
            },
            "header": {
             "fill": {
              "color": "#C8D4E3"
             },
             "line": {
              "color": "white"
             }
            },
            "type": "table"
           }
          ]
         },
         "layout": {
          "annotationdefaults": {
           "arrowcolor": "#2a3f5f",
           "arrowhead": 0,
           "arrowwidth": 1
          },
          "autotypenumbers": "strict",
          "coloraxis": {
           "colorbar": {
            "outlinewidth": 0,
            "ticks": ""
           }
          },
          "colorscale": {
           "diverging": [
            [
             0,
             "#8e0152"
            ],
            [
             0.1,
             "#c51b7d"
            ],
            [
             0.2,
             "#de77ae"
            ],
            [
             0.3,
             "#f1b6da"
            ],
            [
             0.4,
             "#fde0ef"
            ],
            [
             0.5,
             "#f7f7f7"
            ],
            [
             0.6,
             "#e6f5d0"
            ],
            [
             0.7,
             "#b8e186"
            ],
            [
             0.8,
             "#7fbc41"
            ],
            [
             0.9,
             "#4d9221"
            ],
            [
             1,
             "#276419"
            ]
           ],
           "sequential": [
            [
             0,
             "#0d0887"
            ],
            [
             0.1111111111111111,
             "#46039f"
            ],
            [
             0.2222222222222222,
             "#7201a8"
            ],
            [
             0.3333333333333333,
             "#9c179e"
            ],
            [
             0.4444444444444444,
             "#bd3786"
            ],
            [
             0.5555555555555556,
             "#d8576b"
            ],
            [
             0.6666666666666666,
             "#ed7953"
            ],
            [
             0.7777777777777778,
             "#fb9f3a"
            ],
            [
             0.8888888888888888,
             "#fdca26"
            ],
            [
             1,
             "#f0f921"
            ]
           ],
           "sequentialminus": [
            [
             0,
             "#0d0887"
            ],
            [
             0.1111111111111111,
             "#46039f"
            ],
            [
             0.2222222222222222,
             "#7201a8"
            ],
            [
             0.3333333333333333,
             "#9c179e"
            ],
            [
             0.4444444444444444,
             "#bd3786"
            ],
            [
             0.5555555555555556,
             "#d8576b"
            ],
            [
             0.6666666666666666,
             "#ed7953"
            ],
            [
             0.7777777777777778,
             "#fb9f3a"
            ],
            [
             0.8888888888888888,
             "#fdca26"
            ],
            [
             1,
             "#f0f921"
            ]
           ]
          },
          "colorway": [
           "#636efa",
           "#EF553B",
           "#00cc96",
           "#ab63fa",
           "#FFA15A",
           "#19d3f3",
           "#FF6692",
           "#B6E880",
           "#FF97FF",
           "#FECB52"
          ],
          "font": {
           "color": "#2a3f5f"
          },
          "geo": {
           "bgcolor": "white",
           "lakecolor": "white",
           "landcolor": "#E5ECF6",
           "showlakes": true,
           "showland": true,
           "subunitcolor": "white"
          },
          "hoverlabel": {
           "align": "left"
          },
          "hovermode": "closest",
          "mapbox": {
           "style": "light"
          },
          "paper_bgcolor": "white",
          "plot_bgcolor": "#E5ECF6",
          "polar": {
           "angularaxis": {
            "gridcolor": "white",
            "linecolor": "white",
            "ticks": ""
           },
           "bgcolor": "#E5ECF6",
           "radialaxis": {
            "gridcolor": "white",
            "linecolor": "white",
            "ticks": ""
           }
          },
          "scene": {
           "xaxis": {
            "backgroundcolor": "#E5ECF6",
            "gridcolor": "white",
            "gridwidth": 2,
            "linecolor": "white",
            "showbackground": true,
            "ticks": "",
            "zerolinecolor": "white"
           },
           "yaxis": {
            "backgroundcolor": "#E5ECF6",
            "gridcolor": "white",
            "gridwidth": 2,
            "linecolor": "white",
            "showbackground": true,
            "ticks": "",
            "zerolinecolor": "white"
           },
           "zaxis": {
            "backgroundcolor": "#E5ECF6",
            "gridcolor": "white",
            "gridwidth": 2,
            "linecolor": "white",
            "showbackground": true,
            "ticks": "",
            "zerolinecolor": "white"
           }
          },
          "shapedefaults": {
           "line": {
            "color": "#2a3f5f"
           }
          },
          "ternary": {
           "aaxis": {
            "gridcolor": "white",
            "linecolor": "white",
            "ticks": ""
           },
           "baxis": {
            "gridcolor": "white",
            "linecolor": "white",
            "ticks": ""
           },
           "bgcolor": "#E5ECF6",
           "caxis": {
            "gridcolor": "white",
            "linecolor": "white",
            "ticks": ""
           }
          },
          "title": {
           "x": 0.05
          },
          "xaxis": {
           "automargin": true,
           "gridcolor": "white",
           "linecolor": "white",
           "ticks": "",
           "title": {
            "standoff": 15
           },
           "zerolinecolor": "white",
           "zerolinewidth": 2
          },
          "yaxis": {
           "automargin": true,
           "gridcolor": "white",
           "linecolor": "white",
           "ticks": "",
           "title": {
            "standoff": 15
           },
           "zerolinecolor": "white",
           "zerolinewidth": 2
          }
         }
        },
        "title": {
         "text": "Average High and Low Temperatures in New York"
        },
        "xaxis": {
         "autorange": true,
         "range": [
          "2020-05-08",
          "2021-04-23"
         ],
         "title": {
          "text": "Month"
         },
         "type": "date"
        },
        "yaxis": {
         "autorange": true,
         "range": [
          186.64264069264198,
          7704.603679653669
         ],
         "title": {
          "text": "Temperature (degrees F)"
         },
         "type": "linear"
        }
       }
      },
      "image/png": "[encoded data removed]",
      "text/html": [
       "<div>                            <div id=\"449cc7e3-70e3-42ce-a7b5-adb057c8419c\" class=\"plotly-graph-div\" style=\"height:525px; width:100%;\"></div>            <script type=\"text/javascript\">                require([\"plotly\"], function(Plotly) {                    window.PLOTLYENV=window.PLOTLYENV || {};                                    if (document.getElementById(\"449cc7e3-70e3-42ce-a7b5-adb057c8419c\")) {                    Plotly.newPlot(                        \"449cc7e3-70e3-42ce-a7b5-adb057c8419c\",                        [{\"line\":{\"color\":\"firebrick\",\"width\":4},\"name\":\"Minimum EVI\",\"type\":\"scatter\",\"x\":[\"2020-05-08T00:00:00\",\"2020-05-16T00:00:00\",\"2020-05-24T00:00:00\",\"2020-06-01T00:00:00\",\"2020-06-09T00:00:00\",\"2020-06-17T00:00:00\",\"2020-06-25T00:00:00\",\"2020-07-03T00:00:00\",\"2020-07-11T00:00:00\",\"2020-07-19T00:00:00\",\"2020-07-27T00:00:00\",\"2020-08-04T00:00:00\",\"2020-08-12T00:00:00\",\"2020-08-20T00:00:00\",\"2020-08-28T00:00:00\",\"2020-09-05T00:00:00\",\"2020-09-13T00:00:00\",\"2020-09-21T00:00:00\",\"2020-09-29T00:00:00\",\"2020-10-07T00:00:00\",\"2020-10-15T00:00:00\",\"2020-10-23T00:00:00\",\"2020-10-31T00:00:00\",\"2020-11-08T00:00:00\",\"2020-11-16T00:00:00\",\"2020-11-24T00:00:00\",\"2020-12-02T00:00:00\",\"2020-12-10T00:00:00\",\"2020-12-18T00:00:00\",\"2020-12-26T00:00:00\",\"2021-01-01T00:00:00\",\"2021-01-09T00:00:00\",\"2021-01-17T00:00:00\",\"2021-01-25T00:00:00\",\"2021-02-02T00:00:00\",\"2021-02-10T00:00:00\",\"2021-02-18T00:00:00\",\"2021-02-26T00:00:00\",\"2021-03-06T00:00:00\",\"2021-03-14T00:00:00\",\"2021-03-22T00:00:00\",\"2021-03-30T00:00:00\",\"2021-04-07T00:00:00\",\"2021-04-15T00:00:00\",\"2021-04-23T00:00:00\"],\"y\":[2200.7212121212165,1300.8969696969725,754.8367965367981,562.5406926406934,724.0086580086568,1298.770562770561,2112.999999999997,3043.5454545454504,3433.913419913415,4336.5367965367905,5354.753246753239,5616.190476190468,5676.155844155836,6217.800865800857,6348.290043290035,5936.251082251074,4856.645021645014,4126.731601731596,3382.714285714281,2580.073593073589,1924.7316017315989,1549.134199134197,1416.6969696969677,1245.8484848484832,1377.1645021645004,1423.7835497835476,2197.168831168828,2817.6839826839787,3384.3679653679606,4062.1558441558386,4575.952380952374,4735.259740259733,5005.246753246745,4808.19047619047,5020.987012987006,4734.073593073586,4193.15151515151,3675.051948051943,2994.021645021641,2254.8658008657976,1846.7619047619023,1553.280952380951,1389.2047619047607,1354.5333333333324,1449.2666666666655]},{\"line\":{\"color\":\"royalblue\",\"width\":4},\"name\":\"Mean EVI\",\"type\":\"scatter\",\"x\":[\"2020-05-08T00:00:00\",\"2020-05-16T00:00:00\",\"2020-05-24T00:00:00\",\"2020-06-01T00:00:00\",\"2020-06-09T00:00:00\",\"2020-06-17T00:00:00\",\"2020-06-25T00:00:00\",\"2020-07-03T00:00:00\",\"2020-07-11T00:00:00\",\"2020-07-19T00:00:00\",\"2020-07-27T00:00:00\",\"2020-08-04T00:00:00\",\"2020-08-12T00:00:00\",\"2020-08-20T00:00:00\",\"2020-08-28T00:00:00\",\"2020-09-05T00:00:00\",\"2020-09-13T00:00:00\",\"2020-09-21T00:00:00\",\"2020-09-29T00:00:00\",\"2020-10-07T00:00:00\",\"2020-10-15T00:00:00\",\"2020-10-23T00:00:00\",\"2020-10-31T00:00:00\",\"2020-11-08T00:00:00\",\"2020-11-16T00:00:00\",\"2020-11-24T00:00:00\",\"2020-12-02T00:00:00\",\"2020-12-10T00:00:00\",\"2020-12-18T00:00:00\",\"2020-12-26T00:00:00\",\"2021-01-01T00:00:00\",\"2021-01-09T00:00:00\",\"2021-01-17T00:00:00\",\"2021-01-25T00:00:00\",\"2021-02-02T00:00:00\",\"2021-02-10T00:00:00\",\"2021-02-18T00:00:00\",\"2021-02-26T00:00:00\",\"2021-03-06T00:00:00\",\"2021-03-14T00:00:00\",\"2021-03-22T00:00:00\",\"2021-03-30T00:00:00\",\"2021-04-07T00:00:00\",\"2021-04-15T00:00:00\",\"2021-04-23T00:00:00\"],\"y\":[2263.137481727315,1444.5337837303953,984.1451827833184,881.9716788860846,1138.013272038694,1896.097309470188,2809.4296325143746,3738.731511426422,4225.047026419902,4998.858099527584,5749.81132709098,5949.008508440704,6172.656693588889,6641.23638790587,6714.058627812856,6223.533274634961,5150.019014883415,4316.883320069755,3497.694395999476,2710.43378373039,2042.7327644107277,1687.553124841258,1605.4390214305445,1478.6600884990694,1685.634749431357,1827.8822138313637,2578.364863949606,3183.4130050740177,3730.659456362841,4404.321212685613,4871.704033254875,5031.501540832043,5261.991751186659,5117.757460054063,5297.590900624791,5073.492197068461,4514.760479633355,3990.389765601625,3251.0040439786158,2477.7812074930685,1980.4354233337253,1652.8316700248897,1473.5048516455286,1442.4549681956437,1559.682019675237]},{\"line\":{\"color\":\"firebrick\",\"width\":4},\"name\":\"Max EVI\",\"type\":\"scatter\",\"x\":[\"2020-05-08T00:00:00\",\"2020-05-16T00:00:00\",\"2020-05-24T00:00:00\",\"2020-06-01T00:00:00\",\"2020-06-09T00:00:00\",\"2020-06-17T00:00:00\",\"2020-06-25T00:00:00\",\"2020-07-03T00:00:00\",\"2020-07-11T00:00:00\",\"2020-07-19T00:00:00\",\"2020-07-27T00:00:00\",\"2020-08-04T00:00:00\",\"2020-08-12T00:00:00\",\"2020-08-20T00:00:00\",\"2020-08-28T00:00:00\",\"2020-09-05T00:00:00\",\"2020-09-13T00:00:00\",\"2020-09-21T00:00:00\",\"2020-09-29T00:00:00\",\"2020-10-07T00:00:00\",\"2020-10-15T00:00:00\",\"2020-10-23T00:00:00\",\"2020-10-31T00:00:00\",\"2020-11-08T00:00:00\",\"2020-11-16T00:00:00\",\"2020-11-24T00:00:00\",\"2020-12-02T00:00:00\",\"2020-12-10T00:00:00\",\"2020-12-18T00:00:00\",\"2020-12-26T00:00:00\",\"2021-01-01T00:00:00\",\"2021-01-09T00:00:00\",\"2021-01-17T00:00:00\",\"2021-01-25T00:00:00\",\"2021-02-02T00:00:00\",\"2021-02-10T00:00:00\",\"2021-02-18T00:00:00\",\"2021-02-26T00:00:00\",\"2021-03-06T00:00:00\",\"2021-03-14T00:00:00\",\"2021-03-22T00:00:00\",\"2021-03-30T00:00:00\",\"2021-04-07T00:00:00\",\"2021-04-15T00:00:00\",\"2021-04-23T00:00:00\"],\"y\":[2630.3939393939386,1884.348484848484,1477.8636363636356,1410.9393939393926,1683.5757575757548,2450.3506493506457,3364.619047619043,4087.783549783544,4901.79653679653,5882.70129870129,6598.164502164493,6927.333333333323,7105.077922077911,7328.705627705618,7167.545454545445,6359.329004328994,5457.865800865793,4605.987012987007,3736.077922077917,2964.5151515151474,2328.1428571428537,2054.2424242424213,2061.5281385281355,2023.3939393939363,2357.1168831168798,2574.2510822510785,3237.9999999999955,3741.376623376618,4208.28138528138,4858.541125541119,5239.519480519473,5449.813852813845,5700.610389610381,5623.7922077922,5833.870129870122,5720.865800865793,5158.510822510816,4632.268398268392,3805.9177489177437,2930.012987012983,2264.467532467529,1868.0307359307344,1651.6870129870103,1615.4363636363591,1759.2787878787813]}],                        {\"template\":{\"data\":{\"bar\":[{\"error_x\":{\"color\":\"#2a3f5f\"},\"error_y\":{\"color\":\"#2a3f5f\"},\"marker\":{\"line\":{\"color\":\"#E5ECF6\",\"width\":0.5},\"pattern\":{\"fillmode\":\"overlay\",\"size\":10,\"solidity\":0.2}},\"type\":\"bar\"}],\"barpolar\":[{\"marker\":{\"line\":{\"color\":\"#E5ECF6\",\"width\":0.5},\"pattern\":{\"fillmode\":\"overlay\",\"size\":10,\"solidity\":0.2}},\"type\":\"barpolar\"}],\"carpet\":[{\"aaxis\":{\"endlinecolor\":\"#2a3f5f\",\"gridcolor\":\"white\",\"linecolor\":\"white\",\"minorgridcolor\":\"white\",\"startlinecolor\":\"#2a3f5f\"},\"baxis\":{\"endlinecolor\":\"#2a3f5f\",\"gridcolor\":\"white\",\"linecolor\":\"white\",\"minorgridcolor\":\"white\",\"startlinecolor\":\"#2a3f5f\"},\"type\":\"carpet\"}],\"choropleth\":[{\"colorbar\":{\"outlinewidth\":0,\"ticks\":\"\"},\"type\":\"choropleth\"}],\"contour\":[{\"colorbar\":{\"outlinewidth\":0,\"ticks\":\"\"},\"colorscale\":[[0.0,\"#0d0887\"],[0.1111111111111111,\"#46039f\"],[0.2222222222222222,\"#7201a8\"],[0.3333333333333333,\"#9c179e\"],[0.4444444444444444,\"#bd3786\"],[0.5555555555555556,\"#d8576b\"],[0.6666666666666666,\"#ed7953\"],[0.7777777777777778,\"#fb9f3a\"],[0.8888888888888888,\"#fdca26\"],[1.0,\"#f0f921\"]],\"type\":\"contour\"}],\"contourcarpet\":[{\"colorbar\":{\"outlinewidth\":0,\"ticks\":\"\"},\"type\":\"contourcarpet\"}],\"heatmap\":[{\"colorbar\":{\"outlinewidth\":0,\"ticks\":\"\"},\"colorscale\":[[0.0,\"#0d0887\"],[0.1111111111111111,\"#46039f\"],[0.2222222222222222,\"#7201a8\"],[0.3333333333333333,\"#9c179e\"],[0.4444444444444444,\"#bd3786\"],[0.5555555555555556,\"#d8576b\"],[0.6666666666666666,\"#ed7953\"],[0.7777777777777778,\"#fb9f3a\"],[0.8888888888888888,\"#fdca26\"],[1.0,\"#f0f921\"]],\"type\":\"heatmap\"}],\"heatmapgl\":[{\"colorbar\":{\"outlinewidth\":0,\"ticks\":\"\"},\"colorscale\":[[0.0,\"#0d0887\"],[0.1111111111111111,\"#46039f\"],[0.2222222222222222,\"#7201a8\"],[0.3333333333333333,\"#9c179e\"],[0.4444444444444444,\"#bd3786\"],[0.5555555555555556,\"#d8576b\"],[0.6666666666666666,\"#ed7953\"],[0.7777777777777778,\"#fb9f3a\"],[0.8888888888888888,\"#fdca26\"],[1.0,\"#f0f921\"]],\"type\":\"heatmapgl\"}],\"histogram\":[{\"marker\":{\"pattern\":{\"fillmode\":\"overlay\",\"size\":10,\"solidity\":0.2}},\"type\":\"histogram\"}],\"histogram2d\":[{\"colorbar\":{\"outlinewidth\":0,\"ticks\":\"\"},\"colorscale\":[[0.0,\"#0d0887\"],[0.1111111111111111,\"#46039f\"],[0.2222222222222222,\"#7201a8\"],[0.3333333333333333,\"#9c179e\"],[0.4444444444444444,\"#bd3786\"],[0.5555555555555556,\"#d8576b\"],[0.6666666666666666,\"#ed7953\"],[0.7777777777777778,\"#fb9f3a\"],[0.8888888888888888,\"#fdca26\"],[1.0,\"#f0f921\"]],\"type\":\"histogram2d\"}],\"histogram2dcontour\":[{\"colorbar\":{\"outlinewidth\":0,\"ticks\":\"\"},\"colorscale\":[[0.0,\"#0d0887\"],[0.1111111111111111,\"#46039f\"],[0.2222222222222222,\"#7201a8\"],[0.3333333333333333,\"#9c179e\"],[0.4444444444444444,\"#bd3786\"],[0.5555555555555556,\"#d8576b\"],[0.6666666666666666,\"#ed7953\"],[0.7777777777777778,\"#fb9f3a\"],[0.8888888888888888,\"#fdca26\"],[1.0,\"#f0f921\"]],\"type\":\"histogram2dcontour\"}],\"mesh3d\":[{\"colorbar\":{\"outlinewidth\":0,\"ticks\":\"\"},\"type\":\"mesh3d\"}],\"parcoords\":[{\"line\":{\"colorbar\":{\"outlinewidth\":0,\"ticks\":\"\"}},\"type\":\"parcoords\"}],\"pie\":[{\"automargin\":true,\"type\":\"pie\"}],\"scatter\":[{\"marker\":{\"colorbar\":{\"outlinewidth\":0,\"ticks\":\"\"}},\"type\":\"scatter\"}],\"scatter3d\":[{\"line\":{\"colorbar\":{\"outlinewidth\":0,\"ticks\":\"\"}},\"marker\":{\"colorbar\":{\"outlinewidth\":0,\"ticks\":\"\"}},\"type\":\"scatter3d\"}],\"scattercarpet\":[{\"marker\":{\"colorbar\":{\"outlinewidth\":0,\"ticks\":\"\"}},\"type\":\"scattercarpet\"}],\"scattergeo\":[{\"marker\":{\"colorbar\":{\"outlinewidth\":0,\"ticks\":\"\"}},\"type\":\"scattergeo\"}],\"scattergl\":[{\"marker\":{\"colorbar\":{\"outlinewidth\":0,\"ticks\":\"\"}},\"type\":\"scattergl\"}],\"scattermapbox\":[{\"marker\":{\"colorbar\":{\"outlinewidth\":0,\"ticks\":\"\"}},\"type\":\"scattermapbox\"}],\"scatterpolar\":[{\"marker\":{\"colorbar\":{\"outlinewidth\":0,\"ticks\":\"\"}},\"type\":\"scatterpolar\"}],\"scatterpolargl\":[{\"marker\":{\"colorbar\":{\"outlinewidth\":0,\"ticks\":\"\"}},\"type\":\"scatterpolargl\"}],\"scatterternary\":[{\"marker\":{\"colorbar\":{\"outlinewidth\":0,\"ticks\":\"\"}},\"type\":\"scatterternary\"}],\"surface\":[{\"colorbar\":{\"outlinewidth\":0,\"ticks\":\"\"},\"colorscale\":[[0.0,\"#0d0887\"],[0.1111111111111111,\"#46039f\"],[0.2222222222222222,\"#7201a8\"],[0.3333333333333333,\"#9c179e\"],[0.4444444444444444,\"#bd3786\"],[0.5555555555555556,\"#d8576b\"],[0.6666666666666666,\"#ed7953\"],[0.7777777777777778,\"#fb9f3a\"],[0.8888888888888888,\"#fdca26\"],[1.0,\"#f0f921\"]],\"type\":\"surface\"}],\"table\":[{\"cells\":{\"fill\":{\"color\":\"#EBF0F8\"},\"line\":{\"color\":\"white\"}},\"header\":{\"fill\":{\"color\":\"#C8D4E3\"},\"line\":{\"color\":\"white\"}},\"type\":\"table\"}]},\"layout\":{\"annotationdefaults\":{\"arrowcolor\":\"#2a3f5f\",\"arrowhead\":0,\"arrowwidth\":1},\"autotypenumbers\":\"strict\",\"coloraxis\":{\"colorbar\":{\"outlinewidth\":0,\"ticks\":\"\"}},\"colorscale\":{\"diverging\":[[0,\"#8e0152\"],[0.1,\"#c51b7d\"],[0.2,\"#de77ae\"],[0.3,\"#f1b6da\"],[0.4,\"#fde0ef\"],[0.5,\"#f7f7f7\"],[0.6,\"#e6f5d0\"],[0.7,\"#b8e186\"],[0.8,\"#7fbc41\"],[0.9,\"#4d9221\"],[1,\"#276419\"]],\"sequential\":[[0.0,\"#0d0887\"],[0.1111111111111111,\"#46039f\"],[0.2222222222222222,\"#7201a8\"],[0.3333333333333333,\"#9c179e\"],[0.4444444444444444,\"#bd3786\"],[0.5555555555555556,\"#d8576b\"],[0.6666666666666666,\"#ed7953\"],[0.7777777777777778,\"#fb9f3a\"],[0.8888888888888888,\"#fdca26\"],[1.0,\"#f0f921\"]],\"sequentialminus\":[[0.0,\"#0d0887\"],[0.1111111111111111,\"#46039f\"],[0.2222222222222222,\"#7201a8\"],[0.3333333333333333,\"#9c179e\"],[0.4444444444444444,\"#bd3786\"],[0.5555555555555556,\"#d8576b\"],[0.6666666666666666,\"#ed7953\"],[0.7777777777777778,\"#fb9f3a\"],[0.8888888888888888,\"#fdca26\"],[1.0,\"#f0f921\"]]},\"colorway\":[\"#636efa\",\"#EF553B\",\"#00cc96\",\"#ab63fa\",\"#FFA15A\",\"#19d3f3\",\"#FF6692\",\"#B6E880\",\"#FF97FF\",\"#FECB52\"],\"font\":{\"color\":\"#2a3f5f\"},\"geo\":{\"bgcolor\":\"white\",\"lakecolor\":\"white\",\"landcolor\":\"#E5ECF6\",\"showlakes\":true,\"showland\":true,\"subunitcolor\":\"white\"},\"hoverlabel\":{\"align\":\"left\"},\"hovermode\":\"closest\",\"mapbox\":{\"style\":\"light\"},\"paper_bgcolor\":\"white\",\"plot_bgcolor\":\"#E5ECF6\",\"polar\":{\"angularaxis\":{\"gridcolor\":\"white\",\"linecolor\":\"white\",\"ticks\":\"\"},\"bgcolor\":\"#E5ECF6\",\"radialaxis\":{\"gridcolor\":\"white\",\"linecolor\":\"white\",\"ticks\":\"\"}},\"scene\":{\"xaxis\":{\"backgroundcolor\":\"#E5ECF6\",\"gridcolor\":\"white\",\"gridwidth\":2,\"linecolor\":\"white\",\"showbackground\":true,\"ticks\":\"\",\"zerolinecolor\":\"white\"},\"yaxis\":{\"backgroundcolor\":\"#E5ECF6\",\"gridcolor\":\"white\",\"gridwidth\":2,\"linecolor\":\"white\",\"showbackground\":true,\"ticks\":\"\",\"zerolinecolor\":\"white\"},\"zaxis\":{\"backgroundcolor\":\"#E5ECF6\",\"gridcolor\":\"white\",\"gridwidth\":2,\"linecolor\":\"white\",\"showbackground\":true,\"ticks\":\"\",\"zerolinecolor\":\"white\"}},\"shapedefaults\":{\"line\":{\"color\":\"#2a3f5f\"}},\"ternary\":{\"aaxis\":{\"gridcolor\":\"white\",\"linecolor\":\"white\",\"ticks\":\"\"},\"baxis\":{\"gridcolor\":\"white\",\"linecolor\":\"white\",\"ticks\":\"\"},\"bgcolor\":\"#E5ECF6\",\"caxis\":{\"gridcolor\":\"white\",\"linecolor\":\"white\",\"ticks\":\"\"}},\"title\":{\"x\":0.05},\"xaxis\":{\"automargin\":true,\"gridcolor\":\"white\",\"linecolor\":\"white\",\"ticks\":\"\",\"title\":{\"standoff\":15},\"zerolinecolor\":\"white\",\"zerolinewidth\":2},\"yaxis\":{\"automargin\":true,\"gridcolor\":\"white\",\"linecolor\":\"white\",\"ticks\":\"\",\"title\":{\"standoff\":15},\"zerolinecolor\":\"white\",\"zerolinewidth\":2}}},\"title\":{\"text\":\"Average High and Low Temperatures in New York\"},\"xaxis\":{\"title\":{\"text\":\"Month\"}},\"yaxis\":{\"title\":{\"text\":\"Temperature (degrees F)\"}}},                        {\"responsive\": true}                    ).then(function(){\n",
       "                            \n",
       "var gd = document.getElementById('449cc7e3-70e3-42ce-a7b5-adb057c8419c');\n",
       "var x = new MutationObserver(function (mutations, observer) {{\n",
       "        var display = window.getComputedStyle(gd).display;\n",
       "        if (!display || display === 'none') {{\n",
       "            console.log([gd, 'removed!']);\n",
       "            Plotly.purge(gd);\n",
       "            observer.disconnect();\n",
       "        }}\n",
       "}});\n",
       "\n",
       "// Listen for the removal of the full notebook cells\n",
       "var notebookContainer = gd.closest('#notebook-container');\n",
       "if (notebookContainer) {{\n",
       "    x.observe(notebookContainer, {childList: true});\n",
       "}}\n",
       "\n",
       "// Listen for the clearing of the current output cell\n",
       "var outputEl = gd.closest('.output');\n",
       "if (outputEl) {{\n",
       "    x.observe(outputEl, {childList: true});\n",
       "}}\n",
       "\n",
       "                        })                };                });            </script>        </div>"
      ]
     },
     "metadata": {},
     "output_type": "display_data"
    }
   ],
   "source": [
    "# reference taken from following link\n",
    "# https://stackoverflow.com/a/61494764\n",
    "\n",
    "fig = go.Figure()\n",
    "# Create and style traces\n",
    "fig.add_trace(go.Scatter(x=date, y=min, name='Minimum EVI',\n",
    "                         line=dict(color='firebrick', width=4)))\n",
    "fig.add_trace(go.Scatter(x=date, y=mean, name = 'Mean EVI',\n",
    "                         line=dict(color='royalblue', width=4)))\n",
    "fig.add_trace(go.Scatter(x=date, y=max, name='Max EVI',\n",
    "                         line=dict(color='firebrick', width=4) # dash options include 'dash', 'dot', and 'dashdot'\n",
    "))\n",
    "# Edit the layout\n",
    "fig.update_layout(title='Average High and Low Temperatures in New York',\n",
    "                   xaxis_title='Month',\n",
    "                   yaxis_title='Temperature (degrees F)')\n",
    "\n",
    "\n",
    "fig.show()"
   ]
  },
  {
   "cell_type": "code",
   "execution_count": null,
   "id": "51feb32f-8b4c-4e34-a8b5-2b267efb4f71",
   "metadata": {},
   "outputs": [],
   "source": []
  }
 ],
 "metadata": {
  "kernelspec": {
   "display_name": "Python 3",
   "language": "python",
   "name": "python3"
  },
  "language_info": {
   "codemirror_mode": {
    "name": "ipython",
    "version": 3
   },
   "file_extension": ".py",
   "mimetype": "text/x-python",
   "name": "python",
   "nbconvert_exporter": "python",
   "pygments_lexer": "ipython3",
   "version": "3.8.7"
  }
 },
 "nbformat": 4,
 "nbformat_minor": 5
}
