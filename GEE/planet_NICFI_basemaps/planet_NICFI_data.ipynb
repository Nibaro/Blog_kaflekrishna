{
 "cells": [
  {
   "cell_type": "markdown",
   "id": "20bff01a-5498-4dfe-9fd6-3428e41f8cc9",
   "metadata": {},
   "source": [
    "# Import Earth Engine module for python API"
   ]
  },
  {
   "cell_type": "code",
   "execution_count": 11,
   "id": "2b36326f-6f79-49db-92ed-6b043149a238",
   "metadata": {},
   "outputs": [],
   "source": [
    "import geemap, ee\n",
    "\n",
    "# For authentication, Please load this\n",
    "# first time load will suffice\n",
    "\n",
    "# ee.Authenticate()\n",
    "\n",
    "# Initialize the GEE Api with already verified credentials. \n",
    "# This works only if you have authenticated the GEE initally\n",
    "ee.Initialize()"
   ]
  },
  {
   "cell_type": "markdown",
   "id": "23cac75f-107b-46e2-b14a-26c4f411ce08",
   "metadata": {},
   "source": [
    "## Define area of interest"
   ]
  },
  {
   "cell_type": "code",
   "execution_count": 2,
   "id": "ac5744d0-f517-4b33-98bc-11932930a0df",
   "metadata": {},
   "outputs": [],
   "source": [
    "# get our Nepal boundary\n",
    "aoi = ee.FeatureCollection(\"FAO/GAUL/2015/level0\").filter(ee.Filter.eq('ADM0_NAME','Nepal')).geometry()"
   ]
  },
  {
   "cell_type": "markdown",
   "id": "1fa4f3d5-ef38-4e54-ba3d-75bcee8b8587",
   "metadata": {},
   "source": [
    "# Planet & NICFI Basemaps for Tropical Forest Monitoring - Tropical Asia\n",
    "### https://developers.google.com/earth-engine/datasets/catalog/projects_planet-nicfi_assets_basemaps_asia#description"
   ]
  },
  {
   "cell_type": "code",
   "execution_count": 3,
   "id": "b310c781-229f-4dcd-8051-2c0776fdb0fd",
   "metadata": {},
   "outputs": [],
   "source": [
    "nicfi = ee.ImageCollection('projects/planet-nicfi/assets/basemaps/asia')"
   ]
  },
  {
   "cell_type": "markdown",
   "id": "b46c7988-ed63-4dfd-8bd9-4ea38f5eadd9",
   "metadata": {},
   "source": [
    "### Note: You must have access to this data from planet portal, else you will recieve an error\n",
    "### You can sign up and get details from this portal:\n",
    "https://www.planet.com/nicfi/"
   ]
  },
  {
   "cell_type": "markdown",
   "id": "3d7e0618-6b07-4e0e-bd32-9d1b6b55f3ce",
   "metadata": {},
   "source": [
    "# Sample Vegetation indices"
   ]
  },
  {
   "cell_type": "code",
   "execution_count": 5,
   "id": "b43f67ca-c24f-41c3-9a8f-dfb5d0556f08",
   "metadata": {},
   "outputs": [],
   "source": [
    "def getNDVI(image):\n",
    "    \n",
    "    # Normalized difference vegetation index (NDVI)\n",
    "    ndvi = image.normalizedDifference(['N','R']).rename(\"NDVI\")\n",
    "    image = image.addBands(ndvi)\n",
    "\n",
    "    return(image)"
   ]
  },
  {
   "cell_type": "markdown",
   "id": "a415454e-0022-4267-b9dd-e282c1d67c36",
   "metadata": {},
   "source": [
    "## Filter image for desired dates and apply map function"
   ]
  },
  {
   "cell_type": "code",
   "execution_count": 14,
   "id": "45d83f30-3c89-4045-98ce-d319f834db89",
   "metadata": {},
   "outputs": [],
   "source": [
    "# Filter basemaps by date and get the first image from filtered results\n",
    "basemap= nicfi.filter(ee.Filter.date('2021-02-01','2021-07-01')).map(getNDVI).first()"
   ]
  },
  {
   "cell_type": "code",
   "execution_count": 19,
   "id": "90062995-d30d-4211-a33f-5f63d3279d77",
   "metadata": {},
   "outputs": [],
   "source": [
    "color = ['FFFFFF', 'CE7E45', 'DF923D', 'F1B555', 'FCD163', '99B718',\n",
    "               '74A901', '66A000', '529400', '3E8601', '207401', '056201',\n",
    "               '004C00', '023B01', '012E01', '011D01', '011301']\n",
    "pallete = {\"min\":0, \"max\":1, 'palette':color}"
   ]
  },
  {
   "cell_type": "markdown",
   "id": "65267ce4-4b01-4440-9b79-572aceec85c8",
   "metadata": {},
   "source": [
    "# Visualization of Imagery"
   ]
  },
  {
   "cell_type": "code",
   "execution_count": 20,
   "id": "d6550249-bc95-432f-993e-c8f42722f1c6",
   "metadata": {},
   "outputs": [
    {
     "data": {
      "application/vnd.jupyter.widget-view+json": {
       "model_id": "7b0ac57f52ba4b54ae26ba9f26ae3f05",
       "version_major": 2,
       "version_minor": 0
      },
      "text/plain": [
       "Map(center=[28.268224502649357, 83.97637443188768], controls=(WidgetControl(options=['position', 'transparent_…"
      ]
     },
     "metadata": {},
     "output_type": "display_data"
    }
   ],
   "source": [
    "# initialize our map\n",
    "map1 = geemap.Map()\n",
    "map1.centerObject(aoi, 8)\n",
    "map1.addLayer(basemap.clip(aoi), {\"bands\":[\"R\",\"G\",\"B\"],\"min\":64,\"max\":5454,\"gamma\":1.8}, \"mosiac-false-color-planet\")\n",
    "map1.addLayer(basemap.clip(aoi), {\"bands\":[\"N\",\"R\",\"G\"],\"min\":64,\"max\":5454,\"gamma\":1.8}, \"mosiac-planet\")\n",
    "map1.addLayer(basemap.clip(aoi).select('NDVI'), pallete, \"NDVI\")\n",
    "\n",
    "map1.addLayerControl()\n",
    "map1"
   ]
  },
  {
   "cell_type": "code",
   "execution_count": null,
   "id": "6967d05f-086e-41c9-b4ec-a15c1590541c",
   "metadata": {},
   "outputs": [],
   "source": []
  }
 ],
 "metadata": {
  "kernelspec": {
   "display_name": "Python 3",
   "language": "python",
   "name": "python3"
  },
  "language_info": {
   "codemirror_mode": {
    "name": "ipython",
    "version": 3
   },
   "file_extension": ".py",
   "mimetype": "text/x-python",
   "name": "python",
   "nbconvert_exporter": "python",
   "pygments_lexer": "ipython3",
   "version": "3.8.7"
  }
 },
 "nbformat": 4,
 "nbformat_minor": 5
}
