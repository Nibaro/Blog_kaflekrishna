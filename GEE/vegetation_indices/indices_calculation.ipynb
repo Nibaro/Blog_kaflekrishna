{
 "cells": [
  {
   "cell_type": "markdown",
   "id": "a9e88ae5-f52b-4420-aae1-88e9d87ec995",
   "metadata": {},
   "source": [
    "# Import the Module and authenticate google earth engine"
   ]
  },
  {
   "cell_type": "code",
   "execution_count": null,
   "id": "172e3f9e-1fdc-47cf-ae62-d89176f44d03",
   "metadata": {},
   "outputs": [],
   "source": [
    "import geemap, ee"
   ]
  },
  {
   "cell_type": "code",
   "execution_count": 8,
   "id": "022ae8b1-a779-400b-bada-eda9aefa515e",
   "metadata": {},
   "outputs": [],
   "source": [
    "ee.Initialize()"
   ]
  },
  {
   "cell_type": "markdown",
   "id": "b8c3d73d-ddde-4550-a475-341ac5b2be9b",
   "metadata": {},
   "source": [
    "# Data import and conversion to earth engine object"
   ]
  },
  {
   "cell_type": "code",
   "execution_count": 11,
   "id": "45a12e34-42bb-4eef-85f5-2b590bba1a12",
   "metadata": {},
   "outputs": [],
   "source": [
    "study_area_shp = 'shapefile/bardiya.shp'\n",
    "aoi = geemap.shp_to_ee(study_area_shp)"
   ]
  },
  {
   "cell_type": "markdown",
   "id": "2b65743c-86fc-4629-8c94-8c7a0a4f19ea",
   "metadata": {},
   "source": [
    "# Calculation of vegetation indices GEE platforms"
   ]
  },
  {
   "cell_type": "markdown",
   "id": "30a7de66-2300-460c-9517-2f800ac88f7a",
   "metadata": {},
   "source": [
    "## EVI"
   ]
  },
  {
   "cell_type": "code",
   "execution_count": 12,
   "id": "a724ecf4-b08d-423d-b6f8-f2663cf2c7df",
   "metadata": {},
   "outputs": [],
   "source": [
    "def getEVI(image):\n",
    "    # Compute the EVI using an expression.\n",
    "    EVI = image.expression(\n",
    "        '2.5 * ((NIR - RED) / (NIR + 6 * RED - 7.5 * BLUE + 1))', {\n",
    "            'NIR': image.select('B8').divide(10000),\n",
    "            'RED': image.select('B4').divide(10000),\n",
    "            'BLUE': image.select('B2').divide(10000)\n",
    "        }).rename(\"EVI\")\n",
    "\n",
    "    image = image.addBands(EVI)\n",
    "\n",
    "    return(image)"
   ]
  },
  {
   "cell_type": "markdown",
   "id": "fd9f0627-5389-4b0c-b981-b6636ef376bf",
   "metadata": {},
   "source": [
    "### GLI (Green Leaf Index)"
   ]
  },
  {
   "cell_type": "code",
   "execution_count": 13,
   "id": "d2286718-7eed-4598-bf90-b22b10ddbfef",
   "metadata": {},
   "outputs": [],
   "source": [
    "# // GLI (Green Leaf Index)\n",
    "def getGLI(image):\n",
    "    # Compute the EVI using an expression.\n",
    "    GLI = image.expression ('(((GREEN - RED) + (GREEN - BLUE)) / ((2 * GREEN) + RED + BLUE))', {\n",
    "        'GREEN': image.select ('B3'),  \n",
    "        'RED': image.select ('B4'),\n",
    "        'BLUE': image.select ('B2')\n",
    "        }).rename(\"GLI\")\n",
    "    image = image.addBands(EVI)\n",
    "\n",
    "    return(image)\n"
   ]
  },
  {
   "cell_type": "markdown",
   "id": "cd6793dd-8737-48a2-be79-856e933b349a",
   "metadata": {},
   "source": [
    "### SAVI (Soil Adjusted Vegetation Index)"
   ]
  },
  {
   "cell_type": "code",
   "execution_count": 14,
   "id": "97b848d0-7052-4f3a-95e3-d4cd8825ad6e",
   "metadata": {},
   "outputs": [],
   "source": [
    "# SAVI (Soil Adjusted Vegetation Index)\n",
    "def getSAVI(image):\n",
    "    # Compute the EVI using an expression.\n",
    "    SAVI = image.expression ('(((NIR - RED) / (NIR + RED + L))* (1+L))',{\n",
    "        'L': 0.5, # Cobertura vegetation 0-1\n",
    "        'NIR': image.select ('B8'),\n",
    "        'RED': image.select ('B4')\n",
    "    }).rename(\"SAVI\")\n",
    "    \n",
    "    image = image.addBands(SAVI)\n",
    "\n",
    "    return(image)"
   ]
  },
  {
   "cell_type": "markdown",
   "id": "24de1e98-8936-4083-aab9-6da7ce7e6772",
   "metadata": {},
   "source": [
    "### GCI (Green Chlorophyll Index)"
   ]
  },
  {
   "cell_type": "code",
   "execution_count": 15,
   "id": "11d8d265-50bb-48f2-b64b-ff4cb941ca09",
   "metadata": {},
   "outputs": [],
   "source": [
    "# GCI (Green Chlorophyll Index)\n",
    "def getGCI(image):\n",
    "    # Compute the EVI using an expression.\n",
    "    GCI = image.expression ('(((NIR) / (GREEN)) - 1)', {\n",
    "        'NIR': image.select ('B8'),  \n",
    "        'GREEN': image.select ('B3')\n",
    "        }).rename(\"GCI\")\n",
    "    \n",
    "    image = image.addBands(GCI)\n",
    "\n",
    "    return(image)"
   ]
  },
  {
   "cell_type": "markdown",
   "id": "6f8c11cb-eb72-427a-8e9c-a704bcb4edda",
   "metadata": {},
   "source": [
    "### RGR (Red Green Ratio)"
   ]
  },
  {
   "cell_type": "code",
   "execution_count": 16,
   "id": "ac43e05f-fd4f-4c07-a1e7-91d46aa336d9",
   "metadata": {},
   "outputs": [],
   "source": [
    "# RGR (Red Green Ratio)\n",
    "def getRGR(image):\n",
    "    # Compute the EVI using an expression.\n",
    "    RGR = image.expression ('((RED) / (GREEN))', {\n",
    "        'RED': image.select ('B4'),  \n",
    "        'GREEN': image.select ('B3')\n",
    "    }).rename(\"RGR\")\n",
    "    \n",
    "    image = image.addBands(RGR)\n",
    "\n",
    "    return(image)"
   ]
  },
  {
   "cell_type": "markdown",
   "id": "0bebd2e3-a176-4756-924e-74c38797c651",
   "metadata": {},
   "source": [
    "### SIPI (Structure Insensitive Pigment Index)"
   ]
  },
  {
   "cell_type": "code",
   "execution_count": 17,
   "id": "87504a6a-0261-4cc4-bab9-3d1e118a1a01",
   "metadata": {},
   "outputs": [],
   "source": [
    "# SIPI (Structure Insensitive Pigment Index)\n",
    "def getSIPI(image):\n",
    "    # Compute the EVI using an expression.\n",
    "    SIPI = image.expression ('((NIR - BLUE) / (NIR - RED))',{\n",
    "        'NIR': image.select ('B8'),\n",
    "        'BLUE': image.select ('B2'), \n",
    "        'RED': image.select ('B4')\n",
    "    }).rename(\"SIPI\")\n",
    "    \n",
    "    image = image.addBands(SIPI)\n",
    "\n",
    "    return(image)"
   ]
  },
  {
   "cell_type": "markdown",
   "id": "83b626e5-01aa-4f93-8810-4a2ce9c5e4e3",
   "metadata": {},
   "source": [
    "### ARVI (Atmospherically Resistant Vegetation Index)"
   ]
  },
  {
   "cell_type": "code",
   "execution_count": 18,
   "id": "8e2e1ac2-2d20-4ca7-a321-04af6a41dd7d",
   "metadata": {},
   "outputs": [],
   "source": [
    "# ARVI (Atmospherically Resistant Vegetation Index)\n",
    "def getARVI(image):\n",
    "    # Compute the EVI using an expression.\n",
    "    ARVI = image.expression ('((NIR - (2 * RED) + BLUE) / (NIR + (2 * RED) + BLUE))',{\n",
    "        'NIR': image.select ('B8'),\n",
    "        'BLUE': image.select ('B2'), \n",
    "        'RED': image.select ('B4')\n",
    "    }).rename(\"ARVI\")\n",
    "    \n",
    "    image = image.addBands(ARVI)\n",
    "\n",
    "    return(image)"
   ]
  },
  {
   "cell_type": "markdown",
   "id": "c9e99493-688b-455a-b2ee-e0579557f1a2",
   "metadata": {},
   "source": [
    "### NBRI (Normalized Burned Ratio Index)"
   ]
  },
  {
   "cell_type": "code",
   "execution_count": 22,
   "id": "9b96aada-b4e7-4a4b-be54-794e9a4c9cf1",
   "metadata": {},
   "outputs": [],
   "source": [
    "# NBRI (Normalized Burned Ratio Index)\n",
    "def getNBRI(image):\n",
    "    # Compute the EVI using an expression.\n",
    "    NBRI = image.expression ('(NIR - SWIR) / (NIR + SWIR)', {\n",
    "        'NIR': image.select ('B8'),  \n",
    "        'SWIR': image.select ('B12')\n",
    "    }).rename(\"NBRI\")\n",
    "    \n",
    "    image = image.addBands(NBRI)\n",
    "\n",
    "    return(image)"
   ]
  },
  {
   "cell_type": "markdown",
   "id": "d57742a5-baaa-4250-ad7f-f7a90150ef70",
   "metadata": {},
   "source": [
    "# filter image for your desired dates and apply vegetation indices calculation"
   ]
  },
  {
   "cell_type": "code",
   "execution_count": 23,
   "id": "761a2649-1d3c-4f5a-a13c-2af362e66919",
   "metadata": {},
   "outputs": [],
   "source": [
    "Sentinel_data = ee.ImageCollection('COPERNICUS/S2') \\\n",
    "    .filterDate(\"2022-03-01\",\"2022-03-31\").filterBounds(aoi) \\\n",
    "    .map(getNBRI).median()"
   ]
  },
  {
   "cell_type": "markdown",
   "id": "513d8008-bdf7-4fe6-864e-13f4b331f204",
   "metadata": {},
   "source": [
    "## Visualization parameters "
   ]
  },
  {
   "cell_type": "code",
   "execution_count": 24,
   "id": "8b527000-53c1-491f-a25c-e4c099f280cc",
   "metadata": {},
   "outputs": [],
   "source": [
    "color = ['FFFFFF', 'CE7E45', 'DF923D', 'F1B555', 'FCD163', '99B718',\n",
    "               '74A901', '66A000', '529400', '3E8601', '207401', '056201',\n",
    "               '004C00', '023B01', '012E01', '011D01', '011301']\n",
    "pallete = {\"min\":0, \"max\":1, 'palette':color}"
   ]
  },
  {
   "cell_type": "markdown",
   "id": "7d85c667-eded-4cfb-8bdb-180ef7d5601a",
   "metadata": {},
   "source": [
    "# Add layers and visualize on Map"
   ]
  },
  {
   "cell_type": "code",
   "execution_count": 25,
   "id": "73188959-21c6-49d5-adc9-168c86494a6f",
   "metadata": {},
   "outputs": [
    {
     "data": {
      "application/vnd.jupyter.widget-view+json": {
       "model_id": "2438106714b342d8bf850a6e05c84b89",
       "version_major": 2,
       "version_minor": 0
      },
      "text/plain": [
       "Map(center=[28.741569646024022, 80.87937460930668], controls=(WidgetControl(options=['position', 'transparent_…"
      ]
     },
     "metadata": {},
     "output_type": "display_data"
    }
   ],
   "source": [
    "# initialize our map\n",
    "map1 = geemap.Map()\n",
    "map1.centerObject(aoi, 8)\n",
    "map1.addLayer(Sentinel_data.clip(aoi).select('NBRI'), pallete, \"NBRI\")\n",
    "\n",
    "map1.addLayerControl()\n",
    "map1"
   ]
  },
  {
   "cell_type": "code",
   "execution_count": null,
   "id": "5d26bbad-7522-4d88-a0aa-7cfa36ede6c4",
   "metadata": {},
   "outputs": [],
   "source": []
  }
 ],
 "metadata": {
  "kernelspec": {
   "display_name": "Python 3",
   "language": "python",
   "name": "python3"
  },
  "language_info": {
   "codemirror_mode": {
    "name": "ipython",
    "version": 3
   },
   "file_extension": ".py",
   "mimetype": "text/x-python",
   "name": "python",
   "nbconvert_exporter": "python",
   "pygments_lexer": "ipython3",
   "version": "3.8.7"
  }
 },
 "nbformat": 4,
 "nbformat_minor": 5
}
