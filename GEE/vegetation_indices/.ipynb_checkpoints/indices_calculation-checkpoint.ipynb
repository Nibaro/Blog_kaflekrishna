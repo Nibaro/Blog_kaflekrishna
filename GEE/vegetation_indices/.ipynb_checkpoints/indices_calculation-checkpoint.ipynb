{
 "cells": [
  {
   "cell_type": "code",
   "execution_count": 1,
   "id": "dc5542af-8c62-4d2f-bb64-5aa36b3c65a1",
   "metadata": {},
   "outputs": [],
   "source": [
    "import geemap, ee"
   ]
  },
  {
   "cell_type": "code",
   "execution_count": 8,
   "id": "022ae8b1-a779-400b-bada-eda9aefa515e",
   "metadata": {},
   "outputs": [],
   "source": [
    "ee.Initialize()"
   ]
  },
  {
   "cell_type": "code",
   "execution_count": 11,
   "id": "45a12e34-42bb-4eef-85f5-2b590bba1a12",
   "metadata": {},
   "outputs": [],
   "source": [
    "study_area_shp = 'shapefile/bardiya.shp'\n",
    "aoi = geemap.shp_to_ee(study_area_shp)"
   ]
  },
  {
   "cell_type": "code",
   "execution_count": 12,
   "id": "a724ecf4-b08d-423d-b6f8-f2663cf2c7df",
   "metadata": {},
   "outputs": [],
   "source": [
    "def getEVI(image):\n",
    "    # Compute the EVI using an expression.\n",
    "    EVI = image.expression(\n",
    "        '2.5 * ((NIR - RED) / (NIR + 6 * RED - 7.5 * BLUE + 1))', {\n",
    "            'NIR': image.select('B8').divide(10000),\n",
    "            'RED': image.select('B4').divide(10000),\n",
    "            'BLUE': image.select('B2').divide(10000)\n",
    "        }).rename(\"EVI\")\n",
    "\n",
    "    image = image.addBands(EVI)\n",
    "\n",
    "    return(image)"
   ]
  },
  {
   "cell_type": "code",
   "execution_count": 13,
   "id": "d2286718-7eed-4598-bf90-b22b10ddbfef",
   "metadata": {},
   "outputs": [],
   "source": [
    "# // GLI (Green Leaf Index)\n",
    "def getGLI(image):\n",
    "    # Compute the EVI using an expression.\n",
    "    GLI = image.expression ('(((GREEN - RED) + (GREEN - BLUE)) / ((2 * GREEN) + RED + BLUE))', {\n",
    "        'GREEN': image.select ('B3'),  \n",
    "        'RED': image.select ('B4'),\n",
    "        'BLUE': image.select ('B2')\n",
    "        }).rename(\"GLI\")\n",
    "    image = image.addBands(EVI)\n",
    "\n",
    "    return(image)\n"
   ]
  },
  {
   "cell_type": "code",
   "execution_count": 14,
   "id": "97b848d0-7052-4f3a-95e3-d4cd8825ad6e",
   "metadata": {},
   "outputs": [],
   "source": [
    "# SAVI (Soil Adjusted Vegetation Index)\n",
    "def getSAVI(image):\n",
    "    # Compute the EVI using an expression.\n",
    "    SAVI = image.expression ('(((NIR - RED) / (NIR + RED + L))* (1+L))',{\n",
    "        'L': 0.5, # Cobertura vegetation 0-1\n",
    "        'NIR': image.select ('B8'),\n",
    "        'RED': image.select ('B4')\n",
    "    }).rename(\"SAVI\")\n",
    "    \n",
    "    image = image.addBands(SAVI)\n",
    "\n",
    "    return(image)"
   ]
  },
  {
   "cell_type": "code",
   "execution_count": null,
   "id": "234ca43d-a5d6-425e-8364-c9f0eed0ef0e",
   "metadata": {},
   "outputs": [],
   "source": []
  },
  {
   "cell_type": "code",
   "execution_count": 15,
   "id": "11d8d265-50bb-48f2-b64b-ff4cb941ca09",
   "metadata": {},
   "outputs": [],
   "source": [
    "# GCI (Green Chlorophyll Index)\n",
    "def getGCI(image):\n",
    "    # Compute the EVI using an expression.\n",
    "    GCI = image.expression ('(((NIR) / (GREEN)) - 1)', {\n",
    "        'NIR': image.select ('B8'),  \n",
    "        'GREEN': image.select ('B3')\n",
    "        }).rename(\"GCI\")\n",
    "    \n",
    "    image = image.addBands(GCI)\n",
    "\n",
    "    return(image)"
   ]
  },
  {
   "cell_type": "code",
   "execution_count": 16,
   "id": "ac43e05f-fd4f-4c07-a1e7-91d46aa336d9",
   "metadata": {},
   "outputs": [],
   "source": [
    "# RGR (Red Green Ratio)\n",
    "def getRGR(image):\n",
    "    # Compute the EVI using an expression.\n",
    "    RGR = image.expression ('((RED) / (GREEN))', {\n",
    "        'RED': image.select ('B4'),  \n",
    "        'GREEN': image.select ('B3')\n",
    "    }).rename(\"RGR\")\n",
    "    \n",
    "    image = image.addBands(RGR)\n",
    "\n",
    "    return(image)"
   ]
  },
  {
   "cell_type": "code",
   "execution_count": 17,
   "id": "87504a6a-0261-4cc4-bab9-3d1e118a1a01",
   "metadata": {},
   "outputs": [],
   "source": [
    "# SIPI (Structure Insensitive Pigment Index)\n",
    "def getSIPI(image):\n",
    "    # Compute the EVI using an expression.\n",
    "    SIPI = image.expression ('((NIR - BLUE) / (NIR - RED))',{\n",
    "        'NIR': image.select ('B8'),\n",
    "        'BLUE': image.select ('B2'), \n",
    "        'RED': image.select ('B4')\n",
    "    }).rename(\"SIPI\")\n",
    "    \n",
    "    image = image.addBands(SIPI)\n",
    "\n",
    "    return(image)"
   ]
  },
  {
   "cell_type": "code",
   "execution_count": 18,
   "id": "8e2e1ac2-2d20-4ca7-a321-04af6a41dd7d",
   "metadata": {},
   "outputs": [],
   "source": [
    "# ARVI (Atmospherically Resistant Vegetation Index)\n",
    "def getARVI(image):\n",
    "    # Compute the EVI using an expression.\n",
    "    ARVI = image.expression ('((NIR - (2 * RED) + BLUE) / (NIR + (2 * RED) + BLUE))',{\n",
    "        'NIR': image.select ('B8'),\n",
    "        'BLUE': image.select ('B2'), \n",
    "        'RED': image.select ('B4')\n",
    "    }).rename(\"ARVI\")\n",
    "    \n",
    "    image = image.addBands(ARVI)\n",
    "\n",
    "    return(image)"
   ]
  },
  {
   "cell_type": "code",
   "execution_count": 22,
   "id": "9b96aada-b4e7-4a4b-be54-794e9a4c9cf1",
   "metadata": {},
   "outputs": [],
   "source": [
    "# NBRI (Normalized Burned Ratio Index)\n",
    "def getNBRI(image):\n",
    "    # Compute the EVI using an expression.\n",
    "    NBRI = image.expression ('(NIR - SWIR) / (NIR + SWIR)', {\n",
    "        'NIR': image.select ('B8'),  \n",
    "        'SWIR': image.select ('B12')\n",
    "    }).rename(\"NBRI\")\n",
    "    \n",
    "    image = image.addBands(NBRI)\n",
    "\n",
    "    return(image)"
   ]
  },
  {
   "cell_type": "code",
   "execution_count": 23,
   "id": "761a2649-1d3c-4f5a-a13c-2af362e66919",
   "metadata": {},
   "outputs": [],
   "source": [
    "Sentinel_data = ee.ImageCollection('COPERNICUS/S2') \\\n",
    "    .filterDate(\"2022-03-01\",\"2022-03-31\").filterBounds(aoi) \\\n",
    "    .map(getNBRI).median()"
   ]
  },
  {
   "cell_type": "code",
   "execution_count": 24,
   "id": "8b527000-53c1-491f-a25c-e4c099f280cc",
   "metadata": {},
   "outputs": [],
   "source": [
    "color = ['FFFFFF', 'CE7E45', 'DF923D', 'F1B555', 'FCD163', '99B718',\n",
    "               '74A901', '66A000', '529400', '3E8601', '207401', '056201',\n",
    "               '004C00', '023B01', '012E01', '011D01', '011301']\n",
    "pallete = {\"min\":0, \"max\":1, 'palette':color}"
   ]
  },
  {
   "cell_type": "code",
   "execution_count": 25,
   "id": "73188959-21c6-49d5-adc9-168c86494a6f",
   "metadata": {},
   "outputs": [
    {
     "data": {
      "application/vnd.jupyter.widget-view+json": {
       "model_id": "2438106714b342d8bf850a6e05c84b89",
       "version_major": 2,
       "version_minor": 0
      },
      "text/plain": [
       "Map(center=[28.741569646024022, 80.87937460930668], controls=(WidgetControl(options=['position', 'transparent_…"
      ]
     },
     "metadata": {},
     "output_type": "display_data"
    }
   ],
   "source": [
    "# initialize our map\n",
    "map1 = geemap.Map()\n",
    "map1.centerObject(aoi, 8)\n",
    "map1.addLayer(Sentinel_data.clip(aoi).select('NBRI'), pallete, \"NBRI\")\n",
    "\n",
    "map1.addLayerControl()\n",
    "map1"
   ]
  },
  {
   "cell_type": "code",
   "execution_count": null,
   "id": "5d26bbad-7522-4d88-a0aa-7cfa36ede6c4",
   "metadata": {},
   "outputs": [],
   "source": []
  }
 ],
 "metadata": {
  "kernelspec": {
   "display_name": "Python 3",
   "language": "python",
   "name": "python3"
  },
  "language_info": {
   "codemirror_mode": {
    "name": "ipython",
    "version": 3
   },
   "file_extension": ".py",
   "mimetype": "text/x-python",
   "name": "python",
   "nbconvert_exporter": "python",
   "pygments_lexer": "ipython3",
   "version": "3.8.7"
  }
 },
 "nbformat": 4,
 "nbformat_minor": 5
}
