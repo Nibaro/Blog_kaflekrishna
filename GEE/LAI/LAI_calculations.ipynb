{
 "cells": [
  {
   "cell_type": "markdown",
   "id": "6d427698-8f8a-46a0-b372-a31308675912",
   "metadata": {},
   "source": [
    "# Import earth engine api, geemap and authenticate GEE"
   ]
  },
  {
   "cell_type": "code",
   "execution_count": 1,
   "id": "60ada7b8-c78f-40c4-8b51-092540bcb15c",
   "metadata": {},
   "outputs": [],
   "source": [
    "# Import earth engine python api and geemap \n",
    "import geemap, ee\n",
    "\n",
    "# Authenticate the earthengine with credentials\n",
    "ee.Initialize()"
   ]
  },
  {
   "cell_type": "markdown",
   "id": "a6bc5bf7-c4b9-4773-9dd5-a323692454f5",
   "metadata": {},
   "source": [
    "# Provide area of interest for calculation"
   ]
  },
  {
   "cell_type": "code",
   "execution_count": 3,
   "id": "ba4312ae-c633-4a11-99c0-31e99025c9df",
   "metadata": {},
   "outputs": [],
   "source": [
    "# get our Nepal boundary\n",
    "# I have taken level 0 data for country data from FAO datasets\n",
    "aoi = ee.FeatureCollection(\"FAO/GAUL/2015/level0\") \\\n",
    "   .filter(ee.Filter.eq('ADM0_NAME','Nepal')).geometry() # adjust indentation here, May get error"
   ]
  },
  {
   "cell_type": "markdown",
   "id": "45369aa2-e9a5-43ca-b832-07c5e8489c0c",
   "metadata": {},
   "source": [
    "# Define function for EVI calculations"
   ]
  },
  {
   "cell_type": "code",
   "execution_count": 11,
   "id": "1442231b-313d-4cb2-be3f-6b2259925819",
   "metadata": {},
   "outputs": [],
   "source": [
    "def getEVI(image):\n",
    "    # Compute the EVI using an expression.\n",
    "    EVI = image.expression(\n",
    "        '2.5 * ((NIR - RED) / (NIR + 6 * RED - 7.5 * BLUE + 1))', {\n",
    "            'NIR': image.select('B8').divide(10000),\n",
    "            'RED': image.select('B4').divide(10000),\n",
    "            'BLUE': image.select('B2').divide(10000)\n",
    "        }).rename(\"EVI\")\n",
    "\n",
    "    image = image.addBands(EVI)\n",
    "\n",
    "    return(image)"
   ]
  },
  {
   "cell_type": "markdown",
   "id": "c66c45d8-45e1-435c-b7b8-850aa52ea571",
   "metadata": {},
   "source": [
    "### Date of image, addtion in image collection as a properties"
   ]
  },
  {
   "cell_type": "code",
   "execution_count": 6,
   "id": "58b98b7a-ada2-4ab1-b44b-d7ba6132b84d",
   "metadata": {},
   "outputs": [],
   "source": [
    "def addDate(image):\n",
    "    img_date = ee.Date(image.date())\n",
    "    img_date = ee.Number.parse(img_date.format('YYYYMMdd'))\n",
    "    return image.addBands(ee.Image(img_date).rename('date').toInt())"
   ]
  },
  {
   "cell_type": "markdown",
   "id": "20078dfd-4610-40e6-a4bc-4fa2dc09ab23",
   "metadata": {},
   "source": [
    "# Filter image and apply EVI computation formula"
   ]
  },
  {
   "cell_type": "code",
   "execution_count": 17,
   "id": "979be35f-d7b6-4904-86f5-f38117088771",
   "metadata": {},
   "outputs": [],
   "source": [
    "# filter sentinel 2 images and apply the EVI formula, finally we obtain \n",
    "# single image with median operation\n",
    "\n",
    "Sentinel_data = ee.ImageCollection('COPERNICUS/S2') \\\n",
    "    .filterDate(\"2022-03-01\",\"2022-03-31\").filterBounds(aoi) \\\n",
    "    .map(getEVI)"
   ]
  },
  {
   "cell_type": "markdown",
   "id": "86112014-3068-48da-b76f-a254370391d2",
   "metadata": {},
   "source": [
    "# Computation of EVI \n",
    "### we will be using formula: LAI = (3.618*EVI - 0.118) for LAI"
   ]
  },
  {
   "cell_type": "code",
   "execution_count": 18,
   "id": "90085196-92f0-4a2b-89cf-443f909bc448",
   "metadata": {},
   "outputs": [],
   "source": [
    "def getLAI(image):\n",
    "    LAI = image.expression(\n",
    "        '(3.618*EVI - 0.118)', {\n",
    "            'EVI': image.select('EVI')\n",
    "        }).rename(\"LAI\")\n",
    "    image = image.addBands(LAI)\n",
    "\n",
    "    return(image)"
   ]
  },
  {
   "cell_type": "markdown",
   "id": "c80f35bc-18a5-46c7-a2f4-1a2cefb28c3f",
   "metadata": {},
   "source": [
    "# Apply LAI computation function to the image "
   ]
  },
  {
   "cell_type": "code",
   "execution_count": 23,
   "id": "825962af-917d-4dfc-af21-2f86a1a4ab73",
   "metadata": {},
   "outputs": [],
   "source": [
    "Lai_image = Sentinel_data.map(getLAI).map(addDate).median().clip(aoi)"
   ]
  },
  {
   "cell_type": "markdown",
   "id": "3f38d734-ebe4-4d55-a07a-7dc934cf59ba",
   "metadata": {},
   "source": [
    "# Add layers to map and visualize it."
   ]
  },
  {
   "cell_type": "code",
   "execution_count": 27,
   "id": "01f25154-9a14-4f92-9a69-9bb28e755c3d",
   "metadata": {},
   "outputs": [
    {
     "data": {
      "application/vnd.jupyter.widget-view+json": {
       "model_id": "8b4fad3c8af2434d8c6222697155153b",
       "version_major": 2,
       "version_minor": 0
      },
      "text/plain": [
       "Map(center=[28.268224502649357, 83.97637443188768], controls=(WidgetControl(options=['position', 'transparent_…"
      ]
     },
     "metadata": {},
     "output_type": "display_data"
    }
   ],
   "source": [
    "# set some thresholds\n",
    "#  A nice EVI palette\n",
    "palett = [\n",
    "    'FFFFFF', 'CE7E45', 'DF923D', 'F1B555', 'FCD163', '99B718',\n",
    "    '74A901', '66A000', '529400', '3E8601', '207401', '056201',\n",
    "    '004C00', '023B01', '012E01', '011D01', '011301']\n",
    "\n",
    "pall = {\"min\":0.5, \"max\":3.5, 'palette':palett}\n",
    "map1 = geemap.Map()\n",
    "map1.centerObject(aoi, 8)\n",
    "map1.addLayer(Lai_image.select('LAI'), pall, \"LAI\")\n",
    "\n",
    "map1.addLayerControl()\n",
    "map1"
   ]
  },
  {
   "cell_type": "code",
   "execution_count": null,
   "id": "4b983b42-8a10-4e32-a799-cac9717f164c",
   "metadata": {},
   "outputs": [],
   "source": []
  }
 ],
 "metadata": {
  "kernelspec": {
   "display_name": "Python 3",
   "language": "python",
   "name": "python3"
  },
  "language_info": {
   "codemirror_mode": {
    "name": "ipython",
    "version": 3
   },
   "file_extension": ".py",
   "mimetype": "text/x-python",
   "name": "python",
   "nbconvert_exporter": "python",
   "pygments_lexer": "ipython3",
   "version": "3.8.7"
  }
 },
 "nbformat": 4,
 "nbformat_minor": 5
}
